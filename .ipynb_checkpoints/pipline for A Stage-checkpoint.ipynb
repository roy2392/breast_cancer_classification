{
 "cells": [
  {
   "cell_type": "markdown",
   "id": "9cb02896",
   "metadata": {},
   "source": [
    "# pipline for A Stage"
   ]
  },
  {
   "cell_type": "markdown",
   "id": "d30eaf8e",
   "metadata": {},
   "source": [
    "A STAGE\n",
    "\n",
    "SEER*Stat Name: SEER historic stage A\n",
    "\n",
    "Field Description: Derived from Collaborative Stage (CS) for 2004+ and Extent of Disease (EOD) from 1973-2003. It is a simplified version of stage: in situ, localized, regional, distant, & unknown. Over time several different EOD schemes have been used. Thus caution should be used when doing trend analysis. For more information including sites and years for which it isn't calculated, see http://seer.cancer.gov/seerstat/variables/seer/lrd-stage.\n",
    "\n",
    "0 Regional — A neoplasm that has extended 1) beyond the limits of the organ of origin\n",
    "directly into surrounding organs or tissues; 2) into regional lymph nodes by way of the\n",
    "lymphatic system; or 3) by a combination of extension and regional lymph nodes.\n",
    "\n",
    "1 Distant — A neoplasm that has spread to parts of the body remote from the primary\n",
    "tumor either by direct extension or by discontinuous metastasis (e.g., implantation or\n",
    "seeding) to distant organs, issues, or via the lymphatic system to distant lymph nodes."
   ]
  },
  {
   "cell_type": "code",
   "execution_count": 1,
   "id": "4b84d9bc",
   "metadata": {},
   "outputs": [],
   "source": [
    "import numpy as np # linear algebra\n",
    "import pandas as pd # data processing, CSV file I/O (e.g. pd.read_csv)\n",
    "import sklearn.preprocessing as preprocessing\n",
    "import matplotlib.pyplot as plt\n",
    "import seaborn as sns\n",
    "from numpy import mean\n",
    "from imblearn.pipeline import Pipeline\n",
    "from imblearn.over_sampling import SMOTE\n",
    "from sklearn.preprocessing import OneHotEncoder\n",
    "from sklearn.preprocessing import FunctionTransformer\n",
    "# grid search k value for SMOTE oversampling for imbalanced classification\n",
    "from sklearn.datasets import make_classification\n",
    "from sklearn.model_selection import cross_val_score\n",
    "from sklearn.model_selection import RepeatedStratifiedKFold\n",
    "from sklearn.tree import DecisionTreeClassifier\n",
    "from imblearn.over_sampling import SMOTE\n",
    "from imblearn.under_sampling import RandomUnderSampler\n",
    "from sklearn.preprocessing import StandardScaler\n",
    "from sklearn.model_selection import cross_val_score, RepeatedStratifiedKFold\n",
    "from sklearn.metrics import confusion_matrix, classification_report\n",
    "from sklearn.metrics import accuracy_score, fbeta_score\n",
    "from sklearn.metrics import roc_curve, roc_auc_score\n",
    "from sklearn import metrics, model_selection\n",
    "import warnings\n",
    "\n",
    "#from sklearn.pipeline import Pipeline\n",
    "from imblearn.pipeline import Pipeline\n",
    "from sklearn.model_selection import GridSearchCV, cross_validate\n",
    "from sklearn.linear_model import LogisticRegression\n",
    "from sklearn.metrics import make_scorer, f1_score, recall_score,precision_score\n",
    "\n",
    "warnings.filterwarnings('ignore')\n",
    "%matplotlib inline\n",
    "from sklearn.ensemble import RandomForestClassifier\n",
    "#  xgboost \n",
    "import xgboost\n",
    "import lightgbm\n",
    "from lightgbm import LGBMClassifier\n",
    "from xgboost import XGBClassifier\n"
   ]
  },
  {
   "cell_type": "code",
   "execution_count": 2,
   "id": "8aba2043",
   "metadata": {},
   "outputs": [],
   "source": [
    "from cancer_func import cancer_encode\n",
    "from cancer_func import cancer_features_select\n",
    "from cancer_func import cancer_encoder\n",
    "from cancer_func import cancer_features_selector\n",
    "from cancer_func import report, cross_validation_report\n",
    "from cancer_func import cancer_encode_without_ms\n",
    "from cancer_func import recall8_f1_scorer, recall8_precision_scorer"
   ]
  },
  {
   "cell_type": "code",
   "execution_count": 3,
   "id": "1ca0f815",
   "metadata": {},
   "outputs": [],
   "source": [
    "from sklearn.cluster import KMeans"
   ]
  },
  {
   "cell_type": "code",
   "execution_count": 4,
   "id": "273c0ffd",
   "metadata": {},
   "outputs": [],
   "source": [
    "df = pd.read_csv('Breast_Cancer.csv')"
   ]
  },
  {
   "cell_type": "code",
   "execution_count": 4,
   "id": "1553578c",
   "metadata": {},
   "outputs": [
    {
     "name": "stdout",
     "output_type": "stream",
     "text": [
      "<class 'pandas.core.frame.DataFrame'>\n",
      "RangeIndex: 4024 entries, 0 to 4023\n",
      "Data columns (total 16 columns):\n",
      " #   Column                  Non-Null Count  Dtype \n",
      "---  ------                  --------------  ----- \n",
      " 0   Age                     4024 non-null   int64 \n",
      " 1   Race                    4024 non-null   object\n",
      " 2   Marital Status          4024 non-null   object\n",
      " 3   T Stage                 4024 non-null   object\n",
      " 4   N Stage                 4024 non-null   object\n",
      " 5   6th Stage               4024 non-null   object\n",
      " 6   differentiate           4024 non-null   object\n",
      " 7   Grade                   4024 non-null   object\n",
      " 8   A Stage                 4024 non-null   object\n",
      " 9   Tumor Size              4024 non-null   int64 \n",
      " 10  Estrogen Status         4024 non-null   object\n",
      " 11  Progesterone Status     4024 non-null   object\n",
      " 12  Regional Node Examined  4024 non-null   int64 \n",
      " 13  Reginol Node Positive   4024 non-null   int64 \n",
      " 14  Survival Months         4024 non-null   int64 \n",
      " 15  Status                  4024 non-null   object\n",
      "dtypes: int64(5), object(11)\n",
      "memory usage: 503.1+ KB\n"
     ]
    }
   ],
   "source": [
    "df.info()"
   ]
  },
  {
   "cell_type": "code",
   "execution_count": 77,
   "id": "45c1b74a",
   "metadata": {},
   "outputs": [
    {
     "data": {
      "image/png": "[encoded data removed]",
      "text/plain": [
       "<Figure size 800x500 with 1 Axes>"
      ]
     },
     "metadata": {},
     "output_type": "display_data"
    }
   ],
   "source": [
    "# Set the pinkish colors\n",
    "colors = ['#FFC0CB', '#FF69B4', '#FF1493']  # Pinkish colors\n",
    "\n",
    "# Group by 'Grade' and 'Race' and count the rows, specifying the desired order\n",
    "grouped_df = df.groupby(['A Stage'])['Age'].count()\n",
    "\n",
    "# Calculate the relative percentages within each grade\n",
    "#relative_percentages = grouped_df.apply(lambda x: 100 * x / x.sum(), axis=1)\n",
    "\n",
    "\n",
    "# Plot the unstacked bar graph\n",
    "ax = grouped_df.plot.bar(color=colors)\n",
    "\n",
    "# Set the style and labels for the plot\n",
    "plt.rcParams['figure.figsize'] = (8, 5)  # Adjust the figure size as desired\n",
    "plt.xlabel('A stage')\n",
    "plt.ylabel('Count')\n",
    "plt.title('A stage in our sample')\n",
    "\n",
    "# Rotate the x-axis labels\n",
    "#plt.xticks(rotation=45)\n",
    "for index,data in enumerate(df.groupby(['A Stage'])['6th Stage'].count()):\n",
    "    ax.text(x=index-0.05 , y =data+10 , s=f\"{round(data)}\" , fontdict=dict(fontsize=12))\n",
    "\n",
    "plt.show()"
   ]
  },
  {
   "cell_type": "markdown",
   "id": "48089a36",
   "metadata": {},
   "source": [
    "# starting the pipline"
   ]
  },
  {
   "cell_type": "code",
   "execution_count": 5,
   "id": "e88b032f",
   "metadata": {},
   "outputs": [],
   "source": [
    "def f_recall(y_true, y_pred):\n",
    "    precision = f1_score(y_true, y_pred)\n",
    "    recall = recall_score(y_true, y_pred)\n",
    "    if recall >0.80:\n",
    "        answer = 0.8+ f1_score(y_true, y_pred)\n",
    "        return answer\n",
    "    else:\n",
    "        return recall\n",
    "def recall8_f1_scorer(y_true, y_pred):\n",
    "    f1 = f1_score(y_true, y_pred)\n",
    "    recall = recall_score(y_true, y_pred)\n",
    "    if recall >0.80:\n",
    "        answer = recall+ f1\n",
    "        return answer\n",
    "    else:\n",
    "        return recall\n",
    "def recall8_precision_scorer(y_true, y_pred):\n",
    "    precision = precision_score(y_true, y_pred)\n",
    "    recall = recall_score(y_true, y_pred)\n",
    "    if recall >0.80:\n",
    "        answer = recall+ precision\n",
    "        return answer\n",
    "    else:\n",
    "        return recall"
   ]
  },
  {
   "cell_type": "code",
   "execution_count": 7,
   "id": "18c0ae1f",
   "metadata": {},
   "outputs": [],
   "source": [
    "df = pd.read_csv('Breast_Cancer.csv')\n",
    "df = cancer_encode_without_ms(df)\n",
    "#df = cancer_encode(df)\n",
    "df = cancer_features_select(df)\n",
    "X = df.drop(['A Stage'], axis=1, inplace=False) #sould be without  \n",
    "y = df['A Stage']"
   ]
  },
  {
   "cell_type": "code",
   "execution_count": 47,
   "id": "de13d1ae",
   "metadata": {},
   "outputs": [],
   "source": [
    "df = pd.read_csv('Breast_Cancer.csv')\n",
    "df = cancer_encode_without_ms(df)\n",
    "#df = cancer_encode(df)\n",
    "df = cancer_features_select(df)\n",
    "X = df.drop(['A Stage'], axis=1, inplace=False) #sould be without  \n",
    "y = df['A Stage']"
   ]
  },
  {
   "cell_type": "code",
   "execution_count": 9,
   "id": "65cc71e8",
   "metadata": {},
   "outputs": [
    {
     "name": "stdout",
     "output_type": "stream",
     "text": [
      "Best parameter (CV score=1.178):\n",
      "{'logistic__class_weight': {0: 1, 1: 2}, 'over__k_neighbors': 6, 'over__sampling_strategy': 0.7}\n",
      "Mean f1:  0.298\n",
      "Mean recall: 0.971\n",
      "Mean precision: 0.176\n",
      "cross_validation confusion matrix\n",
      "     0       1\n",
      "0  3514    418\n",
      "1   3       89\n"
     ]
    }
   ],
   "source": [
    "over = SMOTE()\n",
    "scaler = StandardScaler() #אני מנסה פה להשתמש בסקלר בלי לעטוף חזרה את הנתונים בטבלת פנדה. אם זה לא יעבוד נעטוף בפונקציה נפרדת\n",
    "logistic = LogisticRegression(max_iter=100000) #צריך להגדיר את המודל \n",
    "log_steps = [(\"scaler\", scaler), (\"over\", over), (\"logistic\", logistic)]\n",
    "\n",
    "pipe_log = Pipeline(steps=log_steps)\n",
    "\n",
    "param_grid_log = {\n",
    "    \"over__sampling_strategy\": [0.2,0.3,0.5,0.6,0.7,0.8],\n",
    "    \"over__k_neighbors\": [6,7,8],\n",
    "    \"logistic__class_weight\":[{0: 1, 1: 1},{0: 1, 1: 2},{0: 1, 1: 3},{0: 1, 1: 10}]\n",
    "}\n",
    "search_new = GridSearchCV(pipe_log, param_grid_log, n_jobs=5,scoring=make_scorer(recall8_precision_scorer))\n",
    "search_new.fit(X, y)\n",
    "print(\"Best parameter (CV score=%0.3f):\" % search_new.best_score_)\n",
    "print(search_new.best_params_)\n",
    "log_estimator = search_new.best_estimator_\n",
    "cv = RepeatedStratifiedKFold(n_splits=5, n_repeats=3, random_state=1)\n",
    "scores_log = cross_validate(log_estimator, X, y, scoring=['recall','f1','precision'], cv=cv, n_jobs=-1)\n",
    "cross_validation_report(df,'A Stage',scores_log)"
   ]
  },
  {
   "cell_type": "code",
   "execution_count": 12,
   "id": "d81a24c7",
   "metadata": {},
   "outputs": [
    {
     "name": "stdout",
     "output_type": "stream",
     "text": [
      "Best parameter (CV score=1.172):\n",
      "{'clustering__n_clusters': 8, 'logistic__class_weight': {0: 1, 1: 10}, 'over__k_neighbors': 8, 'over__sampling_strategy': 0.3}\n",
      "Mean f1:  0.288\n",
      "Mean recall: 0.985\n",
      "Mean precision: 0.169\n",
      "cross_validation confusion matrix\n",
      "     0       1\n",
      "0  3486    446\n",
      "1   1       91\n"
     ]
    }
   ],
   "source": [
    "over = SMOTE()\n",
    "scaler = StandardScaler() #אני מנסה פה להשתמש בסקלר בלי לעטוף חזרה את הנתונים בטבלת פנדה. אם זה לא יעבוד נעטוף בפונקציה נפרדת\n",
    "logistic = LogisticRegression(max_iter=100000) #צריך להגדיר את המודל \n",
    "clustering = KMeans(8)\n",
    "#log_steps = [(\"encoder\",encoder),(\"selector\",selector),(\"scaler\", scaler), (\"over\", over), (\"logistic\", logistic)]\n",
    "log_steps = [(\"scaler\", scaler),(\"clustering\",clustering), (\"over\", over), (\"logistic\", logistic)]\n",
    "\n",
    "pipe_log = Pipeline(steps=log_steps)\n",
    "\n",
    "param_grid_log = {\n",
    "    \"over__sampling_strategy\": [0.2,0.3,0.5,0.6,0.7,0.8],\n",
    "    \"over__k_neighbors\": [6,7,8],\n",
    "    \"logistic__class_weight\":[{0: 1, 1: 1},{0: 1, 1: 2},{0: 1, 1: 3},{0: 1, 1: 10}],\n",
    "    \"clustering__n_clusters\":[1,9,3,5,8]\n",
    "}\n",
    "search_new = GridSearchCV(pipe_log, param_grid_log, n_jobs=5,scoring=make_scorer(recall8_precision_scorer))\n",
    "search_new.fit(X, y)\n",
    "print(\"Best parameter (CV score=%0.3f):\" % search_new.best_score_)\n",
    "print(search_new.best_params_)\n",
    "log_estimator = search_new.best_estimator_\n",
    "cv = RepeatedStratifiedKFold(n_splits=5, n_repeats=3, random_state=1)\n",
    "scores_log = cross_validate(log_estimator, X, y, scoring=['recall','f1','precision'], cv=cv, n_jobs=-1)\n",
    "cross_validation_report(df,'A Stage',scores_log)"
   ]
  },
  {
   "cell_type": "markdown",
   "id": "6cb06bb3",
   "metadata": {},
   "source": [
    "# evaluate pipeline\n"
   ]
  },
  {
   "cell_type": "code",
   "execution_count": 51,
   "id": "2e234f40",
   "metadata": {},
   "outputs": [
    {
     "data": {
      "text/plain": [
       "(0.0, 1.1)"
      ]
     },
     "execution_count": 51,
     "metadata": {},
     "output_type": "execute_result"
    },
    {
     "data": {
      "image/png": "[encoded data removed]",
      "text/plain": [
       "<Figure size 640x480 with 1 Axes>"
      ]
     },
     "metadata": {},
     "output_type": "display_data"
    }
   ],
   "source": [
    "fpr, tpr, thresholds = roc_curve(y, log_estimator_new.predict(X), pos_label=1)\n",
    "res = pd.DataFrame({'FPR': fpr, 'TPR': tpr, 'Threshold': thresholds})\n",
    "plt.plot(fpr, tpr)\n",
    "plt.title('ROC')\n",
    "plt.xlabel('FPR (False Positive Rate = 1-specificity)')\n",
    "plt.ylabel('TPR (True Positive Rate = sensitivity)')\n",
    "plt.xlim([-0.05, 1])\n",
    "plt.ylim([0, 1.1])"
   ]
  },
  {
   "cell_type": "markdown",
   "id": "c0cba0ae",
   "metadata": {},
   "source": [
    "# random forest"
   ]
  },
  {
   "cell_type": "code",
   "execution_count": 20,
   "id": "64dceb08",
   "metadata": {},
   "outputs": [
    {
     "name": "stdout",
     "output_type": "stream",
     "text": [
      "Best parameter (CV score=1.175):\n",
      "{'over__k_neighbors': 8, 'over__sampling_strategy': 0.1, 'rf__class_weight': {0: 1, 1: 3}, 'rf__max_depth': 3, 'rf__min_samples_leaf': 6}\n",
      "Mean f1:  0.289\n",
      "Mean recall: 0.968\n",
      "Mean precision: 0.170\n",
      "cross_validation confusion matrix\n",
      "     0       1\n",
      "0  3497    435\n",
      "1   3       89\n"
     ]
    }
   ],
   "source": [
    "rf = RandomForestClassifier()\n",
    "over = SMOTE()\n",
    "scaler = StandardScaler()\n",
    "\n",
    "rf_steps = [(\"scaler\", scaler), (\"over\", over), (\"rf\", rf)]\n",
    "pipe_rf = Pipeline(steps=rf_steps)\n",
    "\n",
    "param_grid_rf = {\n",
    "    \"over__sampling_strategy\": [0.1,0.2,0.3,0.5],\n",
    "    \"over__k_neighbors\": [5,6,7,8],\n",
    "    \"rf__max_depth\": [3,4,5,6],\n",
    "    \"rf__min_samples_leaf\": [4,5,6,10],\n",
    "    \"rf__class_weight\":[{0: 1, 1: 1},{0: 1, 1: 2},{0: 1, 1: 3},{0: 1, 1: 10}]\n",
    "}\n",
    "search_rf = GridSearchCV(pipe_rf, param_grid_rf, n_jobs=5,scoring=make_scorer(recall8_precision_scorer))\n",
    "search_rf.fit(X, y)\n",
    "print(\"Best parameter (CV score=%0.3f):\" % search_rf.best_score_)\n",
    "print(search_rf.best_params_)\n",
    "rf_estimator =search_rf.best_estimator_\n",
    "cv = RepeatedStratifiedKFold(n_splits=5, n_repeats=2, random_state=1)\n",
    "scores = cross_validate(rf_estimator, X, y, scoring=['recall','f1','precision'], cv=cv, n_jobs=-1)\n",
    "cross_validation_report(df,'A Stage',scores)"
   ]
  },
  {
   "cell_type": "code",
   "execution_count": 69,
   "id": "3e0b7c2e",
   "metadata": {},
   "outputs": [
    {
     "name": "stdout",
     "output_type": "stream",
     "text": [
      "Mean f1:  0.292\n",
      "Mean recall: 0.995\n",
      "Mean precision: 0.171\n",
      "cross_validation confusion matrix\n",
      "     0       1\n",
      "0  3490    442\n",
      "1   0       92\n"
     ]
    }
   ],
   "source": [
    "cv = RepeatedStratifiedKFold(n_splits=5, n_repeats=2, random_state=1)\n",
    "scores = cross_validate(rf_estimator, X, y, scoring=['recall','f1','precision'], cv=cv, n_jobs=-1)\n",
    "cross_validation_report(df,'A Stage',scores)"
   ]
  },
  {
   "cell_type": "code",
   "execution_count": 70,
   "id": "60cf02b2",
   "metadata": {},
   "outputs": [
    {
     "data": {
      "text/plain": [
       "(0.0, 1.1)"
      ]
     },
     "execution_count": 70,
     "metadata": {},
     "output_type": "execute_result"
    },
    {
     "data": {
      "image/png": "[encoded data removed]",
      "text/plain": [
       "<Figure size 640x480 with 1 Axes>"
      ]
     },
     "metadata": {},
     "output_type": "display_data"
    }
   ],
   "source": [
    "fpr, tpr, thresholds = roc_curve(y, rf_estimator.predict(X), pos_label=1)\n",
    "res = pd.DataFrame({'FPR': fpr, 'TPR': tpr, 'Threshold': thresholds})\n",
    "plt.plot(fpr, tpr)\n",
    "plt.title('ROC')\n",
    "plt.xlabel('FPR (False Positive Rate = 1-specificity)')\n",
    "plt.ylabel('TPR (True Positive Rate = sensitivity)')\n",
    "plt.xlim([-0.05, 1])\n",
    "plt.ylim([0, 1.1])"
   ]
  },
  {
   "cell_type": "code",
   "execution_count": 71,
   "id": "f5d8b631",
   "metadata": {},
   "outputs": [
    {
     "name": "stdout",
     "output_type": "stream",
     "text": [
      "feature importances: \n",
      "Age 0.22\n",
      "T Stage  9.92\n",
      "N Stage 16.95\n",
      "6th Stage 28.81\n",
      "Grade 0.98\n",
      "Tumor Size 1.72\n",
      "Estrogen Status 0.2\n",
      "Progesterone Status 0.1\n",
      "Regional Node Examined 1.03\n",
      "Reginol Node Positive 7.54\n",
      "Race_Black 0.05\n",
      "Race_Other 0.04\n",
      "Race_White 0.09\n",
      "6th Stage_IIA 2.03\n",
      "6th Stage_IIB 1.96\n",
      "6th Stage_IIIA 2.26\n",
      "6th Stage_IIIB 5.93\n",
      "6th Stage_IIIC 14.06\n",
      "Regional_Node_pos_% 5.96\n",
      "Estrogen&Progesterone positive 0.11\n",
      "Estrogen&Progesterone Negative 0.05\n"
     ]
    }
   ],
   "source": [
    "hd = list(X.columns)\n",
    "print(\"feature importances: \")\n",
    "for i, f in zip(hd, search_rf.best_estimator_.named_steps['rf'].feature_importances_):\n",
    "     print(i,round(f*100,2))"
   ]
  },
  {
   "cell_type": "markdown",
   "id": "ae80d6d7",
   "metadata": {},
   "source": [
    "## draft, with clustering"
   ]
  },
  {
   "cell_type": "code",
   "execution_count": 51,
   "id": "2d6fbd3d",
   "metadata": {},
   "outputs": [
    {
     "name": "stdout",
     "output_type": "stream",
     "text": [
      "Best parameter (CV score=1.250):\n",
      "{'over__k_neighbors': 5, 'over__sampling_strategy': 0.3, 'rf__class_weight': {0: 1, 1: 6}, 'rf__max_depth': 4, 'rf__min_samples_leaf': 10}\n",
      "Mean f1:  0.257\n",
      "Mean recall: 0.940\n",
      "Mean precision: 0.149\n",
      "cross_validation confusion matrix\n",
      "     0       1\n",
      "0  3438    494\n",
      "1   6       86\n"
     ]
    }
   ],
   "source": [
    "rf = RandomForestClassifier()\n",
    "over = SMOTE()\n",
    "scaler = StandardScaler()\n",
    "clustering = KMeans(8)\n",
    "\n",
    "rf_steps = [(\"scaler\", scaler),('clustering',clustering), (\"over\", over), (\"rf\", rf)]\n",
    "pipe_rf = Pipeline(steps=rf_steps)\n",
    "\n",
    "param_grid_rf = {\n",
    "    \"over__sampling_strategy\": [0.1,0.2,0.3,0.5],\n",
    "    \"over__k_neighbors\": [5,6,7,8],\n",
    "    \"rf__max_depth\": [3,4,5,6],\n",
    "    \"rf__min_samples_leaf\": [4,5,6,10],\n",
    "    \"rf__class_weight\":[{0: 1, 1: 1},{0: 1, 1: 2},{0: 1, 1: 3},{0: 1, 1: 6}]\n",
    "}\n",
    "search_rf = GridSearchCV(pipe_rf, param_grid_rf, n_jobs=5,scoring=make_scorer(recall8_f1_scorer))\n",
    "search_rf.fit(X, y)\n",
    "print(\"Best parameter (CV score=%0.3f):\" % search_rf.best_score_)\n",
    "print(search_rf.best_params_)\n",
    "rf_estimator =search_rf.best_estimator_\n",
    "cv = RepeatedStratifiedKFold(n_splits=5, n_repeats=2, random_state=1)\n",
    "scores = cross_validate(rf_estimator, X, y, scoring=['recall','f1','precision'], cv=cv, n_jobs=-1)\n",
    "cross_validation_report(df,'A Stage',scores)"
   ]
  },
  {
   "cell_type": "markdown",
   "id": "08483b18",
   "metadata": {},
   "source": [
    "# xgboost"
   ]
  },
  {
   "cell_type": "code",
   "execution_count": 6,
   "id": "3234c702",
   "metadata": {},
   "outputs": [],
   "source": [
    "XGB = XGBClassifier(n_estimators=700)\n",
    "over = SMOTE()\n",
    "scaler = StandardScaler() #אני מנסה פה להשתמש בסקלר בלי לעטוף חזרה את הנתונים בטבלת פנדה. אם זה לא יעבוד נעטוף בפונקציה נפרדת\n",
    "XGB_steps = [(\"scaler\", scaler), (\"over\", over), (\"XGB\", XGB)]\n",
    "pipe_XGB= Pipeline(steps=XGB_steps)\n",
    "\n",
    "param_grid_XGB = {\n",
    "    \"over__sampling_strategy\": [0.4,0.5],\n",
    "    \"over__k_neighbors\": [7,9],\n",
    "    \"XGB__max_depth\": [3,4],\n",
    "    \"XGB__scale_pos_weight\": [5,10,50,80],\n",
    "    #'XGB__subsample': [1.0],\n",
    "    #\"XGB__colsample_bytree\": [1.0],\n",
    "    \"XGB__gamma\":[ 2,3,5],\n",
    "    \"XGB__learning_rate\":[0.05,0.1,0.01],\n",
    "}"
   ]
  },
  {
   "cell_type": "code",
   "execution_count": 9,
   "id": "ee81d46e",
   "metadata": {},
   "outputs": [
    {
     "name": "stdout",
     "output_type": "stream",
     "text": [
      "Best parameter (CV score=1.133):\n",
      "{'XGB__gamma': 5, 'XGB__learning_rate': 0.01, 'XGB__max_depth': 3, 'XGB__scale_pos_weight': 80, 'over__k_neighbors': 9, 'over__sampling_strategy': 0.5}\n",
      "Mean f1:  0.294\n",
      "Mean recall: 0.930\n",
      "Mean precision: 0.175\n",
      "cross_validation confusion matrix\n",
      "     0       1\n",
      "0  3528    404\n",
      "1   6       86\n"
     ]
    }
   ],
   "source": [
    "XGB_search = GridSearchCV(pipe_XGB, param_grid_XGB, n_jobs=4,scoring=make_scorer(recall8_precision_scorer))\n",
    "XGB_search.fit(X, y)\n",
    "XGB_estimator =XGB_search.best_estimator_\n",
    "print(\"Best parameter (CV score=%0.3f):\" % XGB_search.best_score_)\n",
    "print(XGB_search.best_params_)\n",
    "cv = RepeatedStratifiedKFold(n_splits=5, n_repeats=2, random_state=1)\n",
    "scores = cross_validate(XGB_estimator, X, y, scoring=['recall','f1','precision'], cv=cv, n_jobs=-1)\n",
    "cross_validation_report(df,'A Stage',scores)"
   ]
  },
  {
   "cell_type": "code",
   "execution_count": 18,
   "id": "c8dcad67",
   "metadata": {},
   "outputs": [
    {
     "name": "stdout",
     "output_type": "stream",
     "text": [
      "Mean f1:  0.296\n",
      "Mean recall: 0.935\n",
      "Mean precision: 0.176\n"
     ]
    }
   ],
   "source": [
    "cv = RepeatedStratifiedKFold(n_splits=5, n_repeats=2, random_state=1)\n",
    "scores = cross_validate(XGB_estimator, X, y, scoring=['recall','f1','precision'], cv=cv, n_jobs=-1)\n",
    "cross_validation_report(df,'A Stage',scores)"
   ]
  },
  {
   "cell_type": "code",
   "execution_count": 23,
   "id": "e2dfc1fe",
   "metadata": {},
   "outputs": [
    {
     "data": {
      "text/plain": [
       "(0.0, 1.1)"
      ]
     },
     "execution_count": 23,
     "metadata": {},
     "output_type": "execute_result"
    },
    {
     "data": {
      "image/png": "[encoded data removed]",
      "text/plain": [
       "<Figure size 640x480 with 1 Axes>"
      ]
     },
     "metadata": {},
     "output_type": "display_data"
    }
   ],
   "source": [
    "fpr, tpr, thresholds = roc_curve(y, XGB_estimator.predict(X), pos_label=1)\n",
    "res = pd.DataFrame({'FPR': fpr, 'TPR': tpr, 'Threshold': thresholds})\n",
    "plt.plot(fpr, tpr)\n",
    "plt.title('ROC')\n",
    "plt.xlabel('FPR (False Positive Rate = 1-specificity)')\n",
    "plt.ylabel('TPR (True Positive Rate = sensitivity)')\n",
    "plt.xlim([-0.05, 1])\n",
    "plt.ylim([0, 1.1])"
   ]
  },
  {
   "cell_type": "code",
   "execution_count": 56,
   "id": "4878f14c",
   "metadata": {},
   "outputs": [],
   "source": [
    "XGB = XGBClassifier(n_estimators=700)\n",
    "over = SMOTE()\n",
    "scaler = StandardScaler() \n",
    "XGB_steps = [(\"scaler\", scaler), (\"over\", over), (\"XGB\", XGB)]\n",
    "pipe_XGB= Pipeline(steps=XGB_steps)\n",
    "\n",
    "param_grid_XGB = {\n",
    "    \"over__sampling_strategy\": [0.4,0.5,0.6],\n",
    "    \"over__k_neighbors\": [7,9],\n",
    "    \"XGB__max_depth\": [3,4,5],\n",
    "    \"XGB__scale_pos_weight\": [10,50,80,90],\n",
    "    #'XGB__subsample': [0.8,1.0],\n",
    "    #\"XGB__colsample_bytree\": [0.8,1.0],\n",
    "    \"XGB__gamma\":[ 2,3,5],\n",
    "    \"XGB__learning_rate\":[0.05,0.01]\n",
    "}"
   ]
  },
  {
   "cell_type": "code",
   "execution_count": 26,
   "id": "696e56b6",
   "metadata": {},
   "outputs": [
    {
     "name": "stdout",
     "output_type": "stream",
     "text": [
      "Best parameter (CV score=1.280):\n",
      "{'XGB__colsample_bytree': 0.8, 'XGB__gamma': 2, 'XGB__learning_rate': 0.01, 'XGB__max_depth': 3, 'XGB__scale_pos_weight': 90, 'XGB__subsample': 1.0, 'over__k_neighbors': 9, 'over__sampling_strategy': 0.5}\n"
     ]
    }
   ],
   "source": [
    "XGB_search = GridSearchCV(pipe_XGB, param_grid_XGB, n_jobs=4,scoring=make_scorer(recall8_f1_scorer))\n",
    "XGB_search.fit(X, y)\n",
    "XGB_estimator =XGB_search.best_estimator_\n",
    "\n",
    "print(\"Best parameter (CV score=%0.3f):\" % XGB_search.best_score_)\n",
    "print(XGB_search.best_params_)"
   ]
  },
  {
   "cell_type": "code",
   "execution_count": 57,
   "id": "0bb56d61",
   "metadata": {},
   "outputs": [
    {
     "name": "stdout",
     "output_type": "stream",
     "text": [
      "Mean f1:  0.296\n",
      "Mean recall: 0.951\n",
      "Mean precision: 0.175\n",
      "cross_validation confusion matrix\n",
      "     0       1\n",
      "0  3520    412\n",
      "1   5       87\n"
     ]
    }
   ],
   "source": [
    "XGB_search = GridSearchCV(pipe_XGB, param_grid_XGB, n_jobs=4,scoring=make_scorer(recall8_f1_scorer))\n",
    "XGB_search.fit(X, y)\n",
    "XGB_estimator =XGB_search.best_estimator_\n",
    "cv = RepeatedStratifiedKFold(n_splits=5, n_repeats=2, random_state=1)\n",
    "scores = cross_validate(XGB_estimator, X, y, scoring=['recall','f1','precision'], cv=cv, n_jobs=-1)\n",
    "cross_validation_report(df,'A Stage',scores)"
   ]
  },
  {
   "cell_type": "markdown",
   "id": "c0bd8c6c",
   "metadata": {},
   "source": [
    "# lgbm"
   ]
  },
  {
   "cell_type": "markdown",
   "id": "0de19429",
   "metadata": {},
   "source": [
    "newer"
   ]
  },
  {
   "cell_type": "code",
   "execution_count": 74,
   "id": "71750de7",
   "metadata": {},
   "outputs": [
    {
     "name": "stdout",
     "output_type": "stream",
     "text": [
      "Best parameter (CV score=1.304):\n",
      "{'LGBM__class_weight': {0: 1, 1: 5}, 'LGBM__lambda_l1': 1, 'LGBM__max_depth': 4, 'over__k_neighbors': 6, 'over__sampling_strategy': 0.3}\n"
     ]
    }
   ],
   "source": [
    "LGBM = LGBMClassifier(learning_rate=0.01)\n",
    "LGBM_steps = [(\"scaler\", scaler), (\"over\", over), (\"LGBM\", LGBM)]\n",
    "pipe_LGBM = Pipeline(steps=LGBM_steps)\n",
    "\n",
    "param_grid_LGBM = {\n",
    "    \"over__sampling_strategy\": [0.1,0.2,0.3,0.4,0.5],\n",
    "    \"over__k_neighbors\": [6,7,8],\n",
    "    \"LGBM__max_depth\": [3,4,6,7,8],\n",
    "    \"LGBM__class_weight\":[{0: 1, 1: 10},{0: 1, 1: 15},{0: 1, 1: 3},{0: 1, 1: 5},{0: 1, 1: 6}],\n",
    "     \"LGBM__lambda_l1\":[0,1,2]\n",
    "}\n",
    "LGBM_search = GridSearchCV(pipe_LGBM, param_grid_LGBM, n_jobs=5,scoring=make_scorer(recall8_f1_scorer))\n",
    "LGBM_search.fit(X, y)\n",
    "LGBM_estimator =LGBM_search.best_estimator_\n",
    "\n",
    "print(\"Best parameter (CV score=%0.3f):\" % LGBM_search.best_score_)\n",
    "print(LGBM_search.best_params_)"
   ]
  },
  {
   "cell_type": "code",
   "execution_count": 75,
   "id": "875aacee",
   "metadata": {},
   "outputs": [
    {
     "name": "stdout",
     "output_type": "stream",
     "text": [
      "Mean f1:  0.292\n",
      "Mean recall: 0.973\n",
      "Mean precision: 0.172\n",
      "cross_validation confusion matrix\n",
      "     0       1\n",
      "0  3501    431\n",
      "1   2       90\n"
     ]
    }
   ],
   "source": [
    "cv = RepeatedStratifiedKFold(n_splits=5, n_repeats=2, random_state=1)\n",
    "scores = cross_validate(LGBM_estimator, X, y, scoring=['recall','f1','precision'], cv=cv, n_jobs=-1)\n",
    "cross_validation_report(df,'A Stage',scores)"
   ]
  },
  {
   "cell_type": "code",
   "execution_count": 14,
   "id": "45c3f823",
   "metadata": {},
   "outputs": [
    {
     "data": {
      "text/plain": [
       "(0.0, 1.1)"
      ]
     },
     "execution_count": 14,
     "metadata": {},
     "output_type": "execute_result"
    },
    {
     "data": {
      "image/png": "[encoded data removed]",
      "text/plain": [
       "<Figure size 640x480 with 1 Axes>"
      ]
     },
     "metadata": {},
     "output_type": "display_data"
    }
   ],
   "source": [
    "fpr, tpr, thresholds = roc_curve(y, LGBM_estimator.predict(X), pos_label=1)\n",
    "res = pd.DataFrame({'FPR': fpr, 'TPR': tpr, 'Threshold': thresholds})\n",
    "plt.plot(fpr, tpr)\n",
    "plt.title('ROC')\n",
    "plt.xlabel('FPR (False Positive Rate = 1-specificity)')\n",
    "plt.ylabel('TPR (True Positive Rate = sensitivity)')\n",
    "plt.xlim([-0.05, 1])\n",
    "plt.ylim([0, 1.1])"
   ]
  },
  {
   "cell_type": "code",
   "execution_count": 12,
   "id": "29481c91",
   "metadata": {},
   "outputs": [
    {
     "name": "stdout",
     "output_type": "stream",
     "text": [
      "[LightGBM] [Warning] lambda_l1 is set=1, reg_alpha=0.0 will be ignored. Current value: lambda_l1=1\n",
      "Best parameter (CV score=1.178):\n",
      "{'LGBM__class_weight': {0: 1, 1: 15}, 'LGBM__lambda_l1': 1, 'LGBM__max_depth': 8, 'over__k_neighbors': 6, 'over__sampling_strategy': 0.5}\n",
      "Mean f1:  0.292\n",
      "Mean recall: 0.982\n",
      "Mean precision: 0.171\n",
      "cross_validation confusion matrix\n",
      "     0       1\n",
      "0  3495    437\n",
      "1   2       90\n"
     ]
    }
   ],
   "source": [
    "over = SMOTE()\n",
    "scaler = StandardScaler() #אני מנסה פה להשתמש בסקלר בלי לעטוף חזרה את הנתונים בטבלת פנדה. אם זה לא יעבוד נעטוף בפונקציה נפרדת\n",
    "\n",
    "LGBM = LGBMClassifier(learning_rate=0.01)\n",
    "LGBM_steps = [(\"scaler\", scaler), (\"over\", over), (\"LGBM\", LGBM)]\n",
    "pipe_LGBM = Pipeline(steps=LGBM_steps)\n",
    "\n",
    "param_grid_LGBM = {\n",
    "    \"over__sampling_strategy\": [0.1,0.2,0.3,0.4,0.5],\n",
    "    \"over__k_neighbors\": [6,7,8],\n",
    "    \"LGBM__max_depth\": [3,4,6,7,8],\n",
    "    \"LGBM__class_weight\":[{0: 1, 1: 10},{0: 1, 1: 15},{0: 1, 1: 3},{0: 1, 1: 5},{0: 1, 1: 6}],\n",
    "     \"LGBM__lambda_l1\":[0,1,2]\n",
    "}\n",
    "LGBM_search = GridSearchCV(pipe_LGBM, param_grid_LGBM, n_jobs=5,scoring=make_scorer(recall8_precision_scorer))\n",
    "LGBM_search.fit(X, y)\n",
    "LGBM_estimator =LGBM_search.best_estimator_\n",
    "\n",
    "print(\"Best parameter (CV score=%0.3f):\" % LGBM_search.best_score_)\n",
    "print(LGBM_search.best_params_)\n",
    "cv = RepeatedStratifiedKFold(n_splits=5, n_repeats=3, random_state=1)\n",
    "scores = cross_validate(LGBM_estimator, X, y, scoring=['recall','f1','precision'], cv=cv, n_jobs=-1)\n",
    "cross_validation_report(df,'A Stage',scores)"
   ]
  },
  {
   "cell_type": "code",
   "execution_count": 13,
   "id": "e9b287a7",
   "metadata": {},
   "outputs": [
    {
     "name": "stdout",
     "output_type": "stream",
     "text": [
      "feature importances: \n",
      "Age 287\n",
      "T Stage  433\n",
      "N Stage 0\n",
      "6th Stage 100\n",
      "Grade 61\n",
      "Tumor Size 201\n",
      "Estrogen Status 0\n",
      "Progesterone Status 37\n",
      "Regional Node Examined 367\n",
      "Reginol Node Positive 182\n",
      "Race_Black 7\n",
      "Race_Other 1\n",
      "Race_White 116\n",
      "6th Stage_IIA 0\n",
      "6th Stage_IIB 0\n",
      "6th Stage_IIIA 0\n",
      "6th Stage_IIIB 0\n",
      "6th Stage_IIIC 0\n",
      "Regional_Node_pos_% 495\n",
      "Estrogen&Progesterone positive 29\n",
      "Estrogen&Progesterone Negative 0\n"
     ]
    }
   ],
   "source": [
    "hd = list(X.columns)\n",
    "print(\"feature importances: \")\n",
    "for i, f in zip(hd, LGBM_search.best_estimator_.named_steps['LGBM'].feature_importances_):\n",
    "     print(i,round(f,2))"
   ]
  },
  {
   "cell_type": "markdown",
   "id": "cd0920f8",
   "metadata": {},
   "source": [
    "# voting "
   ]
  },
  {
   "cell_type": "code",
   "execution_count": 62,
   "id": "addf70ab",
   "metadata": {},
   "outputs": [],
   "source": [
    "y_preds = pd.DataFrame(y.copy())\n",
    "y_preds[\"logistic\"] = log_estimator.predict(X)\n",
    "y_preds[\"RF\"] = rf_estimator.predict(X)\n",
    "y_preds[\"LGBM\"] = LGBM_estimator.predict(X)\n",
    "y_preds[\"XGB\"] = XGB_estimator.predict(X)\n",
    "\n",
    "#y_pred[\"xgboost\"] =XGB_estimator.predict(X)\n",
    "y_preds['vote'] = np.where(y_preds[\"logistic\"]+y_preds[\"RF\"]+y_preds[\"LGBM\"]>2,1,0)\n"
   ]
  },
  {
   "cell_type": "code",
   "execution_count": 66,
   "id": "0cb4ff94",
   "metadata": {},
   "outputs": [
    {
     "data": {
      "text/html": [
       "<div>\n",
       "<style scoped>\n",
       "    .dataframe tbody tr th:only-of-type {\n",
       "        vertical-align: middle;\n",
       "    }\n",
       "\n",
       "    .dataframe tbody tr th {\n",
       "        vertical-align: top;\n",
       "    }\n",
       "\n",
       "    .dataframe thead th {\n",
       "        text-align: right;\n",
       "    }\n",
       "</style>\n",
       "<table border=\"1\" class=\"dataframe\">\n",
       "  <thead>\n",
       "    <tr style=\"text-align: right;\">\n",
       "      <th></th>\n",
       "      <th>logistic</th>\n",
       "      <th>RF</th>\n",
       "      <th>LGBM</th>\n",
       "      <th>XGB</th>\n",
       "    </tr>\n",
       "  </thead>\n",
       "  <tbody>\n",
       "    <tr>\n",
       "      <th>logistic</th>\n",
       "      <td>1.000000</td>\n",
       "      <td>0.916692</td>\n",
       "      <td>0.984975</td>\n",
       "      <td>0.962229</td>\n",
       "    </tr>\n",
       "    <tr>\n",
       "      <th>RF</th>\n",
       "      <td>0.916692</td>\n",
       "      <td>1.000000</td>\n",
       "      <td>0.903875</td>\n",
       "      <td>0.881295</td>\n",
       "    </tr>\n",
       "    <tr>\n",
       "      <th>LGBM</th>\n",
       "      <td>0.984975</td>\n",
       "      <td>0.903875</td>\n",
       "      <td>1.000000</td>\n",
       "      <td>0.976907</td>\n",
       "    </tr>\n",
       "    <tr>\n",
       "      <th>XGB</th>\n",
       "      <td>0.962229</td>\n",
       "      <td>0.881295</td>\n",
       "      <td>0.976907</td>\n",
       "      <td>1.000000</td>\n",
       "    </tr>\n",
       "  </tbody>\n",
       "</table>\n",
       "</div>"
      ],
      "text/plain": [
       "          logistic        RF      LGBM       XGB\n",
       "logistic  1.000000  0.916692  0.984975  0.962229\n",
       "RF        0.916692  1.000000  0.903875  0.881295\n",
       "LGBM      0.984975  0.903875  1.000000  0.976907\n",
       "XGB       0.962229  0.881295  0.976907  1.000000"
      ]
     },
     "execution_count": 66,
     "metadata": {},
     "output_type": "execute_result"
    }
   ],
   "source": [
    "y_preds[['logistic','RF','LGBM','XGB']].corr()"
   ]
  },
  {
   "cell_type": "code",
   "execution_count": 42,
   "id": "e4e14b38",
   "metadata": {},
   "outputs": [],
   "source": [
    "y_preds['correct'] = np.where(y_preds['vote']==y_preds['A Stage'],1,0)\n",
    "y_group = y_preds.groupby(['A Stage','vote'])['A Stage'].count().unstack().fillna(0)"
   ]
  },
  {
   "cell_type": "code",
   "execution_count": 34,
   "id": "de3a4834",
   "metadata": {},
   "outputs": [
    {
     "data": {
      "text/html": [
       "<div>\n",
       "<style scoped>\n",
       "    .dataframe tbody tr th:only-of-type {\n",
       "        vertical-align: middle;\n",
       "    }\n",
       "\n",
       "    .dataframe tbody tr th {\n",
       "        vertical-align: top;\n",
       "    }\n",
       "\n",
       "    .dataframe thead th {\n",
       "        text-align: right;\n",
       "    }\n",
       "</style>\n",
       "<table border=\"1\" class=\"dataframe\">\n",
       "  <thead>\n",
       "    <tr style=\"text-align: right;\">\n",
       "      <th>vote</th>\n",
       "      <th>0</th>\n",
       "      <th>1</th>\n",
       "    </tr>\n",
       "    <tr>\n",
       "      <th>A Stage</th>\n",
       "      <th></th>\n",
       "      <th></th>\n",
       "    </tr>\n",
       "  </thead>\n",
       "  <tbody>\n",
       "    <tr>\n",
       "      <th>0.0</th>\n",
       "      <td>3517</td>\n",
       "      <td>415</td>\n",
       "    </tr>\n",
       "    <tr>\n",
       "      <th>1.0</th>\n",
       "      <td>1</td>\n",
       "      <td>91</td>\n",
       "    </tr>\n",
       "  </tbody>\n",
       "</table>\n",
       "</div>"
      ],
      "text/plain": [
       "vote        0    1\n",
       "A Stage           \n",
       "0.0      3517  415\n",
       "1.0         1   91"
      ]
     },
     "execution_count": 34,
     "metadata": {},
     "output_type": "execute_result"
    }
   ],
   "source": [
    "y_group"
   ]
  },
  {
   "cell_type": "code",
   "execution_count": 69,
   "id": "314987a3",
   "metadata": {},
   "outputs": [
    {
     "name": "stdout",
     "output_type": "stream",
     "text": [
      "Mean f1:  0.289\n",
      "Mean recall: 0.985\n",
      "Mean precision: 0.169\n",
      "cross_validation confusion matrix\n",
      "     0       1\n",
      "0  3487    445\n",
      "1   1       91\n"
     ]
    }
   ],
   "source": [
    "from sklearn.ensemble import VotingClassifier\n",
    "classifiers = [('LR', log_estimator), ('RF', rf_estimator),('LGBM', LGBM_estimator),('xgboost',XGB_estimator)]\n",
    "clf_voting = VotingClassifier(estimators=classifiers,\n",
    "                              voting='hard')\n",
    "cv = RepeatedStratifiedKFold(n_splits=5, n_repeats=3, random_state=1)\n",
    "scores = cross_validate(clf_voting, X, y, scoring=['recall','f1','precision'], cv=cv, n_jobs=-1)\n",
    "cross_validation_report(df,'A Stage',scores)"
   ]
  },
  {
   "cell_type": "markdown",
   "id": "bc2067ea",
   "metadata": {},
   "source": [
    "# trying to predict a stage without 6th stage - not so bed results"
   ]
  },
  {
   "cell_type": "code",
   "execution_count": 73,
   "id": "11299b54",
   "metadata": {},
   "outputs": [
    {
     "data": {
      "text/plain": [
       "A Stage  6th Stage\n",
       "0.0      0.0          1305\n",
       "         1.0          1130\n",
       "         2.0          1050\n",
       "         3.0            43\n",
       "         4.0           404\n",
       "1.0      3.0            24\n",
       "         4.0            68\n",
       "Name: A Stage, dtype: int64"
      ]
     },
     "execution_count": 73,
     "metadata": {},
     "output_type": "execute_result"
    }
   ],
   "source": [
    "df.groupby(['A Stage', '6th Stage'])['A Stage'].count()"
   ]
  },
  {
   "cell_type": "code",
   "execution_count": 76,
   "id": "7ac965c9",
   "metadata": {},
   "outputs": [],
   "source": [
    "df = pd.read_csv('Breast_Cancer.csv')\n",
    "df = cancer_encode_without_ms(df)\n",
    "#df = cancer_encode(df)\n",
    "df = cancer_features_select(df)\n",
    "X = df.drop(['A Stage','6th Stage_IIA', '6th Stage_IIB', '6th Stage_IIIA', '6th Stage_IIIB',\n",
    "       '6th Stage_IIIC','6th Stage'], axis=1, inplace=False) #sould be without  \n",
    "y = df['A Stage']"
   ]
  },
  {
   "cell_type": "code",
   "execution_count": 75,
   "id": "e76be837",
   "metadata": {},
   "outputs": [
    {
     "data": {
      "text/plain": [
       "Index(['Age', 'T Stage ', 'N Stage', '6th Stage', 'Grade', 'Tumor Size',\n",
       "       'Estrogen Status', 'Progesterone Status', 'Regional Node Examined',\n",
       "       'Reginol Node Positive', 'Race_Black', 'Race_Other', 'Race_White',\n",
       "       '6th Stage_IIA', '6th Stage_IIB', '6th Stage_IIIA', '6th Stage_IIIB',\n",
       "       '6th Stage_IIIC', 'Regional_Node_pos_%',\n",
       "       'Estrogen&Progesterone positive', 'Estrogen&Progesterone Negative'],\n",
       "      dtype='object')"
      ]
     },
     "execution_count": 75,
     "metadata": {},
     "output_type": "execute_result"
    }
   ],
   "source": [
    "X.columns"
   ]
  },
  {
   "cell_type": "code",
   "execution_count": 77,
   "id": "efa6c1dd",
   "metadata": {},
   "outputs": [
    {
     "name": "stdout",
     "output_type": "stream",
     "text": [
      "Best parameter (CV score=1.075):\n",
      "{'logistic__class_weight': {0: 1, 1: 10}, 'over__k_neighbors': 7, 'over__sampling_strategy': 0.7}\n",
      "Mean f1:  0.205\n",
      "Mean recall: 0.949\n",
      "Mean precision: 0.115\n",
      "cross_validation confusion matrix\n",
      "     0       1\n",
      "0  3261    671\n",
      "1   5       87\n"
     ]
    }
   ],
   "source": [
    "over = SMOTE()\n",
    "scaler = StandardScaler() #אני מנסה פה להשתמש בסקלר בלי לעטוף חזרה את הנתונים בטבלת פנדה. אם זה לא יעבוד נעטוף בפונקציה נפרדת\n",
    "logistic = LogisticRegression(max_iter=100000) #צריך להגדיר את המודל \n",
    "log_steps = [(\"scaler\", scaler), (\"over\", over), (\"logistic\", logistic)]\n",
    "\n",
    "pipe_log = Pipeline(steps=log_steps)\n",
    "\n",
    "param_grid_log = {\n",
    "    \"over__sampling_strategy\": [0.2,0.3,0.5,0.6,0.7,0.8],\n",
    "    \"over__k_neighbors\": [6,7,8],\n",
    "    \"logistic__class_weight\":[{0: 1, 1: 1},{0: 1, 1: 2},{0: 1, 1: 3},{0: 1, 1: 10}]\n",
    "}\n",
    "search_new = GridSearchCV(pipe_log, param_grid_log, n_jobs=5,scoring=make_scorer(recall8_precision_scorer))\n",
    "search_new.fit(X, y)\n",
    "print(\"Best parameter (CV score=%0.3f):\" % search_new.best_score_)\n",
    "print(search_new.best_params_)\n",
    "log_estimator = search_new.best_estimator_\n",
    "cv = RepeatedStratifiedKFold(n_splits=5, n_repeats=3, random_state=1)\n",
    "scores_log = cross_validate(log_estimator, X, y, scoring=['recall','f1','precision'], cv=cv, n_jobs=-1)\n",
    "cross_validation_report(df,'A Stage',scores_log)"
   ]
  },
  {
   "cell_type": "code",
   "execution_count": 78,
   "id": "eeb30996",
   "metadata": {},
   "outputs": [
    {
     "name": "stdout",
     "output_type": "stream",
     "text": [
      "Best parameter (CV score=1.089):\n",
      "{'over__k_neighbors': 6, 'over__sampling_strategy': 0.5, 'rf__class_weight': {0: 1, 1: 3}, 'rf__max_depth': 5, 'rf__min_samples_leaf': 10}\n",
      "Mean f1:  0.269\n",
      "Mean recall: 0.890\n",
      "Mean precision: 0.159\n",
      "cross_validation confusion matrix\n",
      "     0       1\n",
      "0  3498    434\n",
      "1   10       82\n"
     ]
    }
   ],
   "source": [
    "rf = RandomForestClassifier()\n",
    "over = SMOTE()\n",
    "scaler = StandardScaler()\n",
    "\n",
    "rf_steps = [(\"scaler\", scaler), (\"over\", over), (\"rf\", rf)]\n",
    "pipe_rf = Pipeline(steps=rf_steps)\n",
    "\n",
    "param_grid_rf = {\n",
    "    \"over__sampling_strategy\": [0.1,0.2,0.3,0.5],\n",
    "    \"over__k_neighbors\": [5,6,7,8],\n",
    "    \"rf__max_depth\": [3,4,5,6],\n",
    "    \"rf__min_samples_leaf\": [4,5,6,10],\n",
    "    \"rf__class_weight\":[{0: 1, 1: 1},{0: 1, 1: 2},{0: 1, 1: 3},{0: 1, 1: 10}]\n",
    "}\n",
    "search_rf = GridSearchCV(pipe_rf, param_grid_rf, n_jobs=5,scoring=make_scorer(recall8_precision_scorer))\n",
    "search_rf.fit(X, y)\n",
    "print(\"Best parameter (CV score=%0.3f):\" % search_rf.best_score_)\n",
    "print(search_rf.best_params_)\n",
    "rf_estimator =search_rf.best_estimator_\n",
    "cv = RepeatedStratifiedKFold(n_splits=5, n_repeats=2, random_state=1)\n",
    "scores = cross_validate(rf_estimator, X, y, scoring=['recall','f1','precision'], cv=cv, n_jobs=-1)\n",
    "cross_validation_report(df,'A Stage',scores)"
   ]
  },
  {
   "cell_type": "code",
   "execution_count": 82,
   "id": "532745f7",
   "metadata": {},
   "outputs": [
    {
     "name": "stdout",
     "output_type": "stream",
     "text": [
      "feature importances: \n",
      "Age 0.01\n",
      "T Stage  0.19\n",
      "N Stage 0.31\n",
      "Grade 0.04\n",
      "Tumor Size 0.06\n",
      "Estrogen Status 0.01\n",
      "Progesterone Status 0.01\n",
      "Regional Node Examined 0.04\n",
      "Reginol Node Positive 0.21\n",
      "Race_Black 0.0\n",
      "Race_Other 0.0\n",
      "Race_White 0.01\n",
      "Regional_Node_pos_% 0.11\n",
      "Estrogen&Progesterone positive 0.01\n",
      "Estrogen&Progesterone Negative 0.0\n"
     ]
    }
   ],
   "source": [
    "hd = list(X.columns)\n",
    "print(\"feature importances: \")\n",
    "for i, f in zip(hd, search_rf.best_estimator_.named_steps['rf'].feature_importances_):\n",
    "     print(i,round(f,2))"
   ]
  }
 ],
 "metadata": {
  "kernelspec": {
   "display_name": "Python 3 (ipykernel)",
   "language": "python",
   "name": "python3"
  },
  "language_info": {
   "codemirror_mode": {
    "name": "ipython",
    "version": 3
   },
   "file_extension": ".py",
   "mimetype": "text/x-python",
   "name": "python",
   "nbconvert_exporter": "python",
   "pygments_lexer": "ipython3",
   "version": "3.9.13"
  }
 },
 "nbformat": 4,
 "nbformat_minor": 5
}
