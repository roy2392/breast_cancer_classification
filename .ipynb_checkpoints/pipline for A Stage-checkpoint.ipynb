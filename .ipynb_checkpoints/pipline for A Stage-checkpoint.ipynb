{
 "cells": [
  {
   "cell_type": "markdown",
   "id": "9cb02896",
   "metadata": {},
   "source": [
    "# pipline for A Stage"
   ]
  },
  {
   "cell_type": "markdown",
   "id": "459d4d02",
   "metadata": {},
   "source": [
    "stages:\n",
    "a1. \n",
    "\n",
    "    1. consider using pca\n",
    "    2. consider droping m_status - אולי נכין טרספורמר שזורק את זה אם מקבל 0 ולא זורק אם מקבל 1\n",
    "    3. fix the encoder transformer so he will work only on X\n",
    "\n",
    "a. make the following transformers: \n",
    "\n",
    "    1. encoder -V\n",
    "    2. features_select [grid: use or drop marital status]\n",
    "    3. normalizetion V\n",
    "    4. smote [grid: (1)% (2)k for knn] V\n",
    "    \n",
    "b. pipline the following - with gride sarch - for rf: \n",
    "\n",
    "    1. encoder\n",
    "    2. features_select [grid: use or drop marital status]\n",
    "    3. normalizetion V\n",
    "    4. smote [grid: (1)% (2)k for knn] V\n",
    "    5. rf model [grid: (1)tree regularizetion (4)type of sampling (5)whaight (a stage)] V\n",
    "    6. grid it - get a finel estimator V\n",
    "    \n",
    "c. pipline the following - with gride sarch - for xgboost: \n",
    "\n",
    "    1. encoder\n",
    "    2. features_select [grid: use or drop marital status]\n",
    "    3. normalizetion\n",
    "    4. smote [grid: (1)% (2)k for knn]\n",
    "    5. xgboost model [grid: (1)whaight (a stage) (2)learning rate]\n",
    "    6. grid it - get a finel estimator\n",
    "    \n",
    "d. cv for the two models and choose the best\n",
    "\n",
    "d2. roc \n",
    "\n",
    "e. run the best on all the data and submit"
   ]
  },
  {
   "cell_type": "markdown",
   "id": "d30eaf8e",
   "metadata": {},
   "source": [
    "A STAGE\n",
    "\n",
    "SEER*Stat Name: SEER historic stage A\n",
    "\n",
    "Field Description: Derived from Collaborative Stage (CS) for 2004+ and Extent of Disease (EOD) from 1973-2003. It is a simplified version of stage: in situ, localized, regional, distant, & unknown. Over time several different EOD schemes have been used. Thus caution should be used when doing trend analysis. For more information including sites and years for which it isn't calculated, see http://seer.cancer.gov/seerstat/variables/seer/lrd-stage.\n",
    "\n",
    "1\n",
    "\n",
    "Regional — A neoplasm that has extended 1) beyond the limits of the organ of origin\n",
    "directly into surrounding organs or tissues; 2) into regional lymph nodes by way of the\n",
    "lymphatic system; or 3) by a combination of extension and regional lymph nodes.\n",
    "\n",
    "2\n",
    "\n",
    "Distant — A neoplasm that has spread to parts of the body remote from the primary\n",
    "tumor either by direct extension or by discontinuous metastasis (e.g., implantation or\n",
    "seeding) to distant organs, issues, or via the lymphatic system to distant lymph nodes."
   ]
  },
  {
   "cell_type": "code",
   "execution_count": 1,
   "id": "4b84d9bc",
   "metadata": {},
   "outputs": [],
   "source": [
    "import numpy as np # linear algebra\n",
    "import pandas as pd # data processing, CSV file I/O (e.g. pd.read_csv)\n",
    "import sklearn.preprocessing as preprocessing\n",
    "import matplotlib.pyplot as plt\n",
    "import seaborn as sns\n",
    "#!pip install imbalanced-learn\n",
    "from numpy import mean\n",
    "#from sklearn.model_selection import cross_val_score\n",
    "#from sklearn.model_selection import RepeatedStratifiedKFold\n",
    "#from sklearn.tree import DecisionTreeClassifier\n",
    "from imblearn.pipeline import Pipeline\n",
    "from imblearn.over_sampling import SMOTE\n",
    "from sklearn.preprocessing import OneHotEncoder\n",
    "from sklearn.preprocessing import FunctionTransformer\n"
   ]
  },
  {
   "cell_type": "code",
   "execution_count": 2,
   "id": "8aba2043",
   "metadata": {},
   "outputs": [],
   "source": [
    "from cancer_func import cancer_encode\n",
    "from cancer_func import cancer_features_select\n",
    "from cancer_func import cancer_encoder\n",
    "from cancer_func import cancer_features_selector\n",
    "from cancer_func import report\n",
    "from cancer_func import cancer_encode_without_ms"
   ]
  },
  {
   "cell_type": "code",
   "execution_count": 3,
   "id": "f02e398b",
   "metadata": {},
   "outputs": [],
   "source": [
    "# grid search k value for SMOTE oversampling for imbalanced classification\n",
    "from numpy import mean\n",
    "from sklearn.datasets import make_classification\n",
    "from sklearn.model_selection import cross_val_score\n",
    "from sklearn.model_selection import RepeatedStratifiedKFold\n",
    "from sklearn.tree import DecisionTreeClassifier\n",
    "from imblearn.pipeline import Pipeline\n",
    "from imblearn.over_sampling import SMOTE\n",
    "from imblearn.under_sampling import RandomUnderSampler\n",
    "from sklearn.preprocessing import StandardScaler\n",
    "\n"
   ]
  },
  {
   "cell_type": "code",
   "execution_count": 4,
   "id": "37182b36",
   "metadata": {},
   "outputs": [],
   "source": [
    "from sklearn.model_selection import cross_val_score\n",
    "from sklearn.model_selection import RepeatedStratifiedKFold\n",
    "from sklearn.metrics import confusion_matrix, classification_report\n",
    "from sklearn.metrics import accuracy_score\n",
    "from sklearn.metrics import roc_curve, roc_auc_score\n",
    "from cancer_func import report"
   ]
  },
  {
   "cell_type": "code",
   "execution_count": 5,
   "id": "5423ebe9",
   "metadata": {},
   "outputs": [],
   "source": [
    "import matplotlib.pyplot as plt\n",
    "from sklearn import datasets, metrics, model_selection, svm\n",
    "import numpy as np\n",
    "import matplotlib.pyplot as plt\n",
    "import pandas as pd\n",
    "from sklearn.metrics import confusion_matrix, classification_report\n",
    "from sklearn.metrics import accuracy_score\n",
    "from sklearn.metrics import roc_curve, roc_auc_score\n",
    "import warnings\n",
    "\n",
    "warnings.filterwarnings('ignore')\n",
    "%matplotlib inline"
   ]
  },
  {
   "cell_type": "code",
   "execution_count": 6,
   "id": "e6f891b3",
   "metadata": {},
   "outputs": [],
   "source": [
    "#from sklearn.pipeline import Pipeline\n",
    "from imblearn.pipeline import Pipeline\n",
    "from sklearn.model_selection import GridSearchCV\n",
    "from sklearn.linear_model import LogisticRegression\n",
    "from sklearn.model_selection import cross_validate"
   ]
  },
  {
   "cell_type": "code",
   "execution_count": 7,
   "id": "273c0ffd",
   "metadata": {},
   "outputs": [],
   "source": [
    "df = pd.read_csv('Breast_Cancer.csv')"
   ]
  },
  {
   "cell_type": "code",
   "execution_count": 67,
   "id": "792937cc",
   "metadata": {},
   "outputs": [],
   "source": [
    "#כאן אני מנסה לייצר משתנים \"סטטיסטיים\" מהסטטוס וחודשי החיים\n",
    "df = pd.read_csv('Breast_Cancer.csv')\n",
    "df[]"
   ]
  },
  {
   "cell_type": "code",
   "execution_count": 26,
   "id": "1553578c",
   "metadata": {},
   "outputs": [
    {
     "name": "stdout",
     "output_type": "stream",
     "text": [
      "<class 'pandas.core.frame.DataFrame'>\n",
      "RangeIndex: 4024 entries, 0 to 4023\n",
      "Data columns (total 22 columns):\n",
      " #   Column                          Non-Null Count  Dtype  \n",
      "---  ------                          --------------  -----  \n",
      " 0   Age                             4024 non-null   int64  \n",
      " 1   T Stage                         4024 non-null   float64\n",
      " 2   N Stage                         4024 non-null   float64\n",
      " 3   6th Stage                       4024 non-null   float64\n",
      " 4   Grade                           4024 non-null   float64\n",
      " 5   A Stage                         4024 non-null   float64\n",
      " 6   Tumor Size                      4024 non-null   int64  \n",
      " 7   Estrogen Status                 4024 non-null   float64\n",
      " 8   Progesterone Status             4024 non-null   float64\n",
      " 9   Regional Node Examined          4024 non-null   int64  \n",
      " 10  Reginol Node Positive           4024 non-null   int64  \n",
      " 11  Race_Black                      4024 non-null   float64\n",
      " 12  Race_Other                      4024 non-null   float64\n",
      " 13  Race_White                      4024 non-null   float64\n",
      " 14  6th Stage_IIA                   4024 non-null   float64\n",
      " 15  6th Stage_IIB                   4024 non-null   float64\n",
      " 16  6th Stage_IIIA                  4024 non-null   float64\n",
      " 17  6th Stage_IIIB                  4024 non-null   float64\n",
      " 18  6th Stage_IIIC                  4024 non-null   float64\n",
      " 19  Regional_Node_pos_%             4024 non-null   float64\n",
      " 20  Estrogen&Progesterone positive  4024 non-null   float64\n",
      " 21  Estrogen&Progesterone Negative  4024 non-null   float64\n",
      "dtypes: float64(18), int64(4)\n",
      "memory usage: 691.8 KB\n"
     ]
    }
   ],
   "source": [
    "df.info()"
   ]
  },
  {
   "cell_type": "code",
   "execution_count": 93,
   "id": "bfa4201b",
   "metadata": {},
   "outputs": [
    {
     "data": {
      "text/plain": [
       "Text(0.5, 1.0, 'A Stage')"
      ]
     },
     "execution_count": 93,
     "metadata": {},
     "output_type": "execute_result"
    },
    {
     "data": {
      "image/png": "[encoded data removed]",
      "text/plain": [
       "<Figure size 500x500 with 1 Axes>"
      ]
     },
     "metadata": {},
     "output_type": "display_data"
    }
   ],
   "source": [
    "fig = plt.figure(figsize=(5, 5))\n",
    "\n",
    "ax1 = fig.add_subplot(1, 1, 1)\n",
    "ax1 = df.groupby(['A Stage'])['6th Stage'].count().plot.bar()\n",
    "for index,data in enumerate(df.groupby(['A Stage'])['6th Stage'].count()):\n",
    "    ax1.text(x=index-0.05 , y =data+10 , s=f\"{round(data)}\" , fontdict=dict(fontsize=12))\n",
    "ax1.set_title(\"A Stage\")\n",
    "\n"
   ]
  },
  {
   "cell_type": "markdown",
   "id": "48089a36",
   "metadata": {},
   "source": [
    "# starting the pipline"
   ]
  },
  {
   "cell_type": "code",
   "execution_count": 8,
   "id": "d6332b3a",
   "metadata": {},
   "outputs": [],
   "source": [
    "#trying to mage my own scorer\n",
    "from sklearn.metrics import make_scorer, f1_score, recall_score\n",
    "\n",
    "def f1_recall_avg(y_true, y_pred):\n",
    "    f1 = f1_score(y_true, y_pred)\n",
    "    recall = recall_score(y_true, y_pred)\n",
    "    avg = (f1 + 0.1*recall) / 1.1\n",
    "    return avg\n",
    "\n",
    "scorer_f1_recall = make_scorer(f1_recall_avg)"
   ]
  },
  {
   "cell_type": "markdown",
   "id": "903367fa",
   "metadata": {},
   "source": [
    "new pipline"
   ]
  },
  {
   "cell_type": "code",
   "execution_count": 9,
   "id": "de13d1ae",
   "metadata": {},
   "outputs": [],
   "source": [
    "df = pd.read_csv('Breast_Cancer.csv')\n",
    "df = cancer_encode_without_ms(df)\n",
    "#df = cancer_encode(df)\n",
    "df = cancer_features_select(df)\n",
    "X = df.drop(['A Stage'], axis=1, inplace=False) #sould be without  \n",
    "y = df['A Stage']"
   ]
  },
  {
   "cell_type": "code",
   "execution_count": 10,
   "id": "59b5a7aa",
   "metadata": {},
   "outputs": [],
   "source": [
    "over = SMOTE()\n",
    "scaler = StandardScaler() #אני מנסה פה להשתמש בסקלר בלי לעטוף חזרה את הנתונים בטבלת פנדה. אם זה לא יעבוד נעטוף בפונקציה נפרדת\n",
    "logistic = LogisticRegression()#max_iter=10000) #צריך להגדיר את המודל \n",
    "#log_steps = [(\"encoder\",encoder),(\"selector\",selector),(\"scaler\", scaler), (\"over\", over), (\"logistic\", logistic)]\n",
    "log_steps = [(\"scaler\", scaler), (\"over\", over), (\"logistic\", logistic)]\n",
    "\n",
    "pipe_log = Pipeline(steps=log_steps)\n",
    "\n",
    "param_grid_log = {\n",
    "    \"over__sampling_strategy\": [0.1,0.2,0.3,0.5],\n",
    "    \"over__k_neighbors\": [5,6,7,8],\n",
    "    \"logistic__C\": [1,4],\n",
    "    \"logistic__class_weight\":[{0: 1, 1: 1},{0: 1, 1: 2},{0: 1, 1: 3},{0: 1, 1: 10}]\n",
    "}\n"
   ]
  },
  {
   "cell_type": "code",
   "execution_count": 11,
   "id": "6207e837",
   "metadata": {
    "scrolled": true
   },
   "outputs": [
    {
     "name": "stdout",
     "output_type": "stream",
     "text": [
      "Best parameter (CV score=0.381):\n",
      "{'logistic__C': 1, 'logistic__class_weight': {0: 1, 1: 3}, 'over__k_neighbors': 5, 'over__sampling_strategy': 0.1}\n"
     ]
    }
   ],
   "source": [
    "\n",
    "search = GridSearchCV(pipe_log, param_grid_log, n_jobs=5,scoring=make_scorer(f1_recall_avg))\n",
    "search.fit(X, y)\n",
    "print(\"Best parameter (CV score=%0.3f):\" % search.best_score_)\n",
    "print(search.best_params_)\n",
    "log_estimator = search.best_estimator_"
   ]
  },
  {
   "cell_type": "markdown",
   "id": "6cb06bb3",
   "metadata": {},
   "source": [
    "# evaluate pipeline\n"
   ]
  },
  {
   "cell_type": "code",
   "execution_count": 12,
   "id": "8d2b5bfd",
   "metadata": {},
   "outputs": [
    {
     "name": "stdout",
     "output_type": "stream",
     "text": [
      "Mean f1:  0.308\n",
      "Mean recall: 0.864\n",
      "Mean precision: 0.188\n"
     ]
    }
   ],
   "source": [
    "cv = RepeatedStratifiedKFold(n_splits=5, n_repeats=3, random_state=1)\n",
    "scores_log = cross_validate(log_estimator, X, y, scoring=['recall','f1','precision'], cv=cv, n_jobs=-1)\n",
    "print('Mean f1:  %.3f' % mean(scores_log['test_f1']))\n",
    "print('Mean recall: %.3f' % mean(scores_log['test_recall']))\n",
    "print('Mean precision: %.3f' % mean(scores_log['test_precision']))\n"
   ]
  },
  {
   "cell_type": "code",
   "execution_count": 13,
   "id": "bd5c2a28",
   "metadata": {},
   "outputs": [
    {
     "data": {
      "text/plain": [
       "(0.0, 1.1)"
      ]
     },
     "execution_count": 13,
     "metadata": {},
     "output_type": "execute_result"
    },
    {
     "data": {
      "image/png": "[encoded data removed]",
      "text/plain": [
       "<Figure size 640x480 with 1 Axes>"
      ]
     },
     "metadata": {},
     "output_type": "display_data"
    }
   ],
   "source": [
    "fpr, tpr, thresholds = roc_curve(y, log_estimator.predict(X), pos_label=1)\n",
    "res = pd.DataFrame({'FPR': fpr, 'TPR': tpr, 'Threshold': thresholds})\n",
    "plt.plot(fpr, tpr)\n",
    "plt.title('ROC')\n",
    "plt.xlabel('FPR (False Positive Rate = 1-specificity)')\n",
    "plt.ylabel('TPR (True Positive Rate = sensitivity)')\n",
    "plt.xlim([-0.05, 1])\n",
    "plt.ylim([0, 1.1])"
   ]
  },
  {
   "cell_type": "code",
   "execution_count": 41,
   "id": "9d31963a",
   "metadata": {},
   "outputs": [],
   "source": [
    "#res[res.TPR==1]"
   ]
  },
  {
   "cell_type": "code",
   "execution_count": 35,
   "id": "f5337c62",
   "metadata": {},
   "outputs": [
    {
     "name": "stdout",
     "output_type": "stream",
     "text": [
      "with f1_recall scorer:\n",
      "accuracy: 0.895\n",
      "\n",
      "      0.0  1.0\n",
      "0.0  3510  422\n",
      "1.0     0   92\n",
      "\n",
      "              precision    recall  f1-score   support\n",
      "\n",
      "         0.0       1.00      0.89      0.94      3932\n",
      "         1.0       0.18      1.00      0.30        92\n",
      "\n",
      "    accuracy                           0.90      4024\n",
      "   macro avg       0.59      0.95      0.62      4024\n",
      "weighted avg       0.98      0.90      0.93      4024\n",
      "\n"
     ]
    }
   ],
   "source": [
    "print(\"with f1_recall scorer:\")\n",
    "print(report(search, X, y))"
   ]
  },
  {
   "cell_type": "code",
   "execution_count": 14,
   "id": "df6d8dcb",
   "metadata": {},
   "outputs": [
    {
     "name": "stdout",
     "output_type": "stream",
     "text": [
      "with f1 scorer:\n",
      "accuracy: 0.911\n",
      "\n",
      "      0.0  1.0\n",
      "0.0  3581  351\n",
      "1.0     7   85\n",
      "\n",
      "              precision    recall  f1-score   support\n",
      "\n",
      "         0.0       1.00      0.91      0.95      3932\n",
      "         1.0       0.19      0.92      0.32        92\n",
      "\n",
      "    accuracy                           0.91      4024\n",
      "   macro avg       0.60      0.92      0.64      4024\n",
      "weighted avg       0.98      0.91      0.94      4024\n",
      "\n"
     ]
    }
   ],
   "source": [
    "print(\"with f1 scorer:\")\n",
    "print(report(search, X, y))"
   ]
  },
  {
   "cell_type": "markdown",
   "id": "c0cba0ae",
   "metadata": {},
   "source": [
    "# random forest"
   ]
  },
  {
   "cell_type": "code",
   "execution_count": 15,
   "id": "c498a6e8",
   "metadata": {},
   "outputs": [],
   "source": [
    "from sklearn.ensemble import RandomForestClassifier"
   ]
  },
  {
   "cell_type": "code",
   "execution_count": 16,
   "id": "233982ec",
   "metadata": {},
   "outputs": [],
   "source": [
    "rf = RandomForestClassifier()\n",
    "over = SMOTE()\n",
    "scaler = StandardScaler()\n",
    "\n",
    "rf_steps = [(\"scaler\", scaler), (\"over\", over), (\"rf\", rf)]\n",
    "pipe_rf = Pipeline(steps=rf_steps)\n",
    "\n",
    "param_grid_rf = {\n",
    "    \"over__sampling_strategy\": [0.1,0.2,0.3,0.5],\n",
    "    \"over__k_neighbors\": [5,6,7,8],\n",
    "    \"rf__max_depth\": [3,4,5,6],\n",
    "    \"rf__min_samples_leaf\": [4,5,6,10],\n",
    "    \"rf__class_weight\":[{0: 1, 1: 1},{0: 1, 1: 2},{0: 1, 1: 3},{0: 1, 1: 10}]\n",
    "}\n"
   ]
  },
  {
   "cell_type": "code",
   "execution_count": 17,
   "id": "56999fdd",
   "metadata": {},
   "outputs": [
    {
     "name": "stdout",
     "output_type": "stream",
     "text": [
      "Best parameter (CV score=0.396):\n",
      "{'over__k_neighbors': 7, 'over__sampling_strategy': 0.1, 'rf__class_weight': {0: 1, 1: 2}, 'rf__max_depth': 4, 'rf__min_samples_leaf': 10}\n"
     ]
    }
   ],
   "source": [
    "\n",
    "search_rf = GridSearchCV(pipe_rf, param_grid_rf, n_jobs=5,scoring=make_scorer(f1_recall_avg))\n",
    "search_rf.fit(X, y)\n",
    "print(\"Best parameter (CV score=%0.3f):\" % search_rf.best_score_)\n",
    "print(search_rf.best_params_)\n",
    "rf_estimator =search_rf.best_estimator_\n",
    "#לא ברור לי איך אני יודע שהוא לא עשה הערכה גם על הנתונים שהוא המציא"
   ]
  },
  {
   "cell_type": "code",
   "execution_count": 66,
   "id": "a9cdd6ed",
   "metadata": {},
   "outputs": [
    {
     "name": "stdout",
     "output_type": "stream",
     "text": [
      "Mean f1:  0.333\n",
      "Mean recall: 0.680\n"
     ]
    }
   ],
   "source": [
    "cv = RepeatedStratifiedKFold(n_splits=5, n_repeats=2, random_state=1)\n",
    "scores = cross_validate(rf_estimator, X, y, scoring=['recall','f1','precision'], cv=cv, n_jobs=-1)\n",
    "print('Mean f1:  %.3f' % mean(scores['test_f1']))\n",
    "print('Mean recall: %.3f' % mean(scores['test_recall']))\n"
   ]
  },
  {
   "cell_type": "code",
   "execution_count": 38,
   "id": "fc092efa",
   "metadata": {},
   "outputs": [
    {
     "name": "stdout",
     "output_type": "stream",
     "text": [
      "Mean f1:  0.297\n",
      "Mean recall: 0.882\n"
     ]
    }
   ],
   "source": [
    "cv = RepeatedStratifiedKFold(n_splits=5, n_repeats=2, random_state=1)\n",
    "scores = cross_validate(rf_estimator, X, y, scoring=['recall','f1','precision'], cv=cv, n_jobs=-1)\n",
    "print('Mean f1:  %.3f' % mean(scores['test_f1']))\n",
    "print('Mean recall: %.3f' % mean(scores['test_recall']))\n",
    "print('Mean recall: %.3f' % mean(scores['test_precision']))\n"
   ]
  },
  {
   "cell_type": "code",
   "execution_count": 18,
   "id": "49cc1146",
   "metadata": {},
   "outputs": [
    {
     "name": "stdout",
     "output_type": "stream",
     "text": [
      "Mean f1:  0.328\n",
      "Mean recall: 0.723\n",
      "Mean recall: 0.213\n"
     ]
    }
   ],
   "source": [
    "cv = RepeatedStratifiedKFold(n_splits=5, n_repeats=2, random_state=1)\n",
    "scores_rf = cross_validate(rf_estimator, X, y, scoring=['recall','f1','precision'], cv=cv, n_jobs=-1)\n",
    "print('Mean f1:  %.3f' % mean(scores_rf['test_f1']))\n",
    "print('Mean recall: %.3f' % mean(scores_rf['test_recall']))\n",
    "print('Mean recall: %.3f' % mean(scores_rf['test_precision']))"
   ]
  },
  {
   "cell_type": "code",
   "execution_count": 40,
   "id": "b8619800",
   "metadata": {},
   "outputs": [
    {
     "data": {
      "text/plain": [
       "(0.0, 1.1)"
      ]
     },
     "execution_count": 40,
     "metadata": {},
     "output_type": "execute_result"
    },
    {
     "data": {
      "image/png": "[encoded data removed]",
      "text/plain": [
       "<Figure size 640x480 with 1 Axes>"
      ]
     },
     "metadata": {},
     "output_type": "display_data"
    }
   ],
   "source": [
    "fpr, tpr, thresholds = roc_curve(y, rf_estimator.predict(X), pos_label=1)\n",
    "res = pd.DataFrame({'FPR': fpr, 'TPR': tpr, 'Threshold': thresholds})\n",
    "plt.plot(fpr, tpr)\n",
    "plt.title('ROC')\n",
    "plt.xlabel('FPR (False Positive Rate = 1-specificity)')\n",
    "plt.ylabel('TPR (True Positive Rate = sensitivity)')\n",
    "plt.xlim([-0.05, 1])\n",
    "plt.ylim([0, 1.1])"
   ]
  },
  {
   "cell_type": "code",
   "execution_count": 19,
   "id": "0163fe23",
   "metadata": {},
   "outputs": [
    {
     "data": {
      "text/plain": [
       "(0.0, 1.1)"
      ]
     },
     "execution_count": 19,
     "metadata": {},
     "output_type": "execute_result"
    },
    {
     "data": {
      "image/png": "[encoded data removed]",
      "text/plain": [
       "<Figure size 640x480 with 1 Axes>"
      ]
     },
     "metadata": {},
     "output_type": "display_data"
    }
   ],
   "source": [
    "fpr, tpr, thresholds = roc_curve(y, rf_estimator.predict(X), pos_label=1)\n",
    "res = pd.DataFrame({'FPR': fpr, 'TPR': tpr, 'Threshold': thresholds})\n",
    "plt.plot(fpr, tpr)\n",
    "plt.title('ROC')\n",
    "plt.xlabel('FPR (False Positive Rate = 1-specificity)')\n",
    "plt.ylabel('TPR (True Positive Rate = sensitivity)')\n",
    "plt.xlim([-0.05, 1])\n",
    "plt.ylim([0, 1.1])"
   ]
  },
  {
   "cell_type": "code",
   "execution_count": 15,
   "id": "8675727d",
   "metadata": {},
   "outputs": [
    {
     "name": "stdout",
     "output_type": "stream",
     "text": [
      "with f1 scorer:\n",
      "accuracy: 0.958\n",
      "\n",
      "      0.0  1.0\n",
      "0.0  3779  153\n",
      "1.0    14   78\n",
      "\n",
      "              precision    recall  f1-score   support\n",
      "\n",
      "         0.0       1.00      0.96      0.98      3932\n",
      "         1.0       0.34      0.85      0.48        92\n",
      "\n",
      "    accuracy                           0.96      4024\n",
      "   macro avg       0.67      0.90      0.73      4024\n",
      "weighted avg       0.98      0.96      0.97      4024\n",
      "\n"
     ]
    }
   ],
   "source": [
    "print(\"with f1 scorer:\")\n",
    "print(report(search, X, y))"
   ]
  },
  {
   "cell_type": "code",
   "execution_count": 27,
   "id": "8be6d519",
   "metadata": {
    "scrolled": true
   },
   "outputs": [
    {
     "name": "stdout",
     "output_type": "stream",
     "text": [
      "with f1_recall scorer:\n",
      "accuracy: 0.889\n",
      "\n",
      "      0.0  1.0\n",
      "0.0  3485  447\n",
      "1.0     0   92\n",
      "\n",
      "              precision    recall  f1-score   support\n",
      "\n",
      "         0.0       1.00      0.89      0.94      3932\n",
      "         1.0       0.17      1.00      0.29        92\n",
      "\n",
      "    accuracy                           0.89      4024\n",
      "   macro avg       0.59      0.94      0.62      4024\n",
      "weighted avg       0.98      0.89      0.92      4024\n",
      "\n"
     ]
    }
   ],
   "source": [
    "print(\"with f1_recall scorer:\")\n",
    "print(report(search_rf, X, y))"
   ]
  },
  {
   "cell_type": "code",
   "execution_count": 39,
   "id": "be66471e",
   "metadata": {},
   "outputs": [
    {
     "name": "stdout",
     "output_type": "stream",
     "text": [
      "with (0.25)f1 and (1)recall scorer:\n",
      "accuracy: 0.897\n",
      "\n",
      "      0.0  1.0\n",
      "0.0  3519  413\n",
      "1.0     0   92\n",
      "\n",
      "              precision    recall  f1-score   support\n",
      "\n",
      "         0.0       1.00      0.89      0.94      3932\n",
      "         1.0       0.18      1.00      0.31        92\n",
      "\n",
      "    accuracy                           0.90      4024\n",
      "   macro avg       0.59      0.95      0.63      4024\n",
      "weighted avg       0.98      0.90      0.93      4024\n",
      "\n"
     ]
    }
   ],
   "source": [
    "print(\"with (0.25)f1 and (1)recall scorer:\")\n",
    "print(report(search_rf, X, y))"
   ]
  },
  {
   "cell_type": "code",
   "execution_count": 26,
   "id": "b49b3993",
   "metadata": {},
   "outputs": [
    {
     "data": {
      "text/plain": [
       "array([1.76844725e-02, 1.52443199e-01, 1.89782140e-01, 3.40430639e-01,\n",
       "       3.12934422e-02, 3.39234597e-02, 7.26508650e-03, 7.65134668e-03,\n",
       "       3.07403444e-02, 1.07254353e-01, 1.97209676e-03, 4.64359260e-04,\n",
       "       3.60232389e-03, 3.47023180e-03, 4.22237627e-03, 1.51509647e-04,\n",
       "       1.78022010e-03, 1.93057448e-03, 6.39378242e-02])"
      ]
     },
     "execution_count": 26,
     "metadata": {},
     "output_type": "execute_result"
    }
   ],
   "source": [
    "\n",
    "\n",
    "\n",
    "search.best_estimator_.named_steps['rf'].feature_importances_"
   ]
  },
  {
   "cell_type": "code",
   "execution_count": 42,
   "id": "e858547d",
   "metadata": {},
   "outputs": [
    {
     "name": "stdout",
     "output_type": "stream",
     "text": [
      "feature importances: \n",
      "Age 0.63\n",
      "T Stage  17.43\n",
      "N Stage 20.79\n",
      "6th Stage 37.11\n",
      "Grade 1.22\n",
      "Tumor Size 3.87\n",
      "Estrogen Status 0.43\n",
      "Progesterone Status 0.54\n",
      "Regional Node Examined 2.22\n",
      "Reginol Node Positive 10.38\n",
      "Race_Black 0.0\n",
      "Race_Other 0.02\n",
      "Race_White 0.15\n",
      "Regional_Node_pos_% 5.21\n"
     ]
    }
   ],
   "source": [
    "hd = list(X.columns)\n",
    "print(\"feature importances: \")\n",
    "for i, f in zip(hd, search_rf.best_estimator_.named_steps['rf'].feature_importances_):\n",
    "     print(i,round(f*100,2))"
   ]
  },
  {
   "cell_type": "code",
   "execution_count": 27,
   "id": "b2dc3bbb",
   "metadata": {},
   "outputs": [
    {
     "name": "stdout",
     "output_type": "stream",
     "text": [
      "feature importances: \n",
      "Age 0.43\n",
      "T Stage  15.46\n",
      "N Stage 13.45\n",
      "6th Stage 31.42\n",
      "Grade 1.0\n",
      "Tumor Size 2.57\n",
      "Estrogen Status 0.29\n",
      "Progesterone Status 0.2\n",
      "Regional Node Examined 1.98\n",
      "Reginol Node Positive 8.91\n",
      "Race_Black 0.09\n",
      "Race_Other 0.07\n",
      "Race_White 0.18\n",
      "6th Stage_IIA 0.12\n",
      "6th Stage_IIB 0.61\n",
      "6th Stage_IIIA 0.77\n",
      "6th Stage_IIIB 7.76\n",
      "6th Stage_IIIC 8.32\n",
      "Regional_Node_pos_% 6.03\n",
      "Estrogen&Progesterone positive 0.22\n",
      "Estrogen&Progesterone Negative 0.11\n"
     ]
    }
   ],
   "source": [
    "hd = list(X.columns)\n",
    "print(\"feature importances: \")\n",
    "for i, f in zip(hd, search_rf.best_estimator_.named_steps['rf'].feature_importances_):\n",
    "     print(i,round(f*100,2))"
   ]
  },
  {
   "cell_type": "markdown",
   "id": "08483b18",
   "metadata": {},
   "source": [
    "# xgboost"
   ]
  },
  {
   "cell_type": "code",
   "execution_count": 1,
   "id": "0015583f",
   "metadata": {},
   "outputs": [
    {
     "name": "stdout",
     "output_type": "stream",
     "text": [
      "Defaulting to user installation because normal site-packages is not writeable\n",
      "Collecting xgboost\n",
      "  Downloading xgboost-1.7.5-py3-none-win_amd64.whl (70.9 MB)\n",
      "     --------------------------------------- 70.9/70.9 MB 12.8 MB/s eta 0:00:00\n",
      "Requirement already satisfied: numpy in c:\\programdata\\anaconda3\\lib\\site-packages (from xgboost) (1.21.5)\n",
      "Requirement already satisfied: scipy in c:\\programdata\\anaconda3\\lib\\site-packages (from xgboost) (1.9.1)\n",
      "Installing collected packages: xgboost\n",
      "Successfully installed xgboost-1.7.5\n"
     ]
    }
   ],
   "source": [
    "!pip install xgboost"
   ]
  },
  {
   "cell_type": "code",
   "execution_count": 2,
   "id": "92172e06",
   "metadata": {},
   "outputs": [
    {
     "name": "stdout",
     "output_type": "stream",
     "text": [
      "Defaulting to user installation because normal site-packages is not writeable\n",
      "Collecting lightgbm\n",
      "  Downloading lightgbm-3.3.5-py3-none-win_amd64.whl (1.0 MB)\n",
      "     ---------------------------------------- 1.0/1.0 MB 2.5 MB/s eta 0:00:00\n",
      "Requirement already satisfied: scikit-learn!=0.22.0 in c:\\programdata\\anaconda3\\lib\\site-packages (from lightgbm) (1.2.2)\n",
      "Requirement already satisfied: wheel in c:\\programdata\\anaconda3\\lib\\site-packages (from lightgbm) (0.37.1)\n",
      "Requirement already satisfied: numpy in c:\\programdata\\anaconda3\\lib\\site-packages (from lightgbm) (1.21.5)\n",
      "Requirement already satisfied: scipy in c:\\programdata\\anaconda3\\lib\\site-packages (from lightgbm) (1.9.1)\n",
      "Requirement already satisfied: threadpoolctl>=2.0.0 in c:\\programdata\\anaconda3\\lib\\site-packages (from scikit-learn!=0.22.0->lightgbm) (2.2.0)\n",
      "Requirement already satisfied: joblib>=1.1.1 in c:\\programdata\\anaconda3\\lib\\site-packages (from scikit-learn!=0.22.0->lightgbm) (1.2.0)\n",
      "Installing collected packages: lightgbm\n",
      "Successfully installed lightgbm-3.3.5\n"
     ]
    }
   ],
   "source": [
    "!pip install lightgbm"
   ]
  },
  {
   "cell_type": "code",
   "execution_count": 22,
   "id": "854a203f",
   "metadata": {},
   "outputs": [],
   "source": [
    "\n",
    "# check xgboost version\n",
    "import xgboost\n",
    "import lightgbm\n",
    "from lightgbm import LGBMClassifier\n"
   ]
  },
  {
   "cell_type": "code",
   "execution_count": null,
   "id": "846c9464",
   "metadata": {},
   "outputs": [],
   "source": []
  },
  {
   "cell_type": "markdown",
   "id": "c0bd8c6c",
   "metadata": {},
   "source": [
    "# lgbm"
   ]
  },
  {
   "cell_type": "code",
   "execution_count": 23,
   "id": "a4eeb7d3",
   "metadata": {},
   "outputs": [],
   "source": [
    "LGBM = LGBMClassifier()\n",
    "LGBM_steps = [(\"scaler\", scaler), (\"over\", over), (\"LGBM\", LGBM)]\n",
    "pipe_LGBM = Pipeline(steps=LGBM_steps)\n",
    "\n",
    "param_grid_LGBM = {\n",
    "    \"over__sampling_strategy\": [0.1,0.2,0.3],\n",
    "    \"over__k_neighbors\": [6,7,8],\n",
    "    \"LGBM__max_depth\": [3,4,6,7,8],\n",
    "    \"LGBM__learning_rate\":[0.05,0.1,0.2,0.01],\n",
    "    \"LGBM__class_weight\":[{0: 1, 1: 10},{0: 1, 1: 2},{0: 1, 1: 3},{0: 1, 1: 5},{0: 1, 1: 6}],\n",
    "     \"LGBM__lambda_l1\":[0,1]\n",
    "}"
   ]
  },
  {
   "cell_type": "code",
   "execution_count": null,
   "id": "16702d0c",
   "metadata": {},
   "outputs": [],
   "source": [
    "LGBM_search = GridSearchCV(pipe_LGBM, param_grid_LGBM, n_jobs=5,scoring='f1')\n",
    "LGBM_search.fit(X, y)\n",
    "LGBM_estimator =LGBM_search.best_estimator_\n",
    "\n",
    "print(\"Best parameter (CV score=%0.3f):\" % LGBM_search.best_score_)\n",
    "print(LGBM_search.best_params_)"
   ]
  },
  {
   "cell_type": "code",
   "execution_count": null,
   "id": "0283a644",
   "metadata": {},
   "outputs": [],
   "source": [
    "cv = RepeatedStratifiedKFold(n_splits=5, n_repeats=2, random_state=1)\n",
    "scores = cross_validate(LGBM_estimator, X, y, scoring=['recall','f1','precision'], cv=cv, n_jobs=-1)\n",
    "print('Mean f1:  %.3f' % mean(scores['test_f1']))\n",
    "print('Mean recall: %.3f' % mean(scores['test_recall']))\n",
    "print('Mean precision: %.3f' % mean(scores['test_precision']))\n"
   ]
  },
  {
   "cell_type": "code",
   "execution_count": 24,
   "id": "8d7b7df2",
   "metadata": {},
   "outputs": [
    {
     "name": "stdout",
     "output_type": "stream",
     "text": [
      "[LightGBM] [Warning] lambda_l1 is set=1, reg_alpha=0.0 will be ignored. Current value: lambda_l1=1\n",
      "Best parameter (CV score=0.426):\n"
     ]
    },
    {
     "ename": "AttributeError",
     "evalue": "'Pipeline' object has no attribute 'best_params_'",
     "output_type": "error",
     "traceback": [
      "\u001b[1;31m---------------------------------------------------------------------------\u001b[0m",
      "\u001b[1;31mAttributeError\u001b[0m                            Traceback (most recent call last)",
      "\u001b[1;32m~\\AppData\\Local\\Temp\\ipykernel_7976\\2526681856.py\u001b[0m in \u001b[0;36m<module>\u001b[1;34m\u001b[0m\n\u001b[0;32m      4\u001b[0m \u001b[1;33m\u001b[0m\u001b[0m\n\u001b[0;32m      5\u001b[0m \u001b[0mprint\u001b[0m\u001b[1;33m(\u001b[0m\u001b[1;34m\"Best parameter (CV score=%0.3f):\"\u001b[0m \u001b[1;33m%\u001b[0m \u001b[0mLGBM_search_recall\u001b[0m\u001b[1;33m.\u001b[0m\u001b[0mbest_score_\u001b[0m\u001b[1;33m)\u001b[0m\u001b[1;33m\u001b[0m\u001b[1;33m\u001b[0m\u001b[0m\n\u001b[1;32m----> 6\u001b[1;33m \u001b[0mprint\u001b[0m\u001b[1;33m(\u001b[0m\u001b[0mLGBM_estimator_recall\u001b[0m\u001b[1;33m.\u001b[0m\u001b[0mbest_params_\u001b[0m\u001b[1;33m)\u001b[0m\u001b[1;33m\u001b[0m\u001b[1;33m\u001b[0m\u001b[0m\n\u001b[0m",
      "\u001b[1;31mAttributeError\u001b[0m: 'Pipeline' object has no attribute 'best_params_'"
     ]
    }
   ],
   "source": [
    "LGBM_search_recall = GridSearchCV(pipe_LGBM, param_grid_LGBM, n_jobs=5,scoring=make_scorer(f1_recall_avg))\n",
    "LGBM_search_recall.fit(X, y)\n",
    "LGBM_estimator_recall =LGBM_search_recall.best_estimator_\n",
    "\n",
    "print(\"Best parameter (CV score=%0.3f):\" % LGBM_search_recall.best_score_)\n",
    "print(LGBM_estimator_recall.best_params_)"
   ]
  },
  {
   "cell_type": "code",
   "execution_count": 55,
   "id": "0ec42d1a",
   "metadata": {},
   "outputs": [
    {
     "name": "stdout",
     "output_type": "stream",
     "text": [
      "Best parameter (CV score=0.417):\n",
      "{'LGBM__class_weight': {0: 1, 1: 5}, 'LGBM__lambda_l1': 1, 'LGBM__learning_rate': 0.05, 'LGBM__max_depth': 6, 'over__k_neighbors': 8, 'over__sampling_strategy': 0.1}\n"
     ]
    }
   ],
   "source": [
    "print(\"Best parameter (CV score=%0.3f):\" % LGBM_search_recall.best_score_)\n",
    "\n",
    "print(LGBM_search_recall.best_params_)"
   ]
  },
  {
   "cell_type": "code",
   "execution_count": 56,
   "id": "76d10815",
   "metadata": {},
   "outputs": [
    {
     "name": "stdout",
     "output_type": "stream",
     "text": [
      "Mean f1:  0.358\n",
      "Mean recall: 0.659\n"
     ]
    }
   ],
   "source": [
    "cv = RepeatedStratifiedKFold(n_splits=5, n_repeats=2, random_state=1)\n",
    "scores_recall = cross_validate(LGBM_estimator_recall, X, y, scoring=['recall','f1'], cv=cv, n_jobs=-1)\n",
    "print('Mean f1:  %.3f' % mean(scores_recall['test_f1']))\n",
    "print('Mean recall: %.3f' % mean(scores_recall['test_recall']))"
   ]
  },
  {
   "cell_type": "code",
   "execution_count": null,
   "id": "93fe0e20",
   "metadata": {},
   "outputs": [],
   "source": [
    "cv = RepeatedStratifiedKFold(n_splits=5, n_repeats=2, random_state=1)\n",
    "scores_recall = cross_validate(LGBM_estimator_recall, X, y, scoring=['recall','f1','precision'], cv=cv, n_jobs=-1)\n",
    "print('Mean f1:  %.3f' % mean(scores_recall['test_f1']))\n",
    "print('Mean recall: %.3f' % mean(scores_recall['test_recall']))\n",
    "print('Mean recall: %.3f' % mean(scores_recall['test_precision']))\n"
   ]
  },
  {
   "cell_type": "code",
   "execution_count": 26,
   "id": "29e765db",
   "metadata": {},
   "outputs": [
    {
     "name": "stdout",
     "output_type": "stream",
     "text": [
      "LGBM with f1 scorer:\n",
      "accuracy: 0.946\n",
      "\n",
      "      0.0  1.0\n",
      "0.0  3724  208\n",
      "1.0     9   83\n",
      "\n",
      "              precision    recall  f1-score   support\n",
      "\n",
      "         0.0       1.00      0.95      0.97      3932\n",
      "         1.0       0.29      0.90      0.43        92\n",
      "\n",
      "    accuracy                           0.95      4024\n",
      "   macro avg       0.64      0.92      0.70      4024\n",
      "weighted avg       0.98      0.95      0.96      4024\n",
      "\n"
     ]
    }
   ],
   "source": [
    "print(\"LGBM with f1 scorer:\")\n",
    "print(report(LGBM_search, X, y))"
   ]
  },
  {
   "cell_type": "code",
   "execution_count": 61,
   "id": "95685a33",
   "metadata": {},
   "outputs": [
    {
     "name": "stdout",
     "output_type": "stream",
     "text": [
      "LGBM with f1 and recall scorer:\n",
      "accuracy: 0.962\n",
      "\n",
      "      0.0  1.0\n",
      "0.0  3780  152\n",
      "1.0     1   91\n",
      "\n",
      "              precision    recall  f1-score   support\n",
      "\n",
      "         0.0       1.00      0.96      0.98      3932\n",
      "         1.0       0.37      0.99      0.54        92\n",
      "\n",
      "    accuracy                           0.96      4024\n",
      "   macro avg       0.69      0.98      0.76      4024\n",
      "weighted avg       0.99      0.96      0.97      4024\n",
      "\n"
     ]
    }
   ],
   "source": [
    "print(\"LGBM with f1 and recall scorer:\")\n",
    "print(report(LGBM_search_recall, X, y))"
   ]
  },
  {
   "cell_type": "code",
   "execution_count": 64,
   "id": "b054d646",
   "metadata": {},
   "outputs": [
    {
     "data": {
      "text/plain": [
       "array([171, 194,  15, 100, 118, 130,  29,  22, 173, 114,   4,   2,  25,\n",
       "       225])"
      ]
     },
     "execution_count": 64,
     "metadata": {},
     "output_type": "execute_result"
    }
   ],
   "source": [
    "LGBM_estimator_recall.named_steps['LGBM'].feature_importances_"
   ]
  },
  {
   "cell_type": "code",
   "execution_count": 63,
   "id": "133c10af",
   "metadata": {},
   "outputs": [
    {
     "name": "stdout",
     "output_type": "stream",
     "text": [
      "feature importances: \n",
      "Age 171\n",
      "T Stage  194\n",
      "N Stage 15\n",
      "6th Stage 100\n",
      "Grade 118\n",
      "Tumor Size 130\n",
      "Estrogen Status 29\n",
      "Progesterone Status 22\n",
      "Regional Node Examined 173\n",
      "Reginol Node Positive 114\n",
      "Race_Black 4\n",
      "Race_Other 2\n",
      "Race_White 25\n",
      "Regional_Node_pos_% 225\n"
     ]
    }
   ],
   "source": [
    "hd = list(X.columns)\n",
    "print(\"feature importances: \")\n",
    "for i, f in zip(hd, LGBM_search_recall.best_estimator_.named_steps['LGBM'].feature_importances_):\n",
    "     print(i,round(f,2))"
   ]
  },
  {
   "cell_type": "code",
   "execution_count": null,
   "id": "2c6174d3",
   "metadata": {},
   "outputs": [],
   "source": [
    "hd = list(X.columns)\n",
    "print(\"feature importances: \")\n",
    "for i, f in zip(hd, LGBM_search_recall.best_estimator_.named_steps['LGBM'].feature_importances_):\n",
    "     print(i,round(f,2))"
   ]
  },
  {
   "cell_type": "markdown",
   "id": "3703d531",
   "metadata": {},
   "source": [
    "playing with the code"
   ]
  },
  {
   "cell_type": "code",
   "execution_count": 20,
   "id": "06bc0add",
   "metadata": {},
   "outputs": [],
   "source": [
    "def report(clf, X, y):\n",
    "    acc = accuracy_score(y_true=y,\n",
    "                         y_pred=clf.predict(X))\n",
    "    cm = pd.DataFrame(confusion_matrix(y_true=y,\n",
    "                                       y_pred=clf.predict(X)),\n",
    "                      index=clf.classes_,\n",
    "                      columns=clf.classes_)\n",
    "    rep = classification_report(y_true=y,\n",
    "                                y_pred=clf.predict(X))\n",
    "    return 'accuracy: {:.3f}\\n\\n{}\\n\\n{}'.format(acc, cm, rep)\n"
   ]
  }
 ],
 "metadata": {
  "kernelspec": {
   "display_name": "Python 3 (ipykernel)",
   "language": "python",
   "name": "python3"
  },
  "language_info": {
   "codemirror_mode": {
    "name": "ipython",
    "version": 3
   },
   "file_extension": ".py",
   "mimetype": "text/x-python",
   "name": "python",
   "nbconvert_exporter": "python",
   "pygments_lexer": "ipython3",
   "version": "3.9.13"
  }
 },
 "nbformat": 4,
 "nbformat_minor": 5
}
