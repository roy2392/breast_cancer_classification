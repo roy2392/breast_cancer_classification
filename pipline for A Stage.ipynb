{
 "cells": [
  {
   "attachments": {},
   "cell_type": "markdown",
   "id": "9cb02896",
   "metadata": {},
   "source": [
    "# pipline for A Stage"
   ]
  },
  {
   "attachments": {},
   "cell_type": "markdown",
   "id": "d30eaf8e",
   "metadata": {},
   "source": [
    "A STAGE\n",
    "\n",
    "SEER*Stat Name: SEER historic stage A\n",
    "\n",
    "Field Description: Derived from Collaborative Stage (CS) for 2004+ and Extent of Disease (EOD) from 1973-2003. It is a simplified version of stage: in situ, localized, regional, distant, & unknown. Over time several different EOD schemes have been used. Thus caution should be used when doing trend analysis. For more information including sites and years for which it isn't calculated, see http://seer.cancer.gov/seerstat/variables/seer/lrd-stage.\n",
    "\n",
    "1\n",
    "\n",
    "Regional — A neoplasm that has extended 1) beyond the limits of the organ of origin\n",
    "directly into surrounding organs or tissues; 2) into regional lymph nodes by way of the\n",
    "lymphatic system; or 3) by a combination of extension and regional lymph nodes.\n",
    "\n",
    "2\n",
    "\n",
    "Distant — A neoplasm that has spread to parts of the body remote from the primary\n",
    "tumor either by direct extension or by discontinuous metastasis (e.g., implantation or\n",
    "seeding) to distant organs, issues, or via the lymphatic system to distant lymph nodes."
   ]
  },
  {
   "cell_type": "code",
   "execution_count": 1,
   "id": "4b84d9bc",
   "metadata": {},
   "outputs": [],
   "source": [
    "import numpy as np # linear algebra\n",
    "import pandas as pd # data processing, CSV file I/O (e.g. pd.read_csv)\n",
    "import sklearn.preprocessing as preprocessing\n",
    "import matplotlib.pyplot as plt\n",
    "import seaborn as sns\n",
    "from numpy import mean\n",
    "from imblearn.pipeline import Pipeline\n",
    "from imblearn.over_sampling import SMOTE\n",
    "from sklearn.preprocessing import OneHotEncoder\n",
    "from sklearn.preprocessing import FunctionTransformer\n",
    "# grid search k value for SMOTE oversampling for imbalanced classification\n",
    "from sklearn.datasets import make_classification\n",
    "from sklearn.model_selection import cross_val_score\n",
    "from sklearn.model_selection import RepeatedStratifiedKFold\n",
    "from sklearn.tree import DecisionTreeClassifier\n",
    "from imblearn.over_sampling import SMOTE\n",
    "from imblearn.under_sampling import RandomUnderSampler\n",
    "from sklearn.preprocessing import StandardScaler\n",
    "from sklearn.model_selection import cross_val_score, RepeatedStratifiedKFold\n",
    "from sklearn.metrics import confusion_matrix, classification_report\n",
    "from sklearn.metrics import accuracy_score, fbeta_score\n",
    "from sklearn.metrics import roc_curve, roc_auc_score\n",
    "from sklearn import datasets, metrics, model_selection#, svm\n",
    "import warnings\n",
    "\n",
    "#from sklearn.pipeline import Pipeline\n",
    "from imblearn.pipeline import Pipeline\n",
    "from sklearn.model_selection import GridSearchCV, cross_validate\n",
    "from sklearn.linear_model import LogisticRegression\n",
    "from sklearn.metrics import make_scorer, f1_score, recall_score,precision_score\n",
    "\n",
    "warnings.filterwarnings('ignore')\n",
    "%matplotlib inline"
   ]
  },
  {
   "cell_type": "code",
   "execution_count": 2,
   "id": "8aba2043",
   "metadata": {},
   "outputs": [],
   "source": [
    "from cancer_func import cancer_encode\n",
    "from cancer_func import cancer_features_select\n",
    "from cancer_func import cancer_encoder\n",
    "from cancer_func import cancer_features_selector\n",
    "from cancer_func import report, cross_validation_report\n",
    "from cancer_func import cancer_encode_without_ms"
   ]
  },
  {
   "cell_type": "code",
   "execution_count": 3,
   "id": "c498a6e8",
   "metadata": {},
   "outputs": [],
   "source": [
    "from sklearn.ensemble import RandomForestClassifier"
   ]
  },
  {
   "cell_type": "code",
   "execution_count": 4,
   "id": "273c0ffd",
   "metadata": {},
   "outputs": [],
   "source": [
    "df = pd.read_csv('Breast_Cancer.csv')"
   ]
  },
  {
   "cell_type": "code",
   "execution_count": 5,
   "id": "1553578c",
   "metadata": {},
   "outputs": [
    {
     "name": "stdout",
     "output_type": "stream",
     "text": [
      "<class 'pandas.core.frame.DataFrame'>\n",
      "RangeIndex: 4024 entries, 0 to 4023\n",
      "Data columns (total 16 columns):\n",
      " #   Column                  Non-Null Count  Dtype \n",
      "---  ------                  --------------  ----- \n",
      " 0   Age                     4024 non-null   int64 \n",
      " 1   Race                    4024 non-null   object\n",
      " 2   Marital Status          4024 non-null   object\n",
      " 3   T Stage                 4024 non-null   object\n",
      " 4   N Stage                 4024 non-null   object\n",
      " 5   6th Stage               4024 non-null   object\n",
      " 6   differentiate           4024 non-null   object\n",
      " 7   Grade                   4024 non-null   object\n",
      " 8   A Stage                 4024 non-null   object\n",
      " 9   Tumor Size              4024 non-null   int64 \n",
      " 10  Estrogen Status         4024 non-null   object\n",
      " 11  Progesterone Status     4024 non-null   object\n",
      " 12  Regional Node Examined  4024 non-null   int64 \n",
      " 13  Reginol Node Positive   4024 non-null   int64 \n",
      " 14  Survival Months         4024 non-null   int64 \n",
      " 15  Status                  4024 non-null   object\n",
      "dtypes: int64(5), object(11)\n",
      "memory usage: 503.1+ KB\n"
     ]
    }
   ],
   "source": [
    "df.info()"
   ]
  },
  {
   "cell_type": "code",
   "execution_count": 6,
   "id": "45c1b74a",
   "metadata": {},
   "outputs": [
    {
     "data": {
      "image/png": "[encoded data removed]",
      "text/plain": [
       "<Figure size 640x480 with 1 Axes>"
      ]
     },
     "metadata": {},
     "output_type": "display_data"
    }
   ],
   "source": [
    "# Set the pinkish colors\n",
    "colors = ['#FFC0CB', '#FF69B4', '#FF1493']  # Pinkish colors\n",
    "\n",
    "# Group by 'Grade' and 'Race' and count the rows, specifying the desired order\n",
    "grouped_df = df.groupby(['A Stage'])['Age'].count()\n",
    "\n",
    "# Calculate the relative percentages within each grade\n",
    "#relative_percentages = grouped_df.apply(lambda x: 100 * x / x.sum(), axis=1)\n",
    "\n",
    "\n",
    "# Plot the unstacked bar graph\n",
    "ax = grouped_df.plot.bar(color=colors)\n",
    "\n",
    "# Set the style and labels for the plot\n",
    "plt.rcParams['figure.figsize'] = (8, 5)  # Adjust the figure size as desired\n",
    "plt.xlabel('A stage')\n",
    "plt.ylabel('Count')\n",
    "plt.title('A stage in our sample')\n",
    "\n",
    "# Rotate the x-axis labels\n",
    "#plt.xticks(rotation=45)\n",
    "for index,data in enumerate(df.groupby(['A Stage'])['6th Stage'].count()):\n",
    "    ax.text(x=index-0.05 , y =data+10 , s=f\"{round(data)}\" , fontdict=dict(fontsize=12))\n",
    "\n",
    "plt.show()"
   ]
  },
  {
   "attachments": {},
   "cell_type": "markdown",
   "id": "48089a36",
   "metadata": {},
   "source": [
    "# starting the pipline"
   ]
  },
  {
   "cell_type": "code",
   "execution_count": 7,
   "id": "6eb0539e",
   "metadata": {},
   "outputs": [],
   "source": [
    "def f_new(y_true, y_pred):\n",
    "    precision = f1_score(y_true, y_pred)\n",
    "    recall = recall_score(y_true, y_pred)\n",
    "    if recall >0.80:\n",
    "        answer = 0.8+ f1_score(y_true, y_pred)\n",
    "        return answer\n",
    "    else:\n",
    "        return recall\n"
   ]
  },
  {
   "cell_type": "code",
   "execution_count": 8,
   "id": "e88b032f",
   "metadata": {},
   "outputs": [],
   "source": [
    "def f_new2(y_true, y_pred):\n",
    "    f1 = f1_score(y_true, y_pred)\n",
    "    recall = recall_score(y_true, y_pred)\n",
    "    if recall >0.80:\n",
    "        answer = recall+ f1\n",
    "        return answer\n",
    "    else:\n",
    "        return recall\n"
   ]
  },
  {
   "cell_type": "code",
   "execution_count": 9,
   "id": "b07ea8e4",
   "metadata": {},
   "outputs": [],
   "source": [
    "def f_new3(y_true, y_pred):\n",
    "    precision = precision_score(y_true, y_pred)\n",
    "    recall = recall_score(y_true, y_pred)\n",
    "    if recall >0.80:\n",
    "        answer = recall+ precision\n",
    "        return answer\n",
    "    else:\n",
    "        return recall\n"
   ]
  },
  {
   "attachments": {},
   "cell_type": "markdown",
   "id": "903367fa",
   "metadata": {},
   "source": [
    "new pipline"
   ]
  },
  {
   "cell_type": "code",
   "execution_count": 10,
   "id": "de13d1ae",
   "metadata": {},
   "outputs": [],
   "source": [
    "df = pd.read_csv('Breast_Cancer.csv')\n",
    "df = cancer_encode_without_ms(df)\n",
    "#df = cancer_encode(df)\n",
    "df = cancer_features_select(df)\n",
    "X = df.drop(['A Stage'], axis=1, inplace=False) #sould be without  \n",
    "y = df['A Stage']"
   ]
  },
  {
   "cell_type": "code",
   "execution_count": 11,
   "id": "59b5a7aa",
   "metadata": {},
   "outputs": [],
   "source": [
    "over = SMOTE()\n",
    "scaler = StandardScaler() #אני מנסה פה להשתמש בסקלר בלי לעטוף חזרה את הנתונים בטבלת פנדה. אם זה לא יעבוד נעטוף בפונקציה נפרדת\n",
    "logistic = LogisticRegression(max_iter=100000) #צריך להגדיר את המודל \n",
    "#log_steps = [(\"encoder\",encoder),(\"selector\",selector),(\"scaler\", scaler), (\"over\", over), (\"logistic\", logistic)]\n",
    "log_steps = [(\"scaler\", scaler), (\"over\", over), (\"logistic\", logistic)]\n",
    "\n",
    "pipe_log = Pipeline(steps=log_steps)\n",
    "\n",
    "param_grid_log = {\n",
    "    \"over__sampling_strategy\": [0.1,0.2,0.3,0.5],\n",
    "    \"over__k_neighbors\": [5,6,7,8],\n",
    "    \"logistic__C\": [1,4],\n",
    "    \"logistic__class_weight\":[{0: 1, 1: 1},{0: 1, 1: 2},{0: 1, 1: 3},{0: 1, 1: 10}]\n",
    "}\n"
   ]
  },
  {
   "cell_type": "code",
   "execution_count": 12,
   "id": "d916a4b8",
   "metadata": {},
   "outputs": [
    {
     "name": "stdout",
     "output_type": "stream",
     "text": [
      "Best parameter (CV score=1.134):\n",
      "{'logistic__C': 4, 'logistic__class_weight': {0: 1, 1: 3}, 'over__k_neighbors': 5, 'over__sampling_strategy': 0.1}\n"
     ]
    }
   ],
   "source": [
    "search_new = GridSearchCV(pipe_log, param_grid_log, n_jobs=5,scoring=make_scorer(f_new))\n",
    "search_new.fit(X, y)\n",
    "print(\"Best parameter (CV score=%0.3f):\" % search_new.best_score_)\n",
    "print(search_new.best_params_)\n",
    "log_estimator_new = search_new.best_estimator_"
   ]
  },
  {
   "cell_type": "code",
   "execution_count": 13,
   "id": "9dd7cadc",
   "metadata": {},
   "outputs": [
    {
     "name": "stdout",
     "output_type": "stream",
     "text": [
      "Best parameter (CV score=1.302):\n",
      "{'logistic__C': 4, 'logistic__class_weight': {0: 1, 1: 3}, 'over__k_neighbors': 6, 'over__sampling_strategy': 0.5}\n",
      "Mean f1:  0.298\n",
      "Mean recall: 0.967\n",
      "Mean precision: 0.176\n",
      "cross_validation confusion matrix\n",
      "     0       1\n",
      "0  3516    416\n",
      "1   3       89\n"
     ]
    }
   ],
   "source": [
    "search_new2 = GridSearchCV(pipe_log, param_grid_log, n_jobs=5,scoring=make_scorer(f_new2))\n",
    "search_new2.fit(X, y)\n",
    "print(\"Best parameter (CV score=%0.3f):\" % search_new2.best_score_)\n",
    "print(search_new2.best_params_)\n",
    "log_estimator_new2 = search_new2.best_estimator_\n",
    "cv = RepeatedStratifiedKFold(n_splits=5, n_repeats=3, random_state=1)\n",
    "scores_log = cross_validate(log_estimator_new2, X, y, scoring=['recall','f1','precision'], cv=cv, n_jobs=-1)\n",
    "cross_validation_report(df,'A Stage',scores_log)"
   ]
  },
  {
   "cell_type": "code",
   "execution_count": 14,
   "id": "6ec541aa",
   "metadata": {},
   "outputs": [
    {
     "name": "stdout",
     "output_type": "stream",
     "text": [
      "Best parameter (CV score=1.177):\n",
      "{'logistic__C': 4, 'logistic__class_weight': {0: 1, 1: 10}, 'over__k_neighbors': 5, 'over__sampling_strategy': 0.2}\n",
      "Mean f1:  0.296\n",
      "Mean recall: 0.978\n",
      "Mean precision: 0.174\n",
      "cross_validation confusion matrix\n",
      "     0       1\n",
      "0  3506    426\n",
      "1   2       90\n"
     ]
    }
   ],
   "source": [
    "search_new2 = GridSearchCV(pipe_log, param_grid_log, n_jobs=5,scoring=make_scorer(f_new3))\n",
    "search_new2.fit(X, y)\n",
    "print(\"Best parameter (CV score=%0.3f):\" % search_new2.best_score_)\n",
    "print(search_new2.best_params_)\n",
    "log_estimator_new2 = search_new2.best_estimator_\n",
    "cv = RepeatedStratifiedKFold(n_splits=5, n_repeats=3, random_state=1)\n",
    "scores_log = cross_validate(log_estimator_new2, X, y, scoring=['recall','f1','precision'], cv=cv, n_jobs=-1)\n",
    "cross_validation_report(df,'A Stage',scores_log)"
   ]
  },
  {
   "cell_type": "code",
   "execution_count": 15,
   "id": "53132d82",
   "metadata": {},
   "outputs": [],
   "source": [
    "def cross_validation_report(df,binary_target,cv_scores):\n",
    "    print('Mean f1:  %.3f' % mean(cv_scores['test_f1']))\n",
    "    print('Mean recall: %.3f' % mean(cv_scores['test_recall']))\n",
    "    print('Mean precision: %.3f' % mean(cv_scores['test_precision']))\n",
    "    rec = mean(cv_scores['test_recall'])\n",
    "    pre = mean(cv_scores['test_precision'])\n",
    "    total_p = df.groupby([binary_target])[binary_target].count()[1]\n",
    "    total_n = df.groupby([binary_target])[binary_target].count()[0]\n",
    "    TP = rec*total_p\n",
    "    FN = (1-rec)*total_p\n",
    "    FP = ((1-pre)/pre)*TP\n",
    "    TN = total_n - FP\n",
    "    print(\"cross_validation confusion matrix\")\n",
    "    print(\"     0       1\")\n",
    "    print(\"0 \",round(TN), \"  \", round(FP))\n",
    "    print(\"1  \",round(FN), \"     \", round(TP))\n",
    "\n",
    "    \n",
    "    "
   ]
  },
  {
   "attachments": {},
   "cell_type": "markdown",
   "id": "6cb06bb3",
   "metadata": {},
   "source": [
    "# evaluate pipeline\n"
   ]
  },
  {
   "cell_type": "code",
   "execution_count": 16,
   "id": "2e234f40",
   "metadata": {},
   "outputs": [
    {
     "data": {
      "text/plain": [
       "(0.0, 1.1)"
      ]
     },
     "execution_count": 16,
     "metadata": {},
     "output_type": "execute_result"
    },
    {
     "data": {
      "image/png": "[encoded data removed]",
      "text/plain": [
       "<Figure size 800x500 with 1 Axes>"
      ]
     },
     "metadata": {},
     "output_type": "display_data"
    }
   ],
   "source": [
    "fpr, tpr, thresholds = roc_curve(y, log_estimator_new.predict(X), pos_label=1)\n",
    "res = pd.DataFrame({'FPR': fpr, 'TPR': tpr, 'Threshold': thresholds})\n",
    "plt.plot(fpr, tpr)\n",
    "plt.title('ROC')\n",
    "plt.xlabel('FPR (False Positive Rate = 1-specificity)')\n",
    "plt.ylabel('TPR (True Positive Rate = sensitivity)')\n",
    "plt.xlim([-0.05, 1])\n",
    "plt.ylim([0, 1.1])"
   ]
  },
  {
   "attachments": {},
   "cell_type": "markdown",
   "id": "c0cba0ae",
   "metadata": {},
   "source": [
    "# random forest"
   ]
  },
  {
   "attachments": {},
   "cell_type": "markdown",
   "id": "142a9ae6",
   "metadata": {},
   "source": [
    "newes"
   ]
  },
  {
   "cell_type": "code",
   "execution_count": 17,
   "id": "bf4db944",
   "metadata": {},
   "outputs": [
    {
     "name": "stdout",
     "output_type": "stream",
     "text": [
      "Best parameter (CV score=1.299):\n",
      "{'over__k_neighbors': 7, 'over__sampling_strategy': 0.3, 'rf__class_weight': {0: 1, 1: 1}, 'rf__max_depth': 3, 'rf__min_samples_leaf': 6}\n"
     ]
    }
   ],
   "source": [
    "rf = RandomForestClassifier()\n",
    "over = SMOTE()\n",
    "scaler = StandardScaler()\n",
    "\n",
    "rf_steps = [(\"scaler\", scaler), (\"over\", over), (\"rf\", rf)]\n",
    "pipe_rf = Pipeline(steps=rf_steps)\n",
    "\n",
    "param_grid_rf = {\n",
    "    \"over__sampling_strategy\": [0.1,0.2,0.3,0.5],\n",
    "    \"over__k_neighbors\": [5,6,7,8],\n",
    "    \"rf__max_depth\": [3,4,5,6],\n",
    "    \"rf__min_samples_leaf\": [4,5,6,10],\n",
    "    \"rf__class_weight\":[{0: 1, 1: 1},{0: 1, 1: 2},{0: 1, 1: 3},{0: 1, 1: 10}]\n",
    "}\n",
    "search_rf = GridSearchCV(pipe_rf, param_grid_rf, n_jobs=5,scoring=make_scorer(f_new2))\n",
    "search_rf.fit(X, y)\n",
    "print(\"Best parameter (CV score=%0.3f):\" % search_rf.best_score_)\n",
    "print(search_rf.best_params_)\n",
    "rf_estimator =search_rf.best_estimator_\n"
   ]
  },
  {
   "cell_type": "code",
   "execution_count": 18,
   "id": "3e0b7c2e",
   "metadata": {},
   "outputs": [
    {
     "name": "stdout",
     "output_type": "stream",
     "text": [
      "Mean f1:  0.287\n",
      "Mean recall: 0.951\n",
      "Mean precision: 0.169\n",
      "cross_validation confusion matrix\n",
      "     0       1\n",
      "0  3503    429\n",
      "1   4       88\n"
     ]
    }
   ],
   "source": [
    "cv = RepeatedStratifiedKFold(n_splits=5, n_repeats=2, random_state=1)\n",
    "scores = cross_validate(rf_estimator, X, y, scoring=['recall','f1','precision'], cv=cv, n_jobs=-1)\n",
    "cross_validation_report(df,'A Stage',scores)"
   ]
  },
  {
   "cell_type": "code",
   "execution_count": 19,
   "id": "60cf02b2",
   "metadata": {},
   "outputs": [
    {
     "data": {
      "text/plain": [
       "(0.0, 1.1)"
      ]
     },
     "execution_count": 19,
     "metadata": {},
     "output_type": "execute_result"
    },
    {
     "data": {
      "image/png": "[encoded data removed]",
      "text/plain": [
       "<Figure size 800x500 with 1 Axes>"
      ]
     },
     "metadata": {},
     "output_type": "display_data"
    }
   ],
   "source": [
    "fpr, tpr, thresholds = roc_curve(y, rf_estimator.predict(X), pos_label=1)\n",
    "res = pd.DataFrame({'FPR': fpr, 'TPR': tpr, 'Threshold': thresholds})\n",
    "plt.plot(fpr, tpr)\n",
    "plt.title('ROC')\n",
    "plt.xlabel('FPR (False Positive Rate = 1-specificity)')\n",
    "plt.ylabel('TPR (True Positive Rate = sensitivity)')\n",
    "plt.xlim([-0.05, 1])\n",
    "plt.ylim([0, 1.1])"
   ]
  },
  {
   "cell_type": "code",
   "execution_count": 20,
   "id": "f5d8b631",
   "metadata": {},
   "outputs": [
    {
     "name": "stdout",
     "output_type": "stream",
     "text": [
      "feature importances: \n",
      "Age 0.15\n",
      "T Stage  14.35\n",
      "N Stage 18.42\n",
      "6th Stage 27.65\n",
      "Grade 0.77\n",
      "Tumor Size 1.72\n",
      "Estrogen Status 0.39\n",
      "Progesterone Status 0.11\n",
      "Regional Node Examined 1.07\n",
      "Reginol Node Positive 7.4\n",
      "Race_Black 0.25\n",
      "Race_Other 0.03\n",
      "Race_White 0.16\n",
      "6th Stage_IIA 2.11\n",
      "6th Stage_IIB 0.88\n",
      "6th Stage_IIIA 1.79\n",
      "6th Stage_IIIB 5.01\n",
      "6th Stage_IIIC 11.52\n",
      "Regional_Node_pos_% 6.1\n",
      "Estrogen&Progesterone positive 0.1\n",
      "Estrogen&Progesterone Negative 0.05\n"
     ]
    }
   ],
   "source": [
    "hd = list(X.columns)\n",
    "print(\"feature importances: \")\n",
    "for i, f in zip(hd, search_rf.best_estimator_.named_steps['rf'].feature_importances_):\n",
    "     print(i,round(f*100,2))"
   ]
  },
  {
   "cell_type": "code",
   "execution_count": 21,
   "id": "b2dc617e",
   "metadata": {},
   "outputs": [
    {
     "name": "stdout",
     "output_type": "stream",
     "text": [
      "Best parameter (CV score=1.176):\n",
      "{'over__k_neighbors': 6, 'over__sampling_strategy': 0.1, 'rf__class_weight': {0: 1, 1: 3}, 'rf__max_depth': 3, 'rf__min_samples_leaf': 4}\n",
      "Mean f1:  0.284\n",
      "Mean recall: 0.946\n",
      "Mean precision: 0.167\n",
      "cross_validation confusion matrix\n",
      "     0       1\n",
      "0  3498    434\n",
      "1   5       87\n"
     ]
    }
   ],
   "source": [
    "rf = RandomForestClassifier()\n",
    "over = SMOTE()\n",
    "scaler = StandardScaler()\n",
    "\n",
    "rf_steps = [(\"scaler\", scaler), (\"over\", over), (\"rf\", rf)]\n",
    "pipe_rf = Pipeline(steps=rf_steps)\n",
    "\n",
    "param_grid_rf = {\n",
    "    \"over__sampling_strategy\": [0.1,0.2,0.3,0.5],\n",
    "    \"over__k_neighbors\": [5,6,7,8],\n",
    "    \"rf__max_depth\": [3,4,5,6],\n",
    "    \"rf__min_samples_leaf\": [4,5,6,10],\n",
    "    \"rf__class_weight\":[{0: 1, 1: 1},{0: 1, 1: 2},{0: 1, 1: 3},{0: 1, 1: 10}]\n",
    "}\n",
    "search_rf = GridSearchCV(pipe_rf, param_grid_rf, n_jobs=5,scoring=make_scorer(f_new3))\n",
    "search_rf.fit(X, y)\n",
    "print(\"Best parameter (CV score=%0.3f):\" % search_rf.best_score_)\n",
    "print(search_rf.best_params_)\n",
    "rf_estimator =search_rf.best_estimator_\n",
    "cv = RepeatedStratifiedKFold(n_splits=5, n_repeats=2, random_state=1)\n",
    "scores = cross_validate(rf_estimator, X, y, scoring=['recall','f1','precision'], cv=cv, n_jobs=-1)\n",
    "cross_validation_report(df,'A Stage',scores)"
   ]
  },
  {
   "cell_type": "code",
   "execution_count": 22,
   "id": "dfbd1aa7",
   "metadata": {},
   "outputs": [
    {
     "data": {
      "text/plain": [
       "(0.0, 1.1)"
      ]
     },
     "execution_count": 22,
     "metadata": {},
     "output_type": "execute_result"
    },
    {
     "data": {
      "image/png": "[encoded data removed]",
      "text/plain": [
       "<Figure size 800x500 with 1 Axes>"
      ]
     },
     "metadata": {},
     "output_type": "display_data"
    }
   ],
   "source": [
    "fpr, tpr, thresholds = roc_curve(y, rf_estimator.predict(X), pos_label=1)\n",
    "res = pd.DataFrame({'FPR': fpr, 'TPR': tpr, 'Threshold': thresholds})\n",
    "plt.plot(fpr, tpr)\n",
    "plt.title('ROC')\n",
    "plt.xlabel('FPR (False Positive Rate = 1-specificity)')\n",
    "plt.ylabel('TPR (True Positive Rate = sensitivity)')\n",
    "plt.xlim([-0.05, 1])\n",
    "plt.ylim([0, 1.1])"
   ]
  },
  {
   "cell_type": "code",
   "execution_count": 23,
   "id": "55eaf6f2",
   "metadata": {},
   "outputs": [
    {
     "name": "stdout",
     "output_type": "stream",
     "text": [
      "feature importances: \n",
      "Age 0.33\n",
      "T Stage  12.76\n",
      "N Stage 15.35\n",
      "6th Stage 24.3\n",
      "Grade 0.52\n",
      "Tumor Size 1.85\n",
      "Estrogen Status 0.54\n",
      "Progesterone Status 0.03\n",
      "Regional Node Examined 0.86\n",
      "Reginol Node Positive 9.69\n",
      "Race_Black 0.03\n",
      "Race_Other 0.04\n",
      "Race_White 0.09\n",
      "6th Stage_IIA 1.21\n",
      "6th Stage_IIB 0.6\n",
      "6th Stage_IIIA 2.05\n",
      "6th Stage_IIIB 8.52\n",
      "6th Stage_IIIC 18.4\n",
      "Regional_Node_pos_% 2.46\n",
      "Estrogen&Progesterone positive 0.33\n",
      "Estrogen&Progesterone Negative 0.03\n"
     ]
    }
   ],
   "source": [
    "hd = list(X.columns)\n",
    "print(\"feature importances: \")\n",
    "for i, f in zip(hd, search_rf.best_estimator_.named_steps['rf'].feature_importances_):\n",
    "     print(i,round(f*100,2))"
   ]
  },
  {
   "attachments": {},
   "cell_type": "markdown",
   "id": "8d87693e",
   "metadata": {},
   "source": [
    "new"
   ]
  },
  {
   "cell_type": "code",
   "execution_count": 24,
   "id": "7ed2e302",
   "metadata": {},
   "outputs": [],
   "source": [
    "rf = RandomForestClassifier()\n",
    "over = SMOTE()\n",
    "scaler = StandardScaler()\n",
    "\n",
    "rf_steps = [(\"scaler\", scaler), (\"over\", over), (\"rf\", rf)]\n",
    "pipe_rf = Pipeline(steps=rf_steps)\n",
    "\n",
    "param_grid_rf = {\n",
    "    \"over__sampling_strategy\": [0.1,0.2,0.3,0.5],\n",
    "    \"over__k_neighbors\": [5,6,7,8],\n",
    "    \"rf__max_depth\": [3,4,5,6],\n",
    "    \"rf__min_samples_leaf\": [4,5,6,10],\n",
    "    \"rf__class_weight\":[{0: 1, 1: 1},{0: 1, 1: 2},{0: 1, 1: 3},{0: 1, 1: 10}]\n",
    "}\n",
    "\n"
   ]
  },
  {
   "cell_type": "code",
   "execution_count": 25,
   "id": "e858547d",
   "metadata": {},
   "outputs": [
    {
     "name": "stdout",
     "output_type": "stream",
     "text": [
      "feature importances: \n",
      "Age 0.33\n",
      "T Stage  12.76\n",
      "N Stage 15.35\n",
      "6th Stage 24.3\n",
      "Grade 0.52\n",
      "Tumor Size 1.85\n",
      "Estrogen Status 0.54\n",
      "Progesterone Status 0.03\n",
      "Regional Node Examined 0.86\n",
      "Reginol Node Positive 9.69\n",
      "Race_Black 0.03\n",
      "Race_Other 0.04\n",
      "Race_White 0.09\n",
      "6th Stage_IIA 1.21\n",
      "6th Stage_IIB 0.6\n",
      "6th Stage_IIIA 2.05\n",
      "6th Stage_IIIB 8.52\n",
      "6th Stage_IIIC 18.4\n",
      "Regional_Node_pos_% 2.46\n",
      "Estrogen&Progesterone positive 0.33\n",
      "Estrogen&Progesterone Negative 0.03\n"
     ]
    }
   ],
   "source": [
    "hd = list(X.columns)\n",
    "print(\"feature importances: \")\n",
    "for i, f in zip(hd, search_rf.best_estimator_.named_steps['rf'].feature_importances_):\n",
    "     print(i,round(f*100,2))"
   ]
  },
  {
   "cell_type": "code",
   "execution_count": 26,
   "id": "b2dc3bbb",
   "metadata": {},
   "outputs": [
    {
     "name": "stdout",
     "output_type": "stream",
     "text": [
      "feature importances: \n",
      "Age 0.33\n",
      "T Stage  12.76\n",
      "N Stage 15.35\n",
      "6th Stage 24.3\n",
      "Grade 0.52\n",
      "Tumor Size 1.85\n",
      "Estrogen Status 0.54\n",
      "Progesterone Status 0.03\n",
      "Regional Node Examined 0.86\n",
      "Reginol Node Positive 9.69\n",
      "Race_Black 0.03\n",
      "Race_Other 0.04\n",
      "Race_White 0.09\n",
      "6th Stage_IIA 1.21\n",
      "6th Stage_IIB 0.6\n",
      "6th Stage_IIIA 2.05\n",
      "6th Stage_IIIB 8.52\n",
      "6th Stage_IIIC 18.4\n",
      "Regional_Node_pos_% 2.46\n",
      "Estrogen&Progesterone positive 0.33\n",
      "Estrogen&Progesterone Negative 0.03\n"
     ]
    }
   ],
   "source": [
    "hd = list(X.columns)\n",
    "print(\"feature importances: \")\n",
    "for i, f in zip(hd, search_rf.best_estimator_.named_steps['rf'].feature_importances_):\n",
    "     print(i,round(f*100,2))"
   ]
  },
  {
   "attachments": {},
   "cell_type": "markdown",
   "id": "08483b18",
   "metadata": {},
   "source": [
    "# xgboost"
   ]
  },
  {
   "cell_type": "code",
   "execution_count": 27,
   "id": "0015583f",
   "metadata": {},
   "outputs": [],
   "source": [
    "# !pip install xgboost"
   ]
  },
  {
   "cell_type": "code",
   "execution_count": 28,
   "id": "92172e06",
   "metadata": {},
   "outputs": [
    {
     "name": "stdout",
     "output_type": "stream",
     "text": [
      "zsh:1: command not found: pip\n"
     ]
    }
   ],
   "source": [
    "!pip install lightgbm"
   ]
  },
  {
   "cell_type": "code",
   "execution_count": 29,
   "id": "854a203f",
   "metadata": {},
   "outputs": [
    {
     "ename": "ModuleNotFoundError",
     "evalue": "No module named 'lightgbm'",
     "output_type": "error",
     "traceback": [
      "\u001b[0;31m---------------------------------------------------------------------------\u001b[0m",
      "\u001b[0;31mModuleNotFoundError\u001b[0m                       Traceback (most recent call last)",
      "Cell \u001b[0;32mIn[29], line 3\u001b[0m\n\u001b[1;32m      1\u001b[0m \u001b[39m# check xgboost version\u001b[39;00m\n\u001b[1;32m      2\u001b[0m \u001b[39mimport\u001b[39;00m \u001b[39mxgboost\u001b[39;00m\n\u001b[0;32m----> 3\u001b[0m \u001b[39mimport\u001b[39;00m \u001b[39mlightgbm\u001b[39;00m\n\u001b[1;32m      4\u001b[0m \u001b[39mfrom\u001b[39;00m \u001b[39mlightgbm\u001b[39;00m \u001b[39mimport\u001b[39;00m LGBMClassifier\n\u001b[1;32m      5\u001b[0m \u001b[39mfrom\u001b[39;00m \u001b[39mxgboost\u001b[39;00m \u001b[39mimport\u001b[39;00m XGBClassifier\n",
      "\u001b[0;31mModuleNotFoundError\u001b[0m: No module named 'lightgbm'"
     ]
    }
   ],
   "source": [
    "\n",
    "# check xgboost version\n",
    "import xgboost\n",
    "import lightgbm\n",
    "from lightgbm import LGBMClassifier\n",
    "from xgboost import XGBClassifier\n"
   ]
  },
  {
   "cell_type": "code",
   "execution_count": null,
   "id": "3234c702",
   "metadata": {},
   "outputs": [],
   "source": [
    "XGB = XGBClassifier(n_estimators=700)\n",
    "over = SMOTE()\n",
    "scaler = StandardScaler() #אני מנסה פה להשתמש בסקלר בלי לעטוף חזרה את הנתונים בטבלת פנדה. אם זה לא יעבוד נעטוף בפונקציה נפרדת\n",
    "XGB_steps = [(\"scaler\", scaler), (\"over\", over), (\"XGB\", XGB)]\n",
    "pipe_XGB= Pipeline(steps=XGB_steps)\n",
    "\n",
    "param_grid_XGB = {\n",
    "    \"over__sampling_strategy\": [0.4,0.5],\n",
    "    \"over__k_neighbors\": [7,9],\n",
    "    \"XGB__max_depth\": [3,4],\n",
    "    \"XGB__scale_pos_weight\": [5,10,50,80],\n",
    "    #'XGB__subsample': [1.0],\n",
    "    #\"XGB__colsample_bytree\": [1.0],\n",
    "    \"XGB__gamma\":[ 2,3,5],\n",
    "    \"XGB__learning_rate\":[0.05,0.1,0.01],\n",
    "}"
   ]
  },
  {
   "cell_type": "code",
   "execution_count": null,
   "id": "5bbcf1bd",
   "metadata": {
    "scrolled": true
   },
   "outputs": [],
   "source": [
    "XGB_search = GridSearchCV(pipe_XGB, param_grid_XGB, n_jobs=4,scoring=make_scorer(f_new))\n",
    "XGB_search.fit(X, y)\n",
    "XGB_estimator =XGB_search.best_estimator_\n",
    "\n",
    "print(\"Best parameter (CV score=%0.3f):\" % XGB_search.best_score_)\n",
    "print(XGB_search.best_params_)"
   ]
  },
  {
   "cell_type": "code",
   "execution_count": null,
   "id": "f324dfdc",
   "metadata": {},
   "outputs": [],
   "source": [
    "cv = RepeatedStratifiedKFold(n_splits=5, n_repeats=2, random_state=1)\n",
    "scores = cross_validate(XGB_estimator, X, y, scoring=['recall','f1','precision'], cv=cv, n_jobs=-1)\n",
    "print('Mean f1:  %.3f' % mean(scores['test_f1']))\n",
    "print('Mean recall: %.3f' % mean(scores['test_recall']))\n",
    "print('Mean precision: %.3f' % mean(scores['test_precision']))\n"
   ]
  },
  {
   "cell_type": "code",
   "execution_count": null,
   "id": "61b7a831",
   "metadata": {},
   "outputs": [],
   "source": [
    "print(report(XGB_search, X, y))"
   ]
  },
  {
   "cell_type": "code",
   "execution_count": null,
   "id": "ee81d46e",
   "metadata": {},
   "outputs": [],
   "source": [
    "XGB_search = GridSearchCV(pipe_XGB, param_grid_XGB, n_jobs=4,scoring=make_scorer(f_new2))\n",
    "XGB_search.fit(X, y)\n",
    "XGB_estimator =XGB_search.best_estimator_\n",
    "\n",
    "print(\"Best parameter (CV score=%0.3f):\" % XGB_search.best_score_)\n",
    "print(XGB_search.best_params_)"
   ]
  },
  {
   "cell_type": "code",
   "execution_count": null,
   "id": "c8dcad67",
   "metadata": {},
   "outputs": [],
   "source": [
    "cv = RepeatedStratifiedKFold(n_splits=5, n_repeats=2, random_state=1)\n",
    "scores = cross_validate(XGB_estimator, X, y, scoring=['recall','f1','precision'], cv=cv, n_jobs=-1)\n",
    "print('Mean f1:  %.3f' % mean(scores['test_f1']))\n",
    "print('Mean recall: %.3f' % mean(scores['test_recall']))\n",
    "print('Mean precision: %.3f' % mean(scores['test_precision']))\n"
   ]
  },
  {
   "cell_type": "code",
   "execution_count": null,
   "id": "b72009ca",
   "metadata": {},
   "outputs": [],
   "source": [
    "print(report(XGB_search, X, y))"
   ]
  },
  {
   "cell_type": "code",
   "execution_count": null,
   "id": "5841d67f",
   "metadata": {},
   "outputs": [],
   "source": [
    "XGB_search = GridSearchCV(pipe_XGB, param_grid_XGB, n_jobs=4,scoring=make_scorer(f_new))\n",
    "XGB_search.fit(X, y)\n",
    "XGB_estimator =XGB_search.best_estimator_\n",
    "\n",
    "print(\"Best parameter (CV score=%0.3f):\" % XGB_search.best_score_)\n",
    "print(XGB_search.best_params_)"
   ]
  },
  {
   "cell_type": "code",
   "execution_count": null,
   "id": "951f7fa5",
   "metadata": {},
   "outputs": [],
   "source": [
    "cv = RepeatedStratifiedKFold(n_splits=5, n_repeats=2, random_state=1)\n",
    "scores = cross_validate(XGB_estimator, X, y, scoring=['recall','f1','precision'], cv=cv, n_jobs=-1)\n",
    "print('Mean f1:  %.3f' % mean(scores['test_f1']))\n",
    "print('Mean recall: %.3f' % mean(scores['test_recall']))\n",
    "print('Mean precision: %.3f' % mean(scores['test_precision']))\n"
   ]
  },
  {
   "cell_type": "code",
   "execution_count": null,
   "id": "e2dfc1fe",
   "metadata": {},
   "outputs": [],
   "source": [
    "fpr, tpr, thresholds = roc_curve(y, XGB_estimator.predict(X), pos_label=1)\n",
    "res = pd.DataFrame({'FPR': fpr, 'TPR': tpr, 'Threshold': thresholds})\n",
    "plt.plot(fpr, tpr)\n",
    "plt.title('ROC')\n",
    "plt.xlabel('FPR (False Positive Rate = 1-specificity)')\n",
    "plt.ylabel('TPR (True Positive Rate = sensitivity)')\n",
    "plt.xlim([-0.05, 1])\n",
    "plt.ylim([0, 1.1])"
   ]
  },
  {
   "cell_type": "code",
   "execution_count": null,
   "id": "4878f14c",
   "metadata": {},
   "outputs": [],
   "source": [
    "XGB = XGBClassifier(n_estimators=700)\n",
    "over = SMOTE()\n",
    "scaler = StandardScaler() #אני מנסה פה להשתמש בסקלר בלי לעטוף חזרה את הנתונים בטבלת פנדה. אם זה לא יעבוד נעטוף בפונקציה נפרדת\n",
    "XGB_steps = [(\"scaler\", scaler), (\"over\", over), (\"XGB\", XGB)]\n",
    "pipe_XGB= Pipeline(steps=XGB_steps)\n",
    "\n",
    "param_grid_XGB = {\n",
    "    \"over__sampling_strategy\": [0.4,0.5,0.6],\n",
    "    \"over__k_neighbors\": [7,9],\n",
    "    \"XGB__max_depth\": [3,4,5],\n",
    "    \"XGB__scale_pos_weight\": [10,50,80,90],\n",
    "    'XGB__subsample': [0.8,1.0],\n",
    "    \"XGB__colsample_bytree\": [0.8,1.0],\n",
    "    \"XGB__gamma\":[ 2,3,5],\n",
    "    \"XGB__learning_rate\":[0.05,0.01]\n",
    "}"
   ]
  },
  {
   "cell_type": "code",
   "execution_count": null,
   "id": "696e56b6",
   "metadata": {},
   "outputs": [],
   "source": [
    "XGB_search = GridSearchCV(pipe_XGB, param_grid_XGB, n_jobs=4,scoring=make_scorer(f_new2))\n",
    "XGB_search.fit(X, y)\n",
    "XGB_estimator =XGB_search.best_estimator_\n",
    "\n",
    "print(\"Best parameter (CV score=%0.3f):\" % XGB_search.best_score_)\n",
    "print(XGB_search.best_params_)"
   ]
  },
  {
   "cell_type": "code",
   "execution_count": null,
   "id": "fcb1a4ce",
   "metadata": {},
   "outputs": [],
   "source": [
    "cv = RepeatedStratifiedKFold(n_splits=5, n_repeats=2, random_state=1)\n",
    "scores = cross_validate(XGB_estimator, X, y, scoring=['recall','f1','precision'], cv=cv, n_jobs=-1)\n",
    "print('Mean f1:  %.3f' % mean(scores['test_f1']))\n",
    "print('Mean recall: %.3f' % mean(scores['test_recall']))\n",
    "print('Mean precision: %.3f' % mean(scores['test_precision']))\n"
   ]
  },
  {
   "cell_type": "code",
   "execution_count": null,
   "id": "7a311925",
   "metadata": {},
   "outputs": [],
   "source": [
    "fpr, tpr, thresholds = roc_curve(y, XGB_estimator.predict(X), pos_label=1)\n",
    "res = pd.DataFrame({'FPR': fpr, 'TPR': tpr, 'Threshold': thresholds})\n",
    "plt.plot(fpr, tpr)\n",
    "plt.title('ROC')\n",
    "plt.xlabel('FPR (False Positive Rate = 1-specificity)')\n",
    "plt.ylabel('TPR (True Positive Rate = sensitivity)')\n",
    "plt.xlim([-0.05, 1])\n",
    "plt.ylim([0, 1.1])"
   ]
  },
  {
   "attachments": {},
   "cell_type": "markdown",
   "id": "c0bd8c6c",
   "metadata": {},
   "source": [
    "# lgbm"
   ]
  },
  {
   "attachments": {},
   "cell_type": "markdown",
   "id": "0de19429",
   "metadata": {},
   "source": [
    "newer"
   ]
  },
  {
   "cell_type": "code",
   "execution_count": null,
   "id": "71750de7",
   "metadata": {},
   "outputs": [],
   "source": [
    "LGBM = LGBMClassifier(learning_rate=0.01)\n",
    "LGBM_steps = [(\"scaler\", scaler), (\"over\", over), (\"LGBM\", LGBM)]\n",
    "pipe_LGBM = Pipeline(steps=LGBM_steps)\n",
    "\n",
    "param_grid_LGBM = {\n",
    "    \"over__sampling_strategy\": [0.1,0.2,0.3,0.4,0.5],\n",
    "    \"over__k_neighbors\": [6,7,8],\n",
    "    \"LGBM__max_depth\": [3,4,6,7,8],\n",
    "    \"LGBM__class_weight\":[{0: 1, 1: 10},{0: 1, 1: 15},{0: 1, 1: 3},{0: 1, 1: 5},{0: 1, 1: 6}],\n",
    "     \"LGBM__lambda_l1\":[0,1,2]\n",
    "}\n",
    "LGBM_search = GridSearchCV(pipe_LGBM, param_grid_LGBM, n_jobs=5,scoring=make_scorer(f_new2))\n",
    "LGBM_search.fit(X, y)\n",
    "LGBM_estimator =LGBM_search.best_estimator_\n",
    "\n",
    "print(\"Best parameter (CV score=%0.3f):\" % LGBM_search.best_score_)\n",
    "print(LGBM_search.best_params_)"
   ]
  },
  {
   "cell_type": "code",
   "execution_count": null,
   "id": "875aacee",
   "metadata": {},
   "outputs": [],
   "source": [
    "cv = RepeatedStratifiedKFold(n_splits=5, n_repeats=2, random_state=1)\n",
    "scores = cross_validate(LGBM_estimator, X, y, scoring=['recall','f1','precision'], cv=cv, n_jobs=-1)\n",
    "cross_validation_report(df,'A Stage',scores)"
   ]
  },
  {
   "cell_type": "code",
   "execution_count": null,
   "id": "e9b287a7",
   "metadata": {},
   "outputs": [],
   "source": [
    "hd = list(X.columns)\n",
    "print(\"feature importances: \")\n",
    "for i, f in zip(hd, LGBM_search.best_estimator_.named_steps['LGBM'].feature_importances_):\n",
    "     print(i,round(f,2))"
   ]
  },
  {
   "attachments": {},
   "cell_type": "markdown",
   "id": "07a84dd1",
   "metadata": {},
   "source": [
    "new"
   ]
  },
  {
   "cell_type": "code",
   "execution_count": null,
   "id": "00b2c7f7",
   "metadata": {},
   "outputs": [],
   "source": []
  },
  {
   "cell_type": "code",
   "execution_count": null,
   "id": "a4eeb7d3",
   "metadata": {},
   "outputs": [],
   "source": [
    "LGBM = LGBMClassifier()\n",
    "LGBM_steps = [(\"scaler\", scaler), (\"over\", over), (\"LGBM\", LGBM)]\n",
    "pipe_LGBM = Pipeline(steps=LGBM_steps)\n",
    "\n",
    "param_grid_LGBM = {\n",
    "    \"over__sampling_strategy\": [0.1,0.2,0.3],\n",
    "    \"over__k_neighbors\": [6,7,8],\n",
    "    \"LGBM__max_depth\": [3,4,6,7,8],\n",
    "    \"LGBM__learning_rate\":[0.05,0.1,0.01],\n",
    "    \"LGBM__class_weight\":[{0: 1, 1: 10},{0: 1, 1: 2},{0: 1, 1: 3},{0: 1, 1: 5},{0: 1, 1: 6}],\n",
    "     \"LGBM__lambda_l1\":[0,1]\n",
    "}"
   ]
  },
  {
   "cell_type": "code",
   "execution_count": null,
   "id": "f00a647e",
   "metadata": {},
   "outputs": [],
   "source": [
    "LGBM_search = GridSearchCV(pipe_LGBM, param_grid_LGBM, n_jobs=5,scoring=make_scorer(f_new))\n",
    "LGBM_search.fit(X, y)\n",
    "LGBM_estimator =LGBM_search.best_estimator_\n",
    "\n",
    "print(\"Best parameter (CV score=%0.3f):\" % LGBM_search.best_score_)\n",
    "print(LGBM_search.best_params_)"
   ]
  },
  {
   "cell_type": "code",
   "execution_count": null,
   "id": "247a8f6f",
   "metadata": {},
   "outputs": [],
   "source": [
    "cv = RepeatedStratifiedKFold(n_splits=5, n_repeats=2, random_state=1)\n",
    "scores = cross_validate(LGBM_estimator, X, y, scoring=['recall','f1','precision'], cv=cv, n_jobs=-1)\n",
    "print('Mean f1:  %.3f' % mean(scores['test_f1']))\n",
    "print('Mean recall: %.3f' % mean(scores['test_recall']))\n",
    "print('Mean precision: %.3f' % mean(scores['test_precision']))\n"
   ]
  },
  {
   "cell_type": "code",
   "execution_count": null,
   "id": "133c10af",
   "metadata": {},
   "outputs": [],
   "source": [
    "hd = list(X.columns)\n",
    "print(\"feature importances: \")\n",
    "for i, f in zip(hd, LGBM_search_recall.best_estimator_.named_steps['LGBM'].feature_importances_):\n",
    "     print(i,round(f,2))"
   ]
  }
 ],
 "metadata": {
  "kernelspec": {
   "display_name": "Python 3 (ipykernel)",
   "language": "python",
   "name": "python3"
  },
  "language_info": {
   "codemirror_mode": {
    "name": "ipython",
    "version": 3
   },
   "file_extension": ".py",
   "mimetype": "text/x-python",
   "name": "python",
   "nbconvert_exporter": "python",
   "pygments_lexer": "ipython3",
   "version": "3.11.3"
  }
 },
 "nbformat": 4,
 "nbformat_minor": 5
}
