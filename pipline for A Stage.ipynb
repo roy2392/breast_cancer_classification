{
 "cells": [
  {
   "cell_type": "markdown",
   "id": "9cb02896",
   "metadata": {},
   "source": [
    "# pipline for A Stage"
   ]
  },
  {
   "cell_type": "markdown",
   "id": "d30eaf8e",
   "metadata": {},
   "source": [
    "A STAGE\n",
    "\n",
    "SEER*Stat Name: SEER historic stage A\n",
    "\n",
    "Field Description: Derived from Collaborative Stage (CS) for 2004+ and Extent of Disease (EOD) from 1973-2003. It is a simplified version of stage: in situ, localized, regional, distant, & unknown. Over time several different EOD schemes have been used. Thus caution should be used when doing trend analysis. For more information including sites and years for which it isn't calculated, see http://seer.cancer.gov/seerstat/variables/seer/lrd-stage.\n",
    "\n",
    "1\n",
    "\n",
    "Regional — A neoplasm that has extended 1) beyond the limits of the organ of origin\n",
    "directly into surrounding organs or tissues; 2) into regional lymph nodes by way of the\n",
    "lymphatic system; or 3) by a combination of extension and regional lymph nodes.\n",
    "\n",
    "2\n",
    "\n",
    "Distant — A neoplasm that has spread to parts of the body remote from the primary\n",
    "tumor either by direct extension or by discontinuous metastasis (e.g., implantation or\n",
    "seeding) to distant organs, issues, or via the lymphatic system to distant lymph nodes."
   ]
  },
  {
   "cell_type": "code",
   "execution_count": 30,
   "id": "4b84d9bc",
   "metadata": {},
   "outputs": [],
   "source": [
    "import numpy as np # linear algebra\n",
    "import pandas as pd # data processing, CSV file I/O (e.g. pd.read_csv)\n",
    "import sklearn.preprocessing as preprocessing\n",
    "import matplotlib.pyplot as plt\n",
    "import seaborn as sns\n",
    "from numpy import mean\n",
    "from imblearn.pipeline import Pipeline\n",
    "from imblearn.over_sampling import SMOTE\n",
    "from sklearn.preprocessing import OneHotEncoder\n",
    "from sklearn.preprocessing import FunctionTransformer\n",
    "# grid search k value for SMOTE oversampling for imbalanced classification\n",
    "from sklearn.datasets import make_classification\n",
    "from sklearn.model_selection import cross_val_score\n",
    "from sklearn.model_selection import RepeatedStratifiedKFold\n",
    "from sklearn.tree import DecisionTreeClassifier\n",
    "from imblearn.over_sampling import SMOTE\n",
    "from imblearn.under_sampling import RandomUnderSampler\n",
    "from sklearn.preprocessing import StandardScaler\n",
    "from sklearn.model_selection import cross_val_score, RepeatedStratifiedKFold\n",
    "from sklearn.metrics import confusion_matrix, classification_report\n",
    "from sklearn.metrics import accuracy_score, fbeta_score\n",
    "from sklearn.metrics import roc_curve, roc_auc_score\n",
    "from sklearn import datasets, metrics, model_selection#, svm\n",
    "import warnings\n",
    "\n",
    "#from sklearn.pipeline import Pipeline\n",
    "from imblearn.pipeline import Pipeline\n",
    "from sklearn.model_selection import GridSearchCV, cross_validate\n",
    "from sklearn.linear_model import LogisticRegression\n",
    "from sklearn.metrics import make_scorer, f1_score, recall_score\n",
    "\n",
    "warnings.filterwarnings('ignore')\n",
    "%matplotlib inline"
   ]
  },
  {
   "cell_type": "code",
   "execution_count": 65,
   "id": "8aba2043",
   "metadata": {},
   "outputs": [
    {
     "ename": "ImportError",
     "evalue": "cannot import name 'cross_validation_report' from 'cancer_func' (C:\\Users\\yotam\\Desktop\\breast_cancer_classification\\cancer_func.py)",
     "output_type": "error",
     "traceback": [
      "\u001b[1;31m---------------------------------------------------------------------------\u001b[0m",
      "\u001b[1;31mImportError\u001b[0m                               Traceback (most recent call last)",
      "\u001b[1;32m~\\AppData\\Local\\Temp\\ipykernel_14084\\684734060.py\u001b[0m in \u001b[0;36m<module>\u001b[1;34m\u001b[0m\n\u001b[0;32m      3\u001b[0m \u001b[1;32mfrom\u001b[0m \u001b[0mcancer_func\u001b[0m \u001b[1;32mimport\u001b[0m \u001b[0mcancer_encoder\u001b[0m\u001b[1;33m\u001b[0m\u001b[1;33m\u001b[0m\u001b[0m\n\u001b[0;32m      4\u001b[0m \u001b[1;32mfrom\u001b[0m \u001b[0mcancer_func\u001b[0m \u001b[1;32mimport\u001b[0m \u001b[0mcancer_features_selector\u001b[0m\u001b[1;33m\u001b[0m\u001b[1;33m\u001b[0m\u001b[0m\n\u001b[1;32m----> 5\u001b[1;33m \u001b[1;32mfrom\u001b[0m \u001b[0mcancer_func\u001b[0m \u001b[1;32mimport\u001b[0m \u001b[0mreport\u001b[0m\u001b[1;33m,\u001b[0m \u001b[0mcross_validation_report\u001b[0m\u001b[1;33m\u001b[0m\u001b[1;33m\u001b[0m\u001b[0m\n\u001b[0m\u001b[0;32m      6\u001b[0m \u001b[1;32mfrom\u001b[0m \u001b[0mcancer_func\u001b[0m \u001b[1;32mimport\u001b[0m \u001b[0mcancer_encode_without_ms\u001b[0m\u001b[1;33m\u001b[0m\u001b[1;33m\u001b[0m\u001b[0m\n",
      "\u001b[1;31mImportError\u001b[0m: cannot import name 'cross_validation_report' from 'cancer_func' (C:\\Users\\yotam\\Desktop\\breast_cancer_classification\\cancer_func.py)"
     ]
    }
   ],
   "source": [
    "from cancer_func import cancer_encode\n",
    "from cancer_func import cancer_features_select\n",
    "from cancer_func import cancer_encoder\n",
    "from cancer_func import cancer_features_selector\n",
    "from cancer_func import report, cross_validation_report\n",
    "from cancer_func import cancer_encode_without_ms"
   ]
  },
  {
   "cell_type": "code",
   "execution_count": 67,
   "id": "c498a6e8",
   "metadata": {},
   "outputs": [],
   "source": [
    "from sklearn.ensemble import RandomForestClassifier"
   ]
  },
  {
   "cell_type": "code",
   "execution_count": 32,
   "id": "273c0ffd",
   "metadata": {},
   "outputs": [],
   "source": [
    "df = pd.read_csv('Breast_Cancer.csv')"
   ]
  },
  {
   "cell_type": "code",
   "execution_count": 4,
   "id": "1553578c",
   "metadata": {},
   "outputs": [
    {
     "name": "stdout",
     "output_type": "stream",
     "text": [
      "<class 'pandas.core.frame.DataFrame'>\n",
      "RangeIndex: 4024 entries, 0 to 4023\n",
      "Data columns (total 16 columns):\n",
      " #   Column                  Non-Null Count  Dtype \n",
      "---  ------                  --------------  ----- \n",
      " 0   Age                     4024 non-null   int64 \n",
      " 1   Race                    4024 non-null   object\n",
      " 2   Marital Status          4024 non-null   object\n",
      " 3   T Stage                 4024 non-null   object\n",
      " 4   N Stage                 4024 non-null   object\n",
      " 5   6th Stage               4024 non-null   object\n",
      " 6   differentiate           4024 non-null   object\n",
      " 7   Grade                   4024 non-null   object\n",
      " 8   A Stage                 4024 non-null   object\n",
      " 9   Tumor Size              4024 non-null   int64 \n",
      " 10  Estrogen Status         4024 non-null   object\n",
      " 11  Progesterone Status     4024 non-null   object\n",
      " 12  Regional Node Examined  4024 non-null   int64 \n",
      " 13  Reginol Node Positive   4024 non-null   int64 \n",
      " 14  Survival Months         4024 non-null   int64 \n",
      " 15  Status                  4024 non-null   object\n",
      "dtypes: int64(5), object(11)\n",
      "memory usage: 503.1+ KB\n"
     ]
    }
   ],
   "source": [
    "df.info()"
   ]
  },
  {
   "cell_type": "code",
   "execution_count": 77,
   "id": "45c1b74a",
   "metadata": {},
   "outputs": [
    {
     "data": {
      "image/png": "[encoded data removed]",
      "text/plain": [
       "<Figure size 800x500 with 1 Axes>"
      ]
     },
     "metadata": {},
     "output_type": "display_data"
    }
   ],
   "source": [
    "# Set the pinkish colors\n",
    "colors = ['#FFC0CB', '#FF69B4', '#FF1493']  # Pinkish colors\n",
    "\n",
    "# Group by 'Grade' and 'Race' and count the rows, specifying the desired order\n",
    "grouped_df = df.groupby(['A Stage'])['Age'].count()\n",
    "\n",
    "# Calculate the relative percentages within each grade\n",
    "#relative_percentages = grouped_df.apply(lambda x: 100 * x / x.sum(), axis=1)\n",
    "\n",
    "\n",
    "# Plot the unstacked bar graph\n",
    "ax = grouped_df.plot.bar(color=colors)\n",
    "\n",
    "# Set the style and labels for the plot\n",
    "plt.rcParams['figure.figsize'] = (8, 5)  # Adjust the figure size as desired\n",
    "plt.xlabel('A stage')\n",
    "plt.ylabel('Count')\n",
    "plt.title('A stage in our sample')\n",
    "\n",
    "# Rotate the x-axis labels\n",
    "#plt.xticks(rotation=45)\n",
    "for index,data in enumerate(df.groupby(['A Stage'])['6th Stage'].count()):\n",
    "    ax.text(x=index-0.05 , y =data+10 , s=f\"{round(data)}\" , fontdict=dict(fontsize=12))\n",
    "\n",
    "plt.show()"
   ]
  },
  {
   "cell_type": "markdown",
   "id": "48089a36",
   "metadata": {},
   "source": [
    "# starting the pipline"
   ]
  },
  {
   "cell_type": "code",
   "execution_count": 33,
   "id": "6eb0539e",
   "metadata": {},
   "outputs": [],
   "source": [
    "def f_new(y_true, y_pred):\n",
    "    precision = f1_score(y_true, y_pred)\n",
    "    recall = recall_score(y_true, y_pred)\n",
    "    if recall >0.80:\n",
    "        answer = 0.8+ f1_score(y_true, y_pred)\n",
    "        return answer\n",
    "    else:\n",
    "        return recall\n"
   ]
  },
  {
   "cell_type": "code",
   "execution_count": 34,
   "id": "e88b032f",
   "metadata": {},
   "outputs": [],
   "source": [
    "def f_new2(y_true, y_pred):\n",
    "    precision = f1_score(y_true, y_pred)\n",
    "    recall = recall_score(y_true, y_pred)\n",
    "    if recall >0.80:\n",
    "        answer = recall+ precision\n",
    "        return answer\n",
    "    else:\n",
    "        return recall\n"
   ]
  },
  {
   "cell_type": "markdown",
   "id": "903367fa",
   "metadata": {},
   "source": [
    "new pipline"
   ]
  },
  {
   "cell_type": "code",
   "execution_count": 36,
   "id": "de13d1ae",
   "metadata": {},
   "outputs": [],
   "source": [
    "df = pd.read_csv('Breast_Cancer.csv')\n",
    "df = cancer_encode_without_ms(df)\n",
    "#df = cancer_encode(df)\n",
    "df = cancer_features_select(df)\n",
    "X = df.drop(['A Stage'], axis=1, inplace=False) #sould be without  \n",
    "y = df['A Stage']"
   ]
  },
  {
   "cell_type": "code",
   "execution_count": 44,
   "id": "59b5a7aa",
   "metadata": {},
   "outputs": [],
   "source": [
    "over = SMOTE()\n",
    "scaler = StandardScaler() #אני מנסה פה להשתמש בסקלר בלי לעטוף חזרה את הנתונים בטבלת פנדה. אם זה לא יעבוד נעטוף בפונקציה נפרדת\n",
    "logistic = LogisticRegression(max_iter=100000) #צריך להגדיר את המודל \n",
    "#log_steps = [(\"encoder\",encoder),(\"selector\",selector),(\"scaler\", scaler), (\"over\", over), (\"logistic\", logistic)]\n",
    "log_steps = [(\"scaler\", scaler), (\"over\", over), (\"logistic\", logistic)]\n",
    "\n",
    "pipe_log = Pipeline(steps=log_steps)\n",
    "\n",
    "param_grid_log = {\n",
    "    \"over__sampling_strategy\": [0.1,0.2,0.3,0.5],\n",
    "    \"over__k_neighbors\": [5,6,7,8],\n",
    "    \"logistic__C\": [1,4],\n",
    "    \"logistic__class_weight\":[{0: 1, 1: 1},{0: 1, 1: 2},{0: 1, 1: 3},{0: 1, 1: 10}]\n",
    "}\n"
   ]
  },
  {
   "cell_type": "code",
   "execution_count": 8,
   "id": "d916a4b8",
   "metadata": {},
   "outputs": [
    {
     "name": "stdout",
     "output_type": "stream",
     "text": [
      "Best parameter (CV score=1.121):\n",
      "{'logistic__C': 4, 'logistic__class_weight': {0: 1, 1: 2}, 'over__k_neighbors': 7, 'over__sampling_strategy': 0.2}\n"
     ]
    }
   ],
   "source": [
    "search_new = GridSearchCV(pipe_log, param_grid_log, n_jobs=5,scoring=make_scorer(f_new))\n",
    "search_new.fit(X, y)\n",
    "print(\"Best parameter (CV score=%0.3f):\" % search_new.best_score_)\n",
    "print(search_new.best_params_)\n",
    "log_estimator_new = search_new.best_estimator_"
   ]
  },
  {
   "cell_type": "code",
   "execution_count": 45,
   "id": "9dd7cadc",
   "metadata": {},
   "outputs": [
    {
     "name": "stdout",
     "output_type": "stream",
     "text": [
      "Best parameter (CV score=1.302):\n",
      "{'logistic__C': 4, 'logistic__class_weight': {0: 1, 1: 10}, 'over__k_neighbors': 8, 'over__sampling_strategy': 0.2}\n"
     ]
    }
   ],
   "source": [
    "search_new2 = GridSearchCV(pipe_log, param_grid_log, n_jobs=5,scoring=make_scorer(f_new2))\n",
    "search_new2.fit(X, y)\n",
    "print(\"Best parameter (CV score=%0.3f):\" % search_new2.best_score_)\n",
    "print(search_new2.best_params_)\n",
    "log_estimator_new2 = search_new2.best_estimator_"
   ]
  },
  {
   "cell_type": "code",
   "execution_count": 46,
   "id": "08fb7a28",
   "metadata": {},
   "outputs": [
    {
     "name": "stdout",
     "output_type": "stream",
     "text": [
      "Mean f1, with new f :  0.296\n",
      "Mean recall, with new f : 0.978\n",
      "Mean precision, with new f : 0.175\n"
     ]
    }
   ],
   "source": [
    "cv = RepeatedStratifiedKFold(n_splits=5, n_repeats=3, random_state=1)\n",
    "scores_log = cross_validate(log_estimator_new2, X, y, scoring=['recall','f1','precision'], cv=cv, n_jobs=-1)\n",
    "print('Mean f1, with new f :  %.3f' % mean(scores_log['test_f1']))\n",
    "print('Mean recall, with new f : %.3f' % mean(scores_log['test_recall']))\n",
    "print('Mean precision, with new f : %.3f' % mean(scores_log['test_precision']))"
   ]
  },
  {
   "cell_type": "code",
   "execution_count": 64,
   "id": "2a25476c",
   "metadata": {},
   "outputs": [
    {
     "name": "stdout",
     "output_type": "stream",
     "text": [
      "Mean f1:  0.296\n",
      "Mean recall: 0.978\n",
      "Mean precision: 0.175\n",
      "cross_validation confusion matrix\n",
      "     0       1\n",
      "0  3507    425\n",
      "1   2       90\n"
     ]
    }
   ],
   "source": [
    "cross_validation_report(df,'A Stage',scores_log)"
   ]
  },
  {
   "cell_type": "code",
   "execution_count": 63,
   "id": "53132d82",
   "metadata": {},
   "outputs": [],
   "source": [
    "def cross_validation_report(df,binary_target,cv_scores):\n",
    "    print('Mean f1:  %.3f' % mean(cv_scores['test_f1']))\n",
    "    print('Mean recall: %.3f' % mean(cv_scores['test_recall']))\n",
    "    print('Mean precision: %.3f' % mean(cv_scores['test_precision']))\n",
    "    rec = mean(cv_scores['test_recall'])\n",
    "    pre = mean(cv_scores['test_precision'])\n",
    "    total_p = df.groupby([binary_target])[binary_target].count()[1]\n",
    "    total_n = df.groupby([binary_target])[binary_target].count()[0]\n",
    "    TP = rec*total_p\n",
    "    FN = (1-rec)*total_p\n",
    "    FP = ((1-pre)/pre)*TP\n",
    "    TN = total_n - FP\n",
    "    print(\"cross_validation confusion matrix\")\n",
    "    print(\"     0       1\")\n",
    "    print(\"0 \",round(TN), \"  \", round(FP))\n",
    "    print(\"1  \",round(FN), \"     \", round(TP))\n",
    "\n",
    "    \n",
    "    "
   ]
  },
  {
   "cell_type": "markdown",
   "id": "6cb06bb3",
   "metadata": {},
   "source": [
    "# evaluate pipeline\n"
   ]
  },
  {
   "cell_type": "code",
   "execution_count": 51,
   "id": "2e234f40",
   "metadata": {},
   "outputs": [
    {
     "data": {
      "text/plain": [
       "(0.0, 1.1)"
      ]
     },
     "execution_count": 51,
     "metadata": {},
     "output_type": "execute_result"
    },
    {
     "data": {
      "image/png": "[encoded data removed]",
      "text/plain": [
       "<Figure size 640x480 with 1 Axes>"
      ]
     },
     "metadata": {},
     "output_type": "display_data"
    }
   ],
   "source": [
    "fpr, tpr, thresholds = roc_curve(y, log_estimator_new.predict(X), pos_label=1)\n",
    "res = pd.DataFrame({'FPR': fpr, 'TPR': tpr, 'Threshold': thresholds})\n",
    "plt.plot(fpr, tpr)\n",
    "plt.title('ROC')\n",
    "plt.xlabel('FPR (False Positive Rate = 1-specificity)')\n",
    "plt.ylabel('TPR (True Positive Rate = sensitivity)')\n",
    "plt.xlim([-0.05, 1])\n",
    "plt.ylim([0, 1.1])"
   ]
  },
  {
   "cell_type": "markdown",
   "id": "c0cba0ae",
   "metadata": {},
   "source": [
    "# random forest"
   ]
  },
  {
   "cell_type": "markdown",
   "id": "142a9ae6",
   "metadata": {},
   "source": [
    "newes"
   ]
  },
  {
   "cell_type": "code",
   "execution_count": 68,
   "id": "bf4db944",
   "metadata": {},
   "outputs": [
    {
     "name": "stdout",
     "output_type": "stream",
     "text": [
      "Best parameter (CV score=1.296):\n",
      "{'over__k_neighbors': 8, 'over__sampling_strategy': 0.2, 'rf__class_weight': {0: 1, 1: 3}, 'rf__max_depth': 4, 'rf__min_samples_leaf': 10}\n"
     ]
    }
   ],
   "source": [
    "rf = RandomForestClassifier()\n",
    "over = SMOTE()\n",
    "scaler = StandardScaler()\n",
    "\n",
    "rf_steps = [(\"scaler\", scaler), (\"over\", over), (\"rf\", rf)]\n",
    "pipe_rf = Pipeline(steps=rf_steps)\n",
    "\n",
    "param_grid_rf = {\n",
    "    \"over__sampling_strategy\": [0.1,0.2,0.3,0.5],\n",
    "    \"over__k_neighbors\": [5,6,7,8],\n",
    "    \"rf__max_depth\": [3,4,5,6],\n",
    "    \"rf__min_samples_leaf\": [4,5,6,10],\n",
    "    \"rf__class_weight\":[{0: 1, 1: 1},{0: 1, 1: 2},{0: 1, 1: 3},{0: 1, 1: 10}]\n",
    "}\n",
    "search_rf = GridSearchCV(pipe_rf, param_grid_rf, n_jobs=5,scoring=make_scorer(f_new2))\n",
    "search_rf.fit(X, y)\n",
    "print(\"Best parameter (CV score=%0.3f):\" % search_rf.best_score_)\n",
    "print(search_rf.best_params_)\n",
    "rf_estimator =search_rf.best_estimator_\n"
   ]
  },
  {
   "cell_type": "code",
   "execution_count": 69,
   "id": "3e0b7c2e",
   "metadata": {},
   "outputs": [
    {
     "name": "stdout",
     "output_type": "stream",
     "text": [
      "Mean f1:  0.292\n",
      "Mean recall: 0.995\n",
      "Mean precision: 0.171\n",
      "cross_validation confusion matrix\n",
      "     0       1\n",
      "0  3490    442\n",
      "1   0       92\n"
     ]
    }
   ],
   "source": [
    "cv = RepeatedStratifiedKFold(n_splits=5, n_repeats=2, random_state=1)\n",
    "scores = cross_validate(rf_estimator, X, y, scoring=['recall','f1','precision'], cv=cv, n_jobs=-1)\n",
    "cross_validation_report(df,'A Stage',scores)"
   ]
  },
  {
   "cell_type": "code",
   "execution_count": 70,
   "id": "60cf02b2",
   "metadata": {},
   "outputs": [
    {
     "data": {
      "text/plain": [
       "(0.0, 1.1)"
      ]
     },
     "execution_count": 70,
     "metadata": {},
     "output_type": "execute_result"
    },
    {
     "data": {
      "image/png": "[encoded data removed]",
      "text/plain": [
       "<Figure size 640x480 with 1 Axes>"
      ]
     },
     "metadata": {},
     "output_type": "display_data"
    }
   ],
   "source": [
    "fpr, tpr, thresholds = roc_curve(y, rf_estimator.predict(X), pos_label=1)\n",
    "res = pd.DataFrame({'FPR': fpr, 'TPR': tpr, 'Threshold': thresholds})\n",
    "plt.plot(fpr, tpr)\n",
    "plt.title('ROC')\n",
    "plt.xlabel('FPR (False Positive Rate = 1-specificity)')\n",
    "plt.ylabel('TPR (True Positive Rate = sensitivity)')\n",
    "plt.xlim([-0.05, 1])\n",
    "plt.ylim([0, 1.1])"
   ]
  },
  {
   "cell_type": "code",
   "execution_count": 71,
   "id": "f5d8b631",
   "metadata": {},
   "outputs": [
    {
     "name": "stdout",
     "output_type": "stream",
     "text": [
      "feature importances: \n",
      "Age 0.22\n",
      "T Stage  9.92\n",
      "N Stage 16.95\n",
      "6th Stage 28.81\n",
      "Grade 0.98\n",
      "Tumor Size 1.72\n",
      "Estrogen Status 0.2\n",
      "Progesterone Status 0.1\n",
      "Regional Node Examined 1.03\n",
      "Reginol Node Positive 7.54\n",
      "Race_Black 0.05\n",
      "Race_Other 0.04\n",
      "Race_White 0.09\n",
      "6th Stage_IIA 2.03\n",
      "6th Stage_IIB 1.96\n",
      "6th Stage_IIIA 2.26\n",
      "6th Stage_IIIB 5.93\n",
      "6th Stage_IIIC 14.06\n",
      "Regional_Node_pos_% 5.96\n",
      "Estrogen&Progesterone positive 0.11\n",
      "Estrogen&Progesterone Negative 0.05\n"
     ]
    }
   ],
   "source": [
    "hd = list(X.columns)\n",
    "print(\"feature importances: \")\n",
    "for i, f in zip(hd, search_rf.best_estimator_.named_steps['rf'].feature_importances_):\n",
    "     print(i,round(f*100,2))"
   ]
  },
  {
   "cell_type": "markdown",
   "id": "8d87693e",
   "metadata": {},
   "source": [
    "new"
   ]
  },
  {
   "cell_type": "code",
   "execution_count": 52,
   "id": "7ed2e302",
   "metadata": {},
   "outputs": [],
   "source": [
    "rf = RandomForestClassifier()\n",
    "over = SMOTE()\n",
    "scaler = StandardScaler()\n",
    "\n",
    "rf_steps = [(\"scaler\", scaler), (\"over\", over), (\"rf\", rf)]\n",
    "pipe_rf = Pipeline(steps=rf_steps)\n",
    "\n",
    "param_grid_rf = {\n",
    "    \"over__sampling_strategy\": [0.1,0.2,0.3,0.5],\n",
    "    \"over__k_neighbors\": [5,6,7,8],\n",
    "    \"rf__max_depth\": [3,4,5,6],\n",
    "    \"rf__min_samples_leaf\": [4,5,6,10],\n",
    "    \"rf__class_weight\":[{0: 1, 1: 1},{0: 1, 1: 2},{0: 1, 1: 3},{0: 1, 1: 10}]\n",
    "}\n",
    "\n"
   ]
  },
  {
   "cell_type": "code",
   "execution_count": 53,
   "id": "c44ce238",
   "metadata": {},
   "outputs": [
    {
     "name": "stdout",
     "output_type": "stream",
     "text": [
      "Best parameter (CV score=1.111):\n",
      "{'over__k_neighbors': 8, 'over__sampling_strategy': 0.2, 'rf__class_weight': {0: 1, 1: 2}, 'rf__max_depth': 6, 'rf__min_samples_leaf': 10}\n"
     ]
    }
   ],
   "source": [
    "\n",
    "search_rf = GridSearchCV(pipe_rf, param_grid_rf, n_jobs=5,scoring=make_scorer(f_new))\n",
    "search_rf.fit(X, y)\n",
    "print(\"Best parameter (CV score=%0.3f):\" % search_rf.best_score_)\n",
    "print(search_rf.best_params_)\n",
    "rf_estimator =search_rf.best_estimator_\n",
    "#לא ברור לי איך אני יודע שהוא לא עשה הערכה גם על הנתונים שהוא המציא"
   ]
  },
  {
   "cell_type": "code",
   "execution_count": 54,
   "id": "e59f9c44",
   "metadata": {},
   "outputs": [
    {
     "name": "stdout",
     "output_type": "stream",
     "text": [
      "Mean f1:  0.302\n",
      "Mean recall: 0.854\n",
      "Mean recall: 0.184\n"
     ]
    }
   ],
   "source": [
    "cv = RepeatedStratifiedKFold(n_splits=5, n_repeats=2, random_state=1)\n",
    "scores = cross_validate(rf_estimator, X, y, scoring=['recall','f1','precision'], cv=cv, n_jobs=-1)\n",
    "print('Mean f1:  %.3f' % mean(scores['test_f1']))\n",
    "print('Mean recall: %.3f' % mean(scores['test_recall']))\n",
    "print('Mean recall: %.3f' % mean(scores['test_precision']))"
   ]
  },
  {
   "cell_type": "code",
   "execution_count": 55,
   "id": "b2c5f09f",
   "metadata": {},
   "outputs": [
    {
     "data": {
      "text/plain": [
       "(0.0, 1.1)"
      ]
     },
     "execution_count": 55,
     "metadata": {},
     "output_type": "execute_result"
    },
    {
     "data": {
      "image/png": "[encoded data removed]",
      "text/plain": [
       "<Figure size 640x480 with 1 Axes>"
      ]
     },
     "metadata": {},
     "output_type": "display_data"
    }
   ],
   "source": [
    "fpr, tpr, thresholds = roc_curve(y, rf_estimator.predict(X), pos_label=1)\n",
    "res = pd.DataFrame({'FPR': fpr, 'TPR': tpr, 'Threshold': thresholds})\n",
    "plt.plot(fpr, tpr)\n",
    "plt.title('ROC')\n",
    "plt.xlabel('FPR (False Positive Rate = 1-specificity)')\n",
    "plt.ylabel('TPR (True Positive Rate = sensitivity)')\n",
    "plt.xlim([-0.05, 1])\n",
    "plt.ylim([0, 1.1])"
   ]
  },
  {
   "cell_type": "markdown",
   "id": "61a95cad",
   "metadata": {},
   "source": [
    "old"
   ]
  },
  {
   "cell_type": "code",
   "execution_count": 13,
   "id": "233982ec",
   "metadata": {},
   "outputs": [],
   "source": [
    "rf = RandomForestClassifier()\n",
    "over = SMOTE()\n",
    "scaler = StandardScaler()\n",
    "\n",
    "rf_steps = [(\"scaler\", scaler), (\"over\", over), (\"rf\", rf)]\n",
    "pipe_rf = Pipeline(steps=rf_steps)\n",
    "\n",
    "param_grid_rf = {\n",
    "    \"over__sampling_strategy\": [0.1,0.2,0.3,0.5],\n",
    "    \"over__k_neighbors\": [5,6,7,8],\n",
    "    \"rf__max_depth\": [3,4,5,6],\n",
    "    \"rf__min_samples_leaf\": [4,5,6,10],\n",
    "    \"rf__class_weight\":[{0: 1, 1: 1},{0: 1, 1: 2},{0: 1, 1: 3},{0: 1, 1: 10}]\n",
    "}\n"
   ]
  },
  {
   "cell_type": "code",
   "execution_count": 14,
   "id": "56999fdd",
   "metadata": {},
   "outputs": [
    {
     "name": "stdout",
     "output_type": "stream",
     "text": [
      "Best parameter (CV score=0.426):\n",
      "{'over__k_neighbors': 6, 'over__sampling_strategy': 0.1, 'rf__class_weight': {0: 1, 1: 2}, 'rf__max_depth': 6, 'rf__min_samples_leaf': 10}\n"
     ]
    }
   ],
   "source": [
    "\n",
    "search_rf = GridSearchCV(pipe_rf, param_grid_rf, n_jobs=5,scoring=make_scorer(f1_recall_avg))\n",
    "search_rf.fit(X, y)\n",
    "print(\"Best parameter (CV score=%0.3f):\" % search_rf.best_score_)\n",
    "print(search_rf.best_params_)\n",
    "rf_estimator =search_rf.best_estimator_\n",
    "#לא ברור לי איך אני יודע שהוא לא עשה הערכה גם על הנתונים שהוא המציא"
   ]
  },
  {
   "cell_type": "code",
   "execution_count": 66,
   "id": "a9cdd6ed",
   "metadata": {},
   "outputs": [
    {
     "name": "stdout",
     "output_type": "stream",
     "text": [
      "Mean f1:  0.333\n",
      "Mean recall: 0.680\n"
     ]
    }
   ],
   "source": [
    "cv = RepeatedStratifiedKFold(n_splits=5, n_repeats=2, random_state=1)\n",
    "scores = cross_validate(rf_estimator, X, y, scoring=['recall','f1','precision'], cv=cv, n_jobs=-1)\n",
    "print('Mean f1:  %.3f' % mean(scores['test_f1']))\n",
    "print('Mean recall: %.3f' % mean(scores['test_recall']))\n"
   ]
  },
  {
   "cell_type": "code",
   "execution_count": 42,
   "id": "e858547d",
   "metadata": {},
   "outputs": [
    {
     "name": "stdout",
     "output_type": "stream",
     "text": [
      "feature importances: \n",
      "Age 0.63\n",
      "T Stage  17.43\n",
      "N Stage 20.79\n",
      "6th Stage 37.11\n",
      "Grade 1.22\n",
      "Tumor Size 3.87\n",
      "Estrogen Status 0.43\n",
      "Progesterone Status 0.54\n",
      "Regional Node Examined 2.22\n",
      "Reginol Node Positive 10.38\n",
      "Race_Black 0.0\n",
      "Race_Other 0.02\n",
      "Race_White 0.15\n",
      "Regional_Node_pos_% 5.21\n"
     ]
    }
   ],
   "source": [
    "hd = list(X.columns)\n",
    "print(\"feature importances: \")\n",
    "for i, f in zip(hd, search_rf.best_estimator_.named_steps['rf'].feature_importances_):\n",
    "     print(i,round(f*100,2))"
   ]
  },
  {
   "cell_type": "code",
   "execution_count": 17,
   "id": "b2dc3bbb",
   "metadata": {},
   "outputs": [
    {
     "name": "stdout",
     "output_type": "stream",
     "text": [
      "feature importances: \n",
      "Age 1.38\n",
      "T Stage  14.26\n",
      "N Stage 10.96\n",
      "6th Stage 35.42\n",
      "Grade 1.71\n",
      "Tumor Size 2.23\n",
      "Estrogen Status 0.23\n",
      "Progesterone Status 0.32\n",
      "Regional Node Examined 2.31\n",
      "Reginol Node Positive 8.29\n",
      "Race_Black 0.19\n",
      "Race_Other 0.1\n",
      "Race_White 0.4\n",
      "6th Stage_IIA 0.44\n",
      "6th Stage_IIB 0.46\n",
      "6th Stage_IIIA 0.77\n",
      "6th Stage_IIIB 6.38\n",
      "6th Stage_IIIC 8.82\n",
      "Regional_Node_pos_% 4.69\n",
      "Estrogen&Progesterone positive 0.53\n",
      "Estrogen&Progesterone Negative 0.11\n"
     ]
    }
   ],
   "source": [
    "hd = list(X.columns)\n",
    "print(\"feature importances: \")\n",
    "for i, f in zip(hd, search_rf.best_estimator_.named_steps['rf'].feature_importances_):\n",
    "     print(i,round(f*100,2))"
   ]
  },
  {
   "cell_type": "markdown",
   "id": "08483b18",
   "metadata": {},
   "source": [
    "# xgboost"
   ]
  },
  {
   "cell_type": "code",
   "execution_count": 1,
   "id": "0015583f",
   "metadata": {},
   "outputs": [
    {
     "name": "stdout",
     "output_type": "stream",
     "text": [
      "Defaulting to user installation because normal site-packages is not writeable\n",
      "Collecting xgboost\n",
      "  Downloading xgboost-1.7.5-py3-none-win_amd64.whl (70.9 MB)\n",
      "     --------------------------------------- 70.9/70.9 MB 12.8 MB/s eta 0:00:00\n",
      "Requirement already satisfied: numpy in c:\\programdata\\anaconda3\\lib\\site-packages (from xgboost) (1.21.5)\n",
      "Requirement already satisfied: scipy in c:\\programdata\\anaconda3\\lib\\site-packages (from xgboost) (1.9.1)\n",
      "Installing collected packages: xgboost\n",
      "Successfully installed xgboost-1.7.5\n"
     ]
    }
   ],
   "source": [
    "!pip install xgboost"
   ]
  },
  {
   "cell_type": "code",
   "execution_count": 2,
   "id": "92172e06",
   "metadata": {},
   "outputs": [
    {
     "name": "stdout",
     "output_type": "stream",
     "text": [
      "Defaulting to user installation because normal site-packages is not writeable\n",
      "Collecting lightgbm\n",
      "  Downloading lightgbm-3.3.5-py3-none-win_amd64.whl (1.0 MB)\n",
      "     ---------------------------------------- 1.0/1.0 MB 2.5 MB/s eta 0:00:00\n",
      "Requirement already satisfied: scikit-learn!=0.22.0 in c:\\programdata\\anaconda3\\lib\\site-packages (from lightgbm) (1.2.2)\n",
      "Requirement already satisfied: wheel in c:\\programdata\\anaconda3\\lib\\site-packages (from lightgbm) (0.37.1)\n",
      "Requirement already satisfied: numpy in c:\\programdata\\anaconda3\\lib\\site-packages (from lightgbm) (1.21.5)\n",
      "Requirement already satisfied: scipy in c:\\programdata\\anaconda3\\lib\\site-packages (from lightgbm) (1.9.1)\n",
      "Requirement already satisfied: threadpoolctl>=2.0.0 in c:\\programdata\\anaconda3\\lib\\site-packages (from scikit-learn!=0.22.0->lightgbm) (2.2.0)\n",
      "Requirement already satisfied: joblib>=1.1.1 in c:\\programdata\\anaconda3\\lib\\site-packages (from scikit-learn!=0.22.0->lightgbm) (1.2.0)\n",
      "Installing collected packages: lightgbm\n",
      "Successfully installed lightgbm-3.3.5\n"
     ]
    }
   ],
   "source": [
    "!pip install lightgbm"
   ]
  },
  {
   "cell_type": "code",
   "execution_count": 7,
   "id": "854a203f",
   "metadata": {},
   "outputs": [],
   "source": [
    "\n",
    "# check xgboost version\n",
    "import xgboost\n",
    "import lightgbm\n",
    "from lightgbm import LGBMClassifier\n",
    "from xgboost import XGBClassifier\n"
   ]
  },
  {
   "cell_type": "code",
   "execution_count": 16,
   "id": "3234c702",
   "metadata": {},
   "outputs": [],
   "source": [
    "XGB = XGBClassifier(n_estimators=700)\n",
    "over = SMOTE()\n",
    "scaler = StandardScaler() #אני מנסה פה להשתמש בסקלר בלי לעטוף חזרה את הנתונים בטבלת פנדה. אם זה לא יעבוד נעטוף בפונקציה נפרדת\n",
    "XGB_steps = [(\"scaler\", scaler), (\"over\", over), (\"XGB\", XGB)]\n",
    "pipe_XGB= Pipeline(steps=XGB_steps)\n",
    "\n",
    "param_grid_XGB = {\n",
    "    \"over__sampling_strategy\": [0.4,0.5],\n",
    "    \"over__k_neighbors\": [7,9],\n",
    "    \"XGB__max_depth\": [3,4],\n",
    "    \"XGB__scale_pos_weight\": [5,10,50,80],\n",
    "    #'XGB__subsample': [1.0],\n",
    "    #\"XGB__colsample_bytree\": [1.0],\n",
    "    \"XGB__gamma\":[ 2,3,5],\n",
    "    \"XGB__learning_rate\":[0.05,0.1,0.01],\n",
    "}"
   ]
  },
  {
   "cell_type": "code",
   "execution_count": 10,
   "id": "5bbcf1bd",
   "metadata": {
    "scrolled": true
   },
   "outputs": [
    {
     "name": "stdout",
     "output_type": "stream",
     "text": [
      "Best parameter (CV score=0.598):\n",
      "{'XGB__gamma': 2, 'XGB__learning_rate': 0.05, 'XGB__max_depth': 4, 'XGB__scale_pos_weight': 50, 'over__k_neighbors': 9, 'over__sampling_strategy': 0.5}\n"
     ]
    }
   ],
   "source": [
    "XGB_search = GridSearchCV(pipe_XGB, param_grid_XGB, n_jobs=4,scoring=make_scorer(f_new))\n",
    "XGB_search.fit(X, y)\n",
    "XGB_estimator =XGB_search.best_estimator_\n",
    "\n",
    "print(\"Best parameter (CV score=%0.3f):\" % XGB_search.best_score_)\n",
    "print(XGB_search.best_params_)"
   ]
  },
  {
   "cell_type": "code",
   "execution_count": 11,
   "id": "f324dfdc",
   "metadata": {},
   "outputs": [
    {
     "name": "stdout",
     "output_type": "stream",
     "text": [
      "Mean f1:  0.319\n",
      "Mean recall: 0.590\n",
      "Mean precision: 0.220\n"
     ]
    }
   ],
   "source": [
    "cv = RepeatedStratifiedKFold(n_splits=5, n_repeats=2, random_state=1)\n",
    "scores = cross_validate(XGB_estimator, X, y, scoring=['recall','f1','precision'], cv=cv, n_jobs=-1)\n",
    "print('Mean f1:  %.3f' % mean(scores['test_f1']))\n",
    "print('Mean recall: %.3f' % mean(scores['test_recall']))\n",
    "print('Mean precision: %.3f' % mean(scores['test_precision']))\n"
   ]
  },
  {
   "cell_type": "code",
   "execution_count": 13,
   "id": "61b7a831",
   "metadata": {},
   "outputs": [
    {
     "name": "stdout",
     "output_type": "stream",
     "text": [
      "accuracy: 0.966\n",
      "\n",
      "      0.0  1.0\n",
      "0.0  3794  138\n",
      "1.0     0   92\n",
      "\n",
      "              precision    recall  f1-score   support\n",
      "\n",
      "         0.0       1.00      0.96      0.98      3932\n",
      "         1.0       0.40      1.00      0.57        92\n",
      "\n",
      "    accuracy                           0.97      4024\n",
      "   macro avg       0.70      0.98      0.78      4024\n",
      "weighted avg       0.99      0.97      0.97      4024\n",
      "\n"
     ]
    }
   ],
   "source": [
    "print(report(XGB_search, X, y))"
   ]
  },
  {
   "cell_type": "code",
   "execution_count": 17,
   "id": "ee81d46e",
   "metadata": {},
   "outputs": [
    {
     "name": "stdout",
     "output_type": "stream",
     "text": [
      "Best parameter (CV score=1.256):\n",
      "{'XGB__gamma': 2, 'XGB__learning_rate': 0.01, 'XGB__max_depth': 3, 'XGB__scale_pos_weight': 80, 'over__k_neighbors': 9, 'over__sampling_strategy': 0.4}\n"
     ]
    }
   ],
   "source": [
    "XGB_search = GridSearchCV(pipe_XGB, param_grid_XGB, n_jobs=4,scoring=make_scorer(f_new2))\n",
    "XGB_search.fit(X, y)\n",
    "XGB_estimator =XGB_search.best_estimator_\n",
    "\n",
    "print(\"Best parameter (CV score=%0.3f):\" % XGB_search.best_score_)\n",
    "print(XGB_search.best_params_)"
   ]
  },
  {
   "cell_type": "code",
   "execution_count": 18,
   "id": "c8dcad67",
   "metadata": {},
   "outputs": [
    {
     "name": "stdout",
     "output_type": "stream",
     "text": [
      "Mean f1:  0.296\n",
      "Mean recall: 0.935\n",
      "Mean precision: 0.176\n"
     ]
    }
   ],
   "source": [
    "cv = RepeatedStratifiedKFold(n_splits=5, n_repeats=2, random_state=1)\n",
    "scores = cross_validate(XGB_estimator, X, y, scoring=['recall','f1','precision'], cv=cv, n_jobs=-1)\n",
    "print('Mean f1:  %.3f' % mean(scores['test_f1']))\n",
    "print('Mean recall: %.3f' % mean(scores['test_recall']))\n",
    "print('Mean precision: %.3f' % mean(scores['test_precision']))\n"
   ]
  },
  {
   "cell_type": "code",
   "execution_count": 19,
   "id": "b72009ca",
   "metadata": {},
   "outputs": [
    {
     "name": "stdout",
     "output_type": "stream",
     "text": [
      "accuracy: 0.899\n",
      "\n",
      "      0.0  1.0\n",
      "0.0  3525  407\n",
      "1.0     0   92\n",
      "\n",
      "              precision    recall  f1-score   support\n",
      "\n",
      "         0.0       1.00      0.90      0.95      3932\n",
      "         1.0       0.18      1.00      0.31        92\n",
      "\n",
      "    accuracy                           0.90      4024\n",
      "   macro avg       0.59      0.95      0.63      4024\n",
      "weighted avg       0.98      0.90      0.93      4024\n",
      "\n"
     ]
    }
   ],
   "source": [
    "print(report(XGB_search, X, y))"
   ]
  },
  {
   "cell_type": "code",
   "execution_count": 20,
   "id": "5841d67f",
   "metadata": {},
   "outputs": [
    {
     "name": "stdout",
     "output_type": "stream",
     "text": [
      "Best parameter (CV score=1.109):\n",
      "{'XGB__gamma': 5, 'XGB__learning_rate': 0.01, 'XGB__max_depth': 4, 'XGB__scale_pos_weight': 80, 'over__k_neighbors': 9, 'over__sampling_strategy': 0.5}\n"
     ]
    }
   ],
   "source": [
    "XGB_search = GridSearchCV(pipe_XGB, param_grid_XGB, n_jobs=4,scoring=make_scorer(f_new))\n",
    "XGB_search.fit(X, y)\n",
    "XGB_estimator =XGB_search.best_estimator_\n",
    "\n",
    "print(\"Best parameter (CV score=%0.3f):\" % XGB_search.best_score_)\n",
    "print(XGB_search.best_params_)"
   ]
  },
  {
   "cell_type": "code",
   "execution_count": 21,
   "id": "951f7fa5",
   "metadata": {},
   "outputs": [
    {
     "name": "stdout",
     "output_type": "stream",
     "text": [
      "Mean f1:  0.288\n",
      "Mean recall: 0.842\n",
      "Mean precision: 0.174\n"
     ]
    }
   ],
   "source": [
    "cv = RepeatedStratifiedKFold(n_splits=5, n_repeats=2, random_state=1)\n",
    "scores = cross_validate(XGB_estimator, X, y, scoring=['recall','f1','precision'], cv=cv, n_jobs=-1)\n",
    "print('Mean f1:  %.3f' % mean(scores['test_f1']))\n",
    "print('Mean recall: %.3f' % mean(scores['test_recall']))\n",
    "print('Mean precision: %.3f' % mean(scores['test_precision']))\n"
   ]
  },
  {
   "cell_type": "code",
   "execution_count": 23,
   "id": "e2dfc1fe",
   "metadata": {},
   "outputs": [
    {
     "data": {
      "text/plain": [
       "(0.0, 1.1)"
      ]
     },
     "execution_count": 23,
     "metadata": {},
     "output_type": "execute_result"
    },
    {
     "data": {
      "image/png": "[encoded data removed]",
      "text/plain": [
       "<Figure size 640x480 with 1 Axes>"
      ]
     },
     "metadata": {},
     "output_type": "display_data"
    }
   ],
   "source": [
    "fpr, tpr, thresholds = roc_curve(y, XGB_estimator.predict(X), pos_label=1)\n",
    "res = pd.DataFrame({'FPR': fpr, 'TPR': tpr, 'Threshold': thresholds})\n",
    "plt.plot(fpr, tpr)\n",
    "plt.title('ROC')\n",
    "plt.xlabel('FPR (False Positive Rate = 1-specificity)')\n",
    "plt.ylabel('TPR (True Positive Rate = sensitivity)')\n",
    "plt.xlim([-0.05, 1])\n",
    "plt.ylim([0, 1.1])"
   ]
  },
  {
   "cell_type": "code",
   "execution_count": 25,
   "id": "4878f14c",
   "metadata": {},
   "outputs": [],
   "source": [
    "XGB = XGBClassifier(n_estimators=700)\n",
    "over = SMOTE()\n",
    "scaler = StandardScaler() #אני מנסה פה להשתמש בסקלר בלי לעטוף חזרה את הנתונים בטבלת פנדה. אם זה לא יעבוד נעטוף בפונקציה נפרדת\n",
    "XGB_steps = [(\"scaler\", scaler), (\"over\", over), (\"XGB\", XGB)]\n",
    "pipe_XGB= Pipeline(steps=XGB_steps)\n",
    "\n",
    "param_grid_XGB = {\n",
    "    \"over__sampling_strategy\": [0.4,0.5,0.6],\n",
    "    \"over__k_neighbors\": [7,9],\n",
    "    \"XGB__max_depth\": [3,4,5],\n",
    "    \"XGB__scale_pos_weight\": [10,50,80,90],\n",
    "    'XGB__subsample': [0.8,1.0],\n",
    "    \"XGB__colsample_bytree\": [0.8,1.0],\n",
    "    \"XGB__gamma\":[ 2,3,5],\n",
    "    \"XGB__learning_rate\":[0.05,0.01]\n",
    "}"
   ]
  },
  {
   "cell_type": "code",
   "execution_count": 26,
   "id": "696e56b6",
   "metadata": {},
   "outputs": [
    {
     "name": "stdout",
     "output_type": "stream",
     "text": [
      "Best parameter (CV score=1.280):\n",
      "{'XGB__colsample_bytree': 0.8, 'XGB__gamma': 2, 'XGB__learning_rate': 0.01, 'XGB__max_depth': 3, 'XGB__scale_pos_weight': 90, 'XGB__subsample': 1.0, 'over__k_neighbors': 9, 'over__sampling_strategy': 0.5}\n"
     ]
    }
   ],
   "source": [
    "XGB_search = GridSearchCV(pipe_XGB, param_grid_XGB, n_jobs=4,scoring=make_scorer(f_new2))\n",
    "XGB_search.fit(X, y)\n",
    "XGB_estimator =XGB_search.best_estimator_\n",
    "\n",
    "print(\"Best parameter (CV score=%0.3f):\" % XGB_search.best_score_)\n",
    "print(XGB_search.best_params_)"
   ]
  },
  {
   "cell_type": "code",
   "execution_count": 27,
   "id": "fcb1a4ce",
   "metadata": {},
   "outputs": [
    {
     "name": "stdout",
     "output_type": "stream",
     "text": [
      "Mean f1:  0.294\n",
      "Mean recall: 0.940\n",
      "Mean precision: 0.174\n"
     ]
    }
   ],
   "source": [
    "cv = RepeatedStratifiedKFold(n_splits=5, n_repeats=2, random_state=1)\n",
    "scores = cross_validate(XGB_estimator, X, y, scoring=['recall','f1','precision'], cv=cv, n_jobs=-1)\n",
    "print('Mean f1:  %.3f' % mean(scores['test_f1']))\n",
    "print('Mean recall: %.3f' % mean(scores['test_recall']))\n",
    "print('Mean precision: %.3f' % mean(scores['test_precision']))\n"
   ]
  },
  {
   "cell_type": "code",
   "execution_count": 28,
   "id": "7a311925",
   "metadata": {},
   "outputs": [
    {
     "data": {
      "text/plain": [
       "(0.0, 1.1)"
      ]
     },
     "execution_count": 28,
     "metadata": {},
     "output_type": "execute_result"
    },
    {
     "data": {
      "image/png": "[encoded data removed]",
      "text/plain": [
       "<Figure size 640x480 with 1 Axes>"
      ]
     },
     "metadata": {},
     "output_type": "display_data"
    }
   ],
   "source": [
    "fpr, tpr, thresholds = roc_curve(y, XGB_estimator.predict(X), pos_label=1)\n",
    "res = pd.DataFrame({'FPR': fpr, 'TPR': tpr, 'Threshold': thresholds})\n",
    "plt.plot(fpr, tpr)\n",
    "plt.title('ROC')\n",
    "plt.xlabel('FPR (False Positive Rate = 1-specificity)')\n",
    "plt.ylabel('TPR (True Positive Rate = sensitivity)')\n",
    "plt.xlim([-0.05, 1])\n",
    "plt.ylim([0, 1.1])"
   ]
  },
  {
   "cell_type": "markdown",
   "id": "c0bd8c6c",
   "metadata": {},
   "source": [
    "# lgbm"
   ]
  },
  {
   "cell_type": "markdown",
   "id": "0de19429",
   "metadata": {},
   "source": [
    "newer"
   ]
  },
  {
   "cell_type": "code",
   "execution_count": 74,
   "id": "71750de7",
   "metadata": {},
   "outputs": [
    {
     "name": "stdout",
     "output_type": "stream",
     "text": [
      "Best parameter (CV score=1.304):\n",
      "{'LGBM__class_weight': {0: 1, 1: 5}, 'LGBM__lambda_l1': 1, 'LGBM__max_depth': 4, 'over__k_neighbors': 6, 'over__sampling_strategy': 0.3}\n"
     ]
    }
   ],
   "source": [
    "LGBM = LGBMClassifier(learning_rate=0.01)\n",
    "LGBM_steps = [(\"scaler\", scaler), (\"over\", over), (\"LGBM\", LGBM)]\n",
    "pipe_LGBM = Pipeline(steps=LGBM_steps)\n",
    "\n",
    "param_grid_LGBM = {\n",
    "    \"over__sampling_strategy\": [0.1,0.2,0.3,0.4,0.5],\n",
    "    \"over__k_neighbors\": [6,7,8],\n",
    "    \"LGBM__max_depth\": [3,4,6,7,8],\n",
    "    \"LGBM__class_weight\":[{0: 1, 1: 10},{0: 1, 1: 15},{0: 1, 1: 3},{0: 1, 1: 5},{0: 1, 1: 6}],\n",
    "     \"LGBM__lambda_l1\":[0,1,2]\n",
    "}\n",
    "LGBM_search = GridSearchCV(pipe_LGBM, param_grid_LGBM, n_jobs=5,scoring=make_scorer(f_new2))\n",
    "LGBM_search.fit(X, y)\n",
    "LGBM_estimator =LGBM_search.best_estimator_\n",
    "\n",
    "print(\"Best parameter (CV score=%0.3f):\" % LGBM_search.best_score_)\n",
    "print(LGBM_search.best_params_)"
   ]
  },
  {
   "cell_type": "code",
   "execution_count": 75,
   "id": "875aacee",
   "metadata": {},
   "outputs": [
    {
     "name": "stdout",
     "output_type": "stream",
     "text": [
      "Mean f1:  0.292\n",
      "Mean recall: 0.973\n",
      "Mean precision: 0.172\n",
      "cross_validation confusion matrix\n",
      "     0       1\n",
      "0  3501    431\n",
      "1   2       90\n"
     ]
    }
   ],
   "source": [
    "cv = RepeatedStratifiedKFold(n_splits=5, n_repeats=2, random_state=1)\n",
    "scores = cross_validate(LGBM_estimator, X, y, scoring=['recall','f1','precision'], cv=cv, n_jobs=-1)\n",
    "cross_validation_report(df,'A Stage',scores)"
   ]
  },
  {
   "cell_type": "code",
   "execution_count": 77,
   "id": "e9b287a7",
   "metadata": {},
   "outputs": [
    {
     "name": "stdout",
     "output_type": "stream",
     "text": [
      "feature importances: \n",
      "Age 41\n",
      "T Stage  183\n",
      "N Stage 0\n",
      "6th Stage 100\n",
      "Grade 89\n",
      "Tumor Size 10\n",
      "Estrogen Status 0\n",
      "Progesterone Status 0\n",
      "Regional Node Examined 71\n",
      "Reginol Node Positive 92\n",
      "Race_Black 0\n",
      "Race_Other 0\n",
      "Race_White 10\n",
      "6th Stage_IIA 0\n",
      "6th Stage_IIB 0\n",
      "6th Stage_IIIA 0\n",
      "6th Stage_IIIB 0\n",
      "6th Stage_IIIC 0\n",
      "Regional_Node_pos_% 141\n",
      "Estrogen&Progesterone positive 0\n",
      "Estrogen&Progesterone Negative 0\n"
     ]
    }
   ],
   "source": [
    "hd = list(X.columns)\n",
    "print(\"feature importances: \")\n",
    "for i, f in zip(hd, LGBM_search.best_estimator_.named_steps['LGBM'].feature_importances_):\n",
    "     print(i,round(f,2))"
   ]
  },
  {
   "cell_type": "markdown",
   "id": "07a84dd1",
   "metadata": {},
   "source": [
    "new"
   ]
  },
  {
   "cell_type": "code",
   "execution_count": null,
   "id": "00b2c7f7",
   "metadata": {},
   "outputs": [],
   "source": []
  },
  {
   "cell_type": "code",
   "execution_count": 56,
   "id": "a4eeb7d3",
   "metadata": {},
   "outputs": [],
   "source": [
    "LGBM = LGBMClassifier()\n",
    "LGBM_steps = [(\"scaler\", scaler), (\"over\", over), (\"LGBM\", LGBM)]\n",
    "pipe_LGBM = Pipeline(steps=LGBM_steps)\n",
    "\n",
    "param_grid_LGBM = {\n",
    "    \"over__sampling_strategy\": [0.1,0.2,0.3],\n",
    "    \"over__k_neighbors\": [6,7,8],\n",
    "    \"LGBM__max_depth\": [3,4,6,7,8],\n",
    "    \"LGBM__learning_rate\":[0.05,0.1,0.01],\n",
    "    \"LGBM__class_weight\":[{0: 1, 1: 10},{0: 1, 1: 2},{0: 1, 1: 3},{0: 1, 1: 5},{0: 1, 1: 6}],\n",
    "     \"LGBM__lambda_l1\":[0,1]\n",
    "}"
   ]
  },
  {
   "cell_type": "code",
   "execution_count": 58,
   "id": "f00a647e",
   "metadata": {},
   "outputs": [
    {
     "name": "stdout",
     "output_type": "stream",
     "text": [
      "Best parameter (CV score=1.133):\n",
      "{'LGBM__class_weight': {0: 1, 1: 5}, 'LGBM__lambda_l1': 0, 'LGBM__learning_rate': 0.01, 'LGBM__max_depth': 4, 'over__k_neighbors': 6, 'over__sampling_strategy': 0.1}\n"
     ]
    }
   ],
   "source": [
    "LGBM_search = GridSearchCV(pipe_LGBM, param_grid_LGBM, n_jobs=5,scoring=make_scorer(f_new))\n",
    "LGBM_search.fit(X, y)\n",
    "LGBM_estimator =LGBM_search.best_estimator_\n",
    "\n",
    "print(\"Best parameter (CV score=%0.3f):\" % LGBM_search.best_score_)\n",
    "print(LGBM_search.best_params_)"
   ]
  },
  {
   "cell_type": "code",
   "execution_count": 59,
   "id": "247a8f6f",
   "metadata": {},
   "outputs": [
    {
     "name": "stdout",
     "output_type": "stream",
     "text": [
      "Mean f1:  0.315\n",
      "Mean recall: 0.826\n",
      "Mean precision: 0.195\n"
     ]
    }
   ],
   "source": [
    "cv = RepeatedStratifiedKFold(n_splits=5, n_repeats=2, random_state=1)\n",
    "scores = cross_validate(LGBM_estimator, X, y, scoring=['recall','f1','precision'], cv=cv, n_jobs=-1)\n",
    "print('Mean f1:  %.3f' % mean(scores['test_f1']))\n",
    "print('Mean recall: %.3f' % mean(scores['test_recall']))\n",
    "print('Mean precision: %.3f' % mean(scores['test_precision']))\n"
   ]
  },
  {
   "cell_type": "code",
   "execution_count": 63,
   "id": "133c10af",
   "metadata": {},
   "outputs": [
    {
     "name": "stdout",
     "output_type": "stream",
     "text": [
      "feature importances: \n",
      "Age 171\n",
      "T Stage  194\n",
      "N Stage 15\n",
      "6th Stage 100\n",
      "Grade 118\n",
      "Tumor Size 130\n",
      "Estrogen Status 29\n",
      "Progesterone Status 22\n",
      "Regional Node Examined 173\n",
      "Reginol Node Positive 114\n",
      "Race_Black 4\n",
      "Race_Other 2\n",
      "Race_White 25\n",
      "Regional_Node_pos_% 225\n"
     ]
    }
   ],
   "source": [
    "hd = list(X.columns)\n",
    "print(\"feature importances: \")\n",
    "for i, f in zip(hd, LGBM_search_recall.best_estimator_.named_steps['LGBM'].feature_importances_):\n",
    "     print(i,round(f,2))"
   ]
  }
 ],
 "metadata": {
  "kernelspec": {
   "display_name": "Python 3 (ipykernel)",
   "language": "python",
   "name": "python3"
  },
  "language_info": {
   "codemirror_mode": {
    "name": "ipython",
    "version": 3
   },
   "file_extension": ".py",
   "mimetype": "text/x-python",
   "name": "python",
   "nbconvert_exporter": "python",
   "pygments_lexer": "ipython3",
   "version": "3.9.13"
  }
 },
 "nbformat": 4,
 "nbformat_minor": 5
}
